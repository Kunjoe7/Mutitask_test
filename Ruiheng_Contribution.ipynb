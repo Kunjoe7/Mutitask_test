{
  "cells": [
    {
      "cell_type": "markdown",
      "metadata": {
        "id": "view-in-github",
        "colab_type": "text"
      },
      "source": [
        "<a href=\"https://colab.research.google.com/github/Kunjoe7/Mutitask_test/blob/main/Ruiheng_Contribution.ipynb\" target=\"_parent\"><img src=\"https://colab.research.google.com/assets/colab-badge.svg\" alt=\"Open In Colab\"/></a>"
      ]
    },
    {
      "cell_type": "code",
      "execution_count": null,
      "metadata": {
        "colab": {
          "base_uri": "https://localhost:8080/"
        },
        "id": "8c3af191",
        "outputId": "2053a34d-6efa-4701-81f6-b0bee035b65f"
      },
      "outputs": [
        {
          "output_type": "stream",
          "name": "stdout",
          "text": [
            "Requirement already satisfied: easydict in /usr/local/lib/python3.10/dist-packages (1.13)\n",
            "Requirement already satisfied: torchtuples in /usr/local/lib/python3.10/dist-packages (0.2.2)\n",
            "Requirement already satisfied: numpy>=1.15.4 in /usr/local/lib/python3.10/dist-packages (from torchtuples) (1.25.2)\n",
            "Requirement already satisfied: pandas>=0.24.2 in /usr/local/lib/python3.10/dist-packages (from torchtuples) (2.0.3)\n",
            "Requirement already satisfied: matplotlib>=3.0.3 in /usr/local/lib/python3.10/dist-packages (from torchtuples) (3.7.1)\n",
            "Requirement already satisfied: contourpy>=1.0.1 in /usr/local/lib/python3.10/dist-packages (from matplotlib>=3.0.3->torchtuples) (1.2.1)\n",
            "Requirement already satisfied: cycler>=0.10 in /usr/local/lib/python3.10/dist-packages (from matplotlib>=3.0.3->torchtuples) (0.12.1)\n",
            "Requirement already satisfied: fonttools>=4.22.0 in /usr/local/lib/python3.10/dist-packages (from matplotlib>=3.0.3->torchtuples) (4.51.0)\n",
            "Requirement already satisfied: kiwisolver>=1.0.1 in /usr/local/lib/python3.10/dist-packages (from matplotlib>=3.0.3->torchtuples) (1.4.5)\n",
            "Requirement already satisfied: packaging>=20.0 in /usr/local/lib/python3.10/dist-packages (from matplotlib>=3.0.3->torchtuples) (24.0)\n",
            "Requirement already satisfied: pillow>=6.2.0 in /usr/local/lib/python3.10/dist-packages (from matplotlib>=3.0.3->torchtuples) (9.4.0)\n",
            "Requirement already satisfied: pyparsing>=2.3.1 in /usr/local/lib/python3.10/dist-packages (from matplotlib>=3.0.3->torchtuples) (3.1.2)\n",
            "Requirement already satisfied: python-dateutil>=2.7 in /usr/local/lib/python3.10/dist-packages (from matplotlib>=3.0.3->torchtuples) (2.8.2)\n",
            "Requirement already satisfied: pytz>=2020.1 in /usr/local/lib/python3.10/dist-packages (from pandas>=0.24.2->torchtuples) (2023.4)\n",
            "Requirement already satisfied: tzdata>=2022.1 in /usr/local/lib/python3.10/dist-packages (from pandas>=0.24.2->torchtuples) (2024.1)\n",
            "Requirement already satisfied: six>=1.5 in /usr/local/lib/python3.10/dist-packages (from python-dateutil>=2.7->matplotlib>=3.0.3->torchtuples) (1.16.0)\n"
          ]
        }
      ],
      "source": [
        "# @title\n",
        "!pip install easydict\n",
        "!pip install torchtuples\n",
        "\n",
        "import os\n",
        "import time\n",
        "import torch\n",
        "import torchtuples as tt\n",
        "import numpy as np\n",
        "import easydict\n",
        "import pandas as pd\n",
        "\n",
        "from sklearn import preprocessing\n",
        "from sklearn.preprocessing import StandardScaler\n",
        "from sklearn_pandas import DataFrameMapper\n",
        "from sklearn.model_selection import StratifiedKFold\n"
      ],
      "id": "8c3af191"
    },
    {
      "cell_type": "code",
      "execution_count": null,
      "metadata": {
        "id": "9a471981",
        "colab": {
          "base_uri": "https://localhost:8080/"
        },
        "outputId": "894bd14a-0b88-4287-aa9b-01c05a5c0583"
      },
      "outputs": [
        {
          "output_type": "stream",
          "name": "stdout",
          "text": [
            "Collecting sklearn\n",
            "  Using cached sklearn-0.0.post12.tar.gz (2.6 kB)\n",
            "  \u001b[1;31merror\u001b[0m: \u001b[1msubprocess-exited-with-error\u001b[0m\n",
            "  \n",
            "  \u001b[31m×\u001b[0m \u001b[32mpython setup.py egg_info\u001b[0m did not run successfully.\n",
            "  \u001b[31m│\u001b[0m exit code: \u001b[1;36m1\u001b[0m\n",
            "  \u001b[31m╰─>\u001b[0m See above for output.\n",
            "  \n",
            "  \u001b[1;35mnote\u001b[0m: This error originates from a subprocess, and is likely not a problem with pip.\n",
            "  Preparing metadata (setup.py) ... \u001b[?25l\u001b[?25herror\n",
            "\u001b[1;31merror\u001b[0m: \u001b[1mmetadata-generation-failed\u001b[0m\n",
            "\n",
            "\u001b[31m×\u001b[0m Encountered error while generating package metadata.\n",
            "\u001b[31m╰─>\u001b[0m See above for output.\n",
            "\n",
            "\u001b[1;35mnote\u001b[0m: This is an issue with the package mentioned above, not pip.\n",
            "\u001b[1;36mhint\u001b[0m: See above for details.\n",
            "Requirement already satisfied: scikit-learn in /usr/local/lib/python3.10/dist-packages (1.4.2)\n",
            "Requirement already satisfied: numpy>=1.19.5 in /usr/local/lib/python3.10/dist-packages (from scikit-learn) (1.25.2)\n",
            "Requirement already satisfied: scipy>=1.6.0 in /usr/local/lib/python3.10/dist-packages (from scikit-learn) (1.11.4)\n",
            "Requirement already satisfied: joblib>=1.2.0 in /usr/local/lib/python3.10/dist-packages (from scikit-learn) (1.4.0)\n",
            "Requirement already satisfied: threadpoolctl>=2.0.0 in /usr/local/lib/python3.10/dist-packages (from scikit-learn) (3.4.0)\n",
            "Requirement already satisfied: sklearn_pandas in /usr/local/lib/python3.10/dist-packages (2.2.0)\n",
            "Requirement already satisfied: scikit-learn>=0.23.0 in /usr/local/lib/python3.10/dist-packages (from sklearn_pandas) (1.4.2)\n",
            "Requirement already satisfied: scipy>=1.5.1 in /usr/local/lib/python3.10/dist-packages (from sklearn_pandas) (1.11.4)\n",
            "Requirement already satisfied: pandas>=1.1.4 in /usr/local/lib/python3.10/dist-packages (from sklearn_pandas) (2.0.3)\n",
            "Requirement already satisfied: numpy>=1.18.1 in /usr/local/lib/python3.10/dist-packages (from sklearn_pandas) (1.25.2)\n",
            "Requirement already satisfied: python-dateutil>=2.8.2 in /usr/local/lib/python3.10/dist-packages (from pandas>=1.1.4->sklearn_pandas) (2.8.2)\n",
            "Requirement already satisfied: pytz>=2020.1 in /usr/local/lib/python3.10/dist-packages (from pandas>=1.1.4->sklearn_pandas) (2023.4)\n",
            "Requirement already satisfied: tzdata>=2022.1 in /usr/local/lib/python3.10/dist-packages (from pandas>=1.1.4->sklearn_pandas) (2024.1)\n",
            "Requirement already satisfied: joblib>=1.2.0 in /usr/local/lib/python3.10/dist-packages (from scikit-learn>=0.23.0->sklearn_pandas) (1.4.0)\n",
            "Requirement already satisfied: threadpoolctl>=2.0.0 in /usr/local/lib/python3.10/dist-packages (from scikit-learn>=0.23.0->sklearn_pandas) (3.4.0)\n",
            "Requirement already satisfied: six>=1.5 in /usr/local/lib/python3.10/dist-packages (from python-dateutil>=2.8.2->pandas>=1.1.4->sklearn_pandas) (1.16.0)\n",
            "Requirement already satisfied: scikit-learn in /usr/local/lib/python3.10/dist-packages (1.4.2)\n",
            "Requirement already satisfied: numpy>=1.19.5 in /usr/local/lib/python3.10/dist-packages (from scikit-learn) (1.25.2)\n",
            "Requirement already satisfied: scipy>=1.6.0 in /usr/local/lib/python3.10/dist-packages (from scikit-learn) (1.11.4)\n",
            "Requirement already satisfied: joblib>=1.2.0 in /usr/local/lib/python3.10/dist-packages (from scikit-learn) (1.4.0)\n",
            "Requirement already satisfied: threadpoolctl>=2.0.0 in /usr/local/lib/python3.10/dist-packages (from scikit-learn) (3.4.0)\n"
          ]
        }
      ],
      "source": [
        "!pip install sklearn\n",
        "!pip install scikit-learn\n",
        "\n",
        "!pip install sklearn_pandas\n",
        "!pip install -U scikit-learn\n",
        "\n",
        "from sklearn.preprocessing import StandardScaler\n",
        "from sklearn_pandas import DataFrameMapper\n",
        "from sklearn.model_selection import StratifiedKFold\n"
      ],
      "id": "9a471981"
    },
    {
      "cell_type": "code",
      "execution_count": null,
      "metadata": {
        "id": "JrqUaXCEB9w2"
      },
      "outputs": [],
      "source": [
        "import os\n",
        "import time\n",
        "import torch\n",
        "import torchtuples as tt\n",
        "import numpy as np\n",
        "import easydict\n",
        "import pandas as pd\n",
        "\n",
        "from sklearn import preprocessing\n",
        "from sklearn.preprocessing import StandardScaler\n",
        "from sklearn_pandas import DataFrameMapper\n",
        "from sklearn.model_selection import StratifiedKFold\n"
      ],
      "id": "JrqUaXCEB9w2"
    },
    {
      "cell_type": "markdown",
      "metadata": {
        "id": "JAU6heO9PiCv"
      },
      "source": [
        "## Data Preprocessing"
      ],
      "id": "JAU6heO9PiCv"
    },
    {
      "cell_type": "code",
      "execution_count": null,
      "metadata": {
        "colab": {
          "base_uri": "https://localhost:8080/",
          "height": 76
        },
        "id": "6448cbb7",
        "outputId": "64f7cb96-3599-47ff-8eb4-cdb0de85957b"
      },
      "outputs": [
        {
          "output_type": "display_data",
          "data": {
            "text/plain": [
              "<IPython.core.display.HTML object>"
            ],
            "text/html": [
              "\n",
              "     <input type=\"file\" id=\"files-755f853b-9dc9-4edb-81f3-9709ef0078dc\" name=\"files[]\" multiple disabled\n",
              "        style=\"border:none\" />\n",
              "     <output id=\"result-755f853b-9dc9-4edb-81f3-9709ef0078dc\">\n",
              "      Upload widget is only available when the cell has been executed in the\n",
              "      current browser session. Please rerun this cell to enable.\n",
              "      </output>\n",
              "      <script>// Copyright 2017 Google LLC\n",
              "//\n",
              "// Licensed under the Apache License, Version 2.0 (the \"License\");\n",
              "// you may not use this file except in compliance with the License.\n",
              "// You may obtain a copy of the License at\n",
              "//\n",
              "//      http://www.apache.org/licenses/LICENSE-2.0\n",
              "//\n",
              "// Unless required by applicable law or agreed to in writing, software\n",
              "// distributed under the License is distributed on an \"AS IS\" BASIS,\n",
              "// WITHOUT WARRANTIES OR CONDITIONS OF ANY KIND, either express or implied.\n",
              "// See the License for the specific language governing permissions and\n",
              "// limitations under the License.\n",
              "\n",
              "/**\n",
              " * @fileoverview Helpers for google.colab Python module.\n",
              " */\n",
              "(function(scope) {\n",
              "function span(text, styleAttributes = {}) {\n",
              "  const element = document.createElement('span');\n",
              "  element.textContent = text;\n",
              "  for (const key of Object.keys(styleAttributes)) {\n",
              "    element.style[key] = styleAttributes[key];\n",
              "  }\n",
              "  return element;\n",
              "}\n",
              "\n",
              "// Max number of bytes which will be uploaded at a time.\n",
              "const MAX_PAYLOAD_SIZE = 100 * 1024;\n",
              "\n",
              "function _uploadFiles(inputId, outputId) {\n",
              "  const steps = uploadFilesStep(inputId, outputId);\n",
              "  const outputElement = document.getElementById(outputId);\n",
              "  // Cache steps on the outputElement to make it available for the next call\n",
              "  // to uploadFilesContinue from Python.\n",
              "  outputElement.steps = steps;\n",
              "\n",
              "  return _uploadFilesContinue(outputId);\n",
              "}\n",
              "\n",
              "// This is roughly an async generator (not supported in the browser yet),\n",
              "// where there are multiple asynchronous steps and the Python side is going\n",
              "// to poll for completion of each step.\n",
              "// This uses a Promise to block the python side on completion of each step,\n",
              "// then passes the result of the previous step as the input to the next step.\n",
              "function _uploadFilesContinue(outputId) {\n",
              "  const outputElement = document.getElementById(outputId);\n",
              "  const steps = outputElement.steps;\n",
              "\n",
              "  const next = steps.next(outputElement.lastPromiseValue);\n",
              "  return Promise.resolve(next.value.promise).then((value) => {\n",
              "    // Cache the last promise value to make it available to the next\n",
              "    // step of the generator.\n",
              "    outputElement.lastPromiseValue = value;\n",
              "    return next.value.response;\n",
              "  });\n",
              "}\n",
              "\n",
              "/**\n",
              " * Generator function which is called between each async step of the upload\n",
              " * process.\n",
              " * @param {string} inputId Element ID of the input file picker element.\n",
              " * @param {string} outputId Element ID of the output display.\n",
              " * @return {!Iterable<!Object>} Iterable of next steps.\n",
              " */\n",
              "function* uploadFilesStep(inputId, outputId) {\n",
              "  const inputElement = document.getElementById(inputId);\n",
              "  inputElement.disabled = false;\n",
              "\n",
              "  const outputElement = document.getElementById(outputId);\n",
              "  outputElement.innerHTML = '';\n",
              "\n",
              "  const pickedPromise = new Promise((resolve) => {\n",
              "    inputElement.addEventListener('change', (e) => {\n",
              "      resolve(e.target.files);\n",
              "    });\n",
              "  });\n",
              "\n",
              "  const cancel = document.createElement('button');\n",
              "  inputElement.parentElement.appendChild(cancel);\n",
              "  cancel.textContent = 'Cancel upload';\n",
              "  const cancelPromise = new Promise((resolve) => {\n",
              "    cancel.onclick = () => {\n",
              "      resolve(null);\n",
              "    };\n",
              "  });\n",
              "\n",
              "  // Wait for the user to pick the files.\n",
              "  const files = yield {\n",
              "    promise: Promise.race([pickedPromise, cancelPromise]),\n",
              "    response: {\n",
              "      action: 'starting',\n",
              "    }\n",
              "  };\n",
              "\n",
              "  cancel.remove();\n",
              "\n",
              "  // Disable the input element since further picks are not allowed.\n",
              "  inputElement.disabled = true;\n",
              "\n",
              "  if (!files) {\n",
              "    return {\n",
              "      response: {\n",
              "        action: 'complete',\n",
              "      }\n",
              "    };\n",
              "  }\n",
              "\n",
              "  for (const file of files) {\n",
              "    const li = document.createElement('li');\n",
              "    li.append(span(file.name, {fontWeight: 'bold'}));\n",
              "    li.append(span(\n",
              "        `(${file.type || 'n/a'}) - ${file.size} bytes, ` +\n",
              "        `last modified: ${\n",
              "            file.lastModifiedDate ? file.lastModifiedDate.toLocaleDateString() :\n",
              "                                    'n/a'} - `));\n",
              "    const percent = span('0% done');\n",
              "    li.appendChild(percent);\n",
              "\n",
              "    outputElement.appendChild(li);\n",
              "\n",
              "    const fileDataPromise = new Promise((resolve) => {\n",
              "      const reader = new FileReader();\n",
              "      reader.onload = (e) => {\n",
              "        resolve(e.target.result);\n",
              "      };\n",
              "      reader.readAsArrayBuffer(file);\n",
              "    });\n",
              "    // Wait for the data to be ready.\n",
              "    let fileData = yield {\n",
              "      promise: fileDataPromise,\n",
              "      response: {\n",
              "        action: 'continue',\n",
              "      }\n",
              "    };\n",
              "\n",
              "    // Use a chunked sending to avoid message size limits. See b/62115660.\n",
              "    let position = 0;\n",
              "    do {\n",
              "      const length = Math.min(fileData.byteLength - position, MAX_PAYLOAD_SIZE);\n",
              "      const chunk = new Uint8Array(fileData, position, length);\n",
              "      position += length;\n",
              "\n",
              "      const base64 = btoa(String.fromCharCode.apply(null, chunk));\n",
              "      yield {\n",
              "        response: {\n",
              "          action: 'append',\n",
              "          file: file.name,\n",
              "          data: base64,\n",
              "        },\n",
              "      };\n",
              "\n",
              "      let percentDone = fileData.byteLength === 0 ?\n",
              "          100 :\n",
              "          Math.round((position / fileData.byteLength) * 100);\n",
              "      percent.textContent = `${percentDone}% done`;\n",
              "\n",
              "    } while (position < fileData.byteLength);\n",
              "  }\n",
              "\n",
              "  // All done.\n",
              "  yield {\n",
              "    response: {\n",
              "      action: 'complete',\n",
              "    }\n",
              "  };\n",
              "}\n",
              "\n",
              "scope.google = scope.google || {};\n",
              "scope.google.colab = scope.google.colab || {};\n",
              "scope.google.colab._files = {\n",
              "  _uploadFiles,\n",
              "  _uploadFilesContinue,\n",
              "};\n",
              "})(self);\n",
              "</script> "
            ]
          },
          "metadata": {}
        },
        {
          "output_type": "stream",
          "name": "stdout",
          "text": [
            "Saving processdata.csv to processdata.csv\n"
          ]
        }
      ],
      "source": [
        "from google.colab import files\n",
        "uploaded = files.upload()"
      ],
      "id": "6448cbb7"
    },
    {
      "cell_type": "code",
      "execution_count": null,
      "metadata": {
        "id": "jZYs6SZ14CJ5"
      },
      "outputs": [],
      "source": [
        "df = pd.read_csv('processdata.csv', encoding='latin-1')\n",
        "data = df"
      ],
      "id": "jZYs6SZ14CJ5"
    },
    {
      "cell_type": "code",
      "execution_count": null,
      "metadata": {
        "id": "7H9WeP7SFMk0"
      },
      "outputs": [],
      "source": [
        "date_columns = ['Date.of.Last.Contact', 'Date.of.Diagnostic']\n",
        "data[date_columns] = data[date_columns].apply(pd.to_datetime, errors='coerce')\n",
        "has_na = data[date_columns].isna().any(axis=1)\n",
        "\n",
        "if has_na.any():\n",
        "#     max_last_contact_date = data['Date.of.Last.Contact'].max()\n",
        "#     data['Survival_Time'] = (max_last_contact_date - data['Date.of.Diagnostic']).dt.days\n",
        "    data['Survival_Time'] = (data['Date.of.Last.Contact'] - data['Date.of.Diagnostic']).dt.days\n",
        "else:\n",
        "    data['Survival_Time'] = (data['Date.of.Last.Contact'] - data['Date.of.Diagnostic']).dt.days"
      ],
      "id": "7H9WeP7SFMk0"
    },
    {
      "cell_type": "code",
      "execution_count": null,
      "metadata": {
        "id": "A7dCYNuBPzMG"
      },
      "outputs": [],
      "source": [
        "data['indicater'] = np.where(data['Date.of.Death'].isna(), 0, 1)\n",
        "columns_to_drop = ['Date.of.Death', 'Date.of.Last.Contact', 'Date.of.Diagnostic']\n",
        "\n",
        "\n",
        "data.drop(columns=columns_to_drop, inplace=True)"
      ],
      "id": "A7dCYNuBPzMG"
    },
    {
      "cell_type": "code",
      "execution_count": null,
      "metadata": {
        "id": "UZ7nNMT_UfyE",
        "colab": {
          "base_uri": "https://localhost:8080/"
        },
        "outputId": "6fd98853-5304-4afe-f827-f3c7250c9191"
      },
      "outputs": [
        {
          "output_type": "stream",
          "name": "stdout",
          "text": [
            "   Gender       Age  Indicator.of.Rare.Case  Survival_Time  indicater  \\\n",
            "0       1  0.283019                       0              0          1   \n",
            "1       1  0.490566                       0              0          1   \n",
            "2       1  0.698113                       0              0          1   \n",
            "3       1  0.556604                       0              0          1   \n",
            "4       0  0.122642                       0           3959          0   \n",
            "\n",
            "   RCBP.Name_RCBP BELO HORIZONTE  RCBP.Name_RCBP CAMPINAS-UNICAMP  \\\n",
            "0                          False                             True   \n",
            "1                          False                             True   \n",
            "2                          False                             True   \n",
            "3                          False                             True   \n",
            "4                          False                             True   \n",
            "\n",
            "   RCBP.Name_RCBP DISTRITO FEDERAL  RCBP.Name_RCBP DRS BARRETOS  \\\n",
            "0                            False                        False   \n",
            "1                            False                        False   \n",
            "2                            False                        False   \n",
            "3                            False                        False   \n",
            "4                            False                        False   \n",
            "\n",
            "   RCBP.Name_RCBP FORTALEZA  ...  Diagnostic.means_PESQUISA  \\\n",
            "0                     False  ...                      False   \n",
            "1                     False  ...                      False   \n",
            "2                     False  ...                      False   \n",
            "3                     False  ...                      False   \n",
            "4                     False  ...                      False   \n",
            "\n",
            "   Diagnostic.means_SDO  Diagnostic.means_other  Extension_IN SITU  \\\n",
            "0                  True                   False              False   \n",
            "1                  True                   False              False   \n",
            "2                  True                   False              False   \n",
            "3                  True                   False              False   \n",
            "4                 False                   False              False   \n",
            "\n",
            "   Extension_LOCALIZADO  Extension_MET?STASE  Extension_N?O SE APLICA  \\\n",
            "0                 False                 True                    False   \n",
            "1                 False                 True                    False   \n",
            "2                 False                False                     True   \n",
            "3                 False                 True                    False   \n",
            "4                 False                False                     True   \n",
            "\n",
            "   Type.of.Death_C?NCER  Type.of.Death_N?O C?NCER  Type.of.Death_other  \n",
            "0                  True                     False                False  \n",
            "1                  True                     False                False  \n",
            "2                  True                     False                False  \n",
            "3                  True                     False                False  \n",
            "4                 False                     False                 True  \n",
            "\n",
            "[5 rows x 140 columns]\n"
          ]
        }
      ],
      "source": [
        "import pandas as pd\n",
        "from sklearn.preprocessing import OneHotEncoder, LabelBinarizer, MinMaxScaler\n",
        "\n",
        "\n",
        "columns_to_one_hot = ['RCBP.Name', 'Raca.Color', 'State.Civil', 'Code.Profession', 'Name.Occupation', 'Status.Address',\n",
        "                      'City.Address', 'Description.of.Topography', 'Topography.Code', 'Morphology.Description',\n",
        "                      'Code.of.Morphology', 'Description.of.Disease', 'Illness.Code', 'Diagnostic.means', 'Extension',\n",
        "                      'Type.of.Death']\n",
        "\n",
        "for column in columns_to_one_hot:\n",
        "    top_9_values = data[column].value_counts().nlargest(9).index\n",
        "    data[column] = data[column].where(data[column].isin(top_9_values), 'other')\n",
        "\n",
        "data = pd.get_dummies(data, columns=columns_to_one_hot)\n",
        "\n",
        "columns_to_binarize = ['Gender', 'Indicator.of.Rare.Case']\n",
        "\n",
        "lb = LabelBinarizer()\n",
        "for column in columns_to_binarize:\n",
        "    data[column] = lb.fit_transform(data[column])\n",
        "\n",
        "scaler = MinMaxScaler()\n",
        "data['Age'] = scaler.fit_transform(data[['Age']])\n",
        "\n",
        "\n",
        "print(data.head())\n"
      ],
      "id": "UZ7nNMT_UfyE"
    },
    {
      "cell_type": "code",
      "execution_count": null,
      "metadata": {
        "id": "aZV7BiLMQvCb",
        "colab": {
          "base_uri": "https://localhost:8080/",
          "height": 290
        },
        "outputId": "9545fbfe-83a1-4fa2-edf5-623d026a325b"
      },
      "outputs": [
        {
          "output_type": "execute_result",
          "data": {
            "text/plain": [
              "   Gender       Age  Indicator.of.Rare.Case  Survival_Time  indicater  \\\n",
              "0       1  0.283019                       0              0          1   \n",
              "1       1  0.490566                       0              0          1   \n",
              "2       1  0.698113                       0              0          1   \n",
              "3       1  0.556604                       0              0          1   \n",
              "4       0  0.122642                       0           3959          0   \n",
              "\n",
              "   RCBP.Name_RCBP BELO HORIZONTE  RCBP.Name_RCBP CAMPINAS-UNICAMP  \\\n",
              "0                          False                             True   \n",
              "1                          False                             True   \n",
              "2                          False                             True   \n",
              "3                          False                             True   \n",
              "4                          False                             True   \n",
              "\n",
              "   RCBP.Name_RCBP DISTRITO FEDERAL  RCBP.Name_RCBP DRS BARRETOS  \\\n",
              "0                            False                        False   \n",
              "1                            False                        False   \n",
              "2                            False                        False   \n",
              "3                            False                        False   \n",
              "4                            False                        False   \n",
              "\n",
              "   RCBP.Name_RCBP FORTALEZA  ...  Diagnostic.means_PESQUISA  \\\n",
              "0                     False  ...                      False   \n",
              "1                     False  ...                      False   \n",
              "2                     False  ...                      False   \n",
              "3                     False  ...                      False   \n",
              "4                     False  ...                      False   \n",
              "\n",
              "   Diagnostic.means_SDO  Diagnostic.means_other  Extension_IN SITU  \\\n",
              "0                  True                   False              False   \n",
              "1                  True                   False              False   \n",
              "2                  True                   False              False   \n",
              "3                  True                   False              False   \n",
              "4                 False                   False              False   \n",
              "\n",
              "   Extension_LOCALIZADO  Extension_MET?STASE  Extension_N?O SE APLICA  \\\n",
              "0                 False                 True                    False   \n",
              "1                 False                 True                    False   \n",
              "2                 False                False                     True   \n",
              "3                 False                 True                    False   \n",
              "4                 False                False                     True   \n",
              "\n",
              "   Type.of.Death_C?NCER  Type.of.Death_N?O C?NCER  Type.of.Death_other  \n",
              "0                  True                     False                False  \n",
              "1                  True                     False                False  \n",
              "2                  True                     False                False  \n",
              "3                  True                     False                False  \n",
              "4                 False                     False                 True  \n",
              "\n",
              "[5 rows x 140 columns]"
            ],
            "text/html": [
              "\n",
              "  <div id=\"df-aa1aeb59-acc0-4872-b38f-199b312fd6f2\" class=\"colab-df-container\">\n",
              "    <div>\n",
              "<style scoped>\n",
              "    .dataframe tbody tr th:only-of-type {\n",
              "        vertical-align: middle;\n",
              "    }\n",
              "\n",
              "    .dataframe tbody tr th {\n",
              "        vertical-align: top;\n",
              "    }\n",
              "\n",
              "    .dataframe thead th {\n",
              "        text-align: right;\n",
              "    }\n",
              "</style>\n",
              "<table border=\"1\" class=\"dataframe\">\n",
              "  <thead>\n",
              "    <tr style=\"text-align: right;\">\n",
              "      <th></th>\n",
              "      <th>Gender</th>\n",
              "      <th>Age</th>\n",
              "      <th>Indicator.of.Rare.Case</th>\n",
              "      <th>Survival_Time</th>\n",
              "      <th>indicater</th>\n",
              "      <th>RCBP.Name_RCBP BELO HORIZONTE</th>\n",
              "      <th>RCBP.Name_RCBP CAMPINAS-UNICAMP</th>\n",
              "      <th>RCBP.Name_RCBP DISTRITO FEDERAL</th>\n",
              "      <th>RCBP.Name_RCBP DRS BARRETOS</th>\n",
              "      <th>RCBP.Name_RCBP FORTALEZA</th>\n",
              "      <th>...</th>\n",
              "      <th>Diagnostic.means_PESQUISA</th>\n",
              "      <th>Diagnostic.means_SDO</th>\n",
              "      <th>Diagnostic.means_other</th>\n",
              "      <th>Extension_IN SITU</th>\n",
              "      <th>Extension_LOCALIZADO</th>\n",
              "      <th>Extension_MET?STASE</th>\n",
              "      <th>Extension_N?O SE APLICA</th>\n",
              "      <th>Type.of.Death_C?NCER</th>\n",
              "      <th>Type.of.Death_N?O C?NCER</th>\n",
              "      <th>Type.of.Death_other</th>\n",
              "    </tr>\n",
              "  </thead>\n",
              "  <tbody>\n",
              "    <tr>\n",
              "      <th>0</th>\n",
              "      <td>1</td>\n",
              "      <td>0.283019</td>\n",
              "      <td>0</td>\n",
              "      <td>0</td>\n",
              "      <td>1</td>\n",
              "      <td>False</td>\n",
              "      <td>True</td>\n",
              "      <td>False</td>\n",
              "      <td>False</td>\n",
              "      <td>False</td>\n",
              "      <td>...</td>\n",
              "      <td>False</td>\n",
              "      <td>True</td>\n",
              "      <td>False</td>\n",
              "      <td>False</td>\n",
              "      <td>False</td>\n",
              "      <td>True</td>\n",
              "      <td>False</td>\n",
              "      <td>True</td>\n",
              "      <td>False</td>\n",
              "      <td>False</td>\n",
              "    </tr>\n",
              "    <tr>\n",
              "      <th>1</th>\n",
              "      <td>1</td>\n",
              "      <td>0.490566</td>\n",
              "      <td>0</td>\n",
              "      <td>0</td>\n",
              "      <td>1</td>\n",
              "      <td>False</td>\n",
              "      <td>True</td>\n",
              "      <td>False</td>\n",
              "      <td>False</td>\n",
              "      <td>False</td>\n",
              "      <td>...</td>\n",
              "      <td>False</td>\n",
              "      <td>True</td>\n",
              "      <td>False</td>\n",
              "      <td>False</td>\n",
              "      <td>False</td>\n",
              "      <td>True</td>\n",
              "      <td>False</td>\n",
              "      <td>True</td>\n",
              "      <td>False</td>\n",
              "      <td>False</td>\n",
              "    </tr>\n",
              "    <tr>\n",
              "      <th>2</th>\n",
              "      <td>1</td>\n",
              "      <td>0.698113</td>\n",
              "      <td>0</td>\n",
              "      <td>0</td>\n",
              "      <td>1</td>\n",
              "      <td>False</td>\n",
              "      <td>True</td>\n",
              "      <td>False</td>\n",
              "      <td>False</td>\n",
              "      <td>False</td>\n",
              "      <td>...</td>\n",
              "      <td>False</td>\n",
              "      <td>True</td>\n",
              "      <td>False</td>\n",
              "      <td>False</td>\n",
              "      <td>False</td>\n",
              "      <td>False</td>\n",
              "      <td>True</td>\n",
              "      <td>True</td>\n",
              "      <td>False</td>\n",
              "      <td>False</td>\n",
              "    </tr>\n",
              "    <tr>\n",
              "      <th>3</th>\n",
              "      <td>1</td>\n",
              "      <td>0.556604</td>\n",
              "      <td>0</td>\n",
              "      <td>0</td>\n",
              "      <td>1</td>\n",
              "      <td>False</td>\n",
              "      <td>True</td>\n",
              "      <td>False</td>\n",
              "      <td>False</td>\n",
              "      <td>False</td>\n",
              "      <td>...</td>\n",
              "      <td>False</td>\n",
              "      <td>True</td>\n",
              "      <td>False</td>\n",
              "      <td>False</td>\n",
              "      <td>False</td>\n",
              "      <td>True</td>\n",
              "      <td>False</td>\n",
              "      <td>True</td>\n",
              "      <td>False</td>\n",
              "      <td>False</td>\n",
              "    </tr>\n",
              "    <tr>\n",
              "      <th>4</th>\n",
              "      <td>0</td>\n",
              "      <td>0.122642</td>\n",
              "      <td>0</td>\n",
              "      <td>3959</td>\n",
              "      <td>0</td>\n",
              "      <td>False</td>\n",
              "      <td>True</td>\n",
              "      <td>False</td>\n",
              "      <td>False</td>\n",
              "      <td>False</td>\n",
              "      <td>...</td>\n",
              "      <td>False</td>\n",
              "      <td>False</td>\n",
              "      <td>False</td>\n",
              "      <td>False</td>\n",
              "      <td>False</td>\n",
              "      <td>False</td>\n",
              "      <td>True</td>\n",
              "      <td>False</td>\n",
              "      <td>False</td>\n",
              "      <td>True</td>\n",
              "    </tr>\n",
              "  </tbody>\n",
              "</table>\n",
              "<p>5 rows × 140 columns</p>\n",
              "</div>\n",
              "    <div class=\"colab-df-buttons\">\n",
              "\n",
              "  <div class=\"colab-df-container\">\n",
              "    <button class=\"colab-df-convert\" onclick=\"convertToInteractive('df-aa1aeb59-acc0-4872-b38f-199b312fd6f2')\"\n",
              "            title=\"Convert this dataframe to an interactive table.\"\n",
              "            style=\"display:none;\">\n",
              "\n",
              "  <svg xmlns=\"http://www.w3.org/2000/svg\" height=\"24px\" viewBox=\"0 -960 960 960\">\n",
              "    <path d=\"M120-120v-720h720v720H120Zm60-500h600v-160H180v160Zm220 220h160v-160H400v160Zm0 220h160v-160H400v160ZM180-400h160v-160H180v160Zm440 0h160v-160H620v160ZM180-180h160v-160H180v160Zm440 0h160v-160H620v160Z\"/>\n",
              "  </svg>\n",
              "    </button>\n",
              "\n",
              "  <style>\n",
              "    .colab-df-container {\n",
              "      display:flex;\n",
              "      gap: 12px;\n",
              "    }\n",
              "\n",
              "    .colab-df-convert {\n",
              "      background-color: #E8F0FE;\n",
              "      border: none;\n",
              "      border-radius: 50%;\n",
              "      cursor: pointer;\n",
              "      display: none;\n",
              "      fill: #1967D2;\n",
              "      height: 32px;\n",
              "      padding: 0 0 0 0;\n",
              "      width: 32px;\n",
              "    }\n",
              "\n",
              "    .colab-df-convert:hover {\n",
              "      background-color: #E2EBFA;\n",
              "      box-shadow: 0px 1px 2px rgba(60, 64, 67, 0.3), 0px 1px 3px 1px rgba(60, 64, 67, 0.15);\n",
              "      fill: #174EA6;\n",
              "    }\n",
              "\n",
              "    .colab-df-buttons div {\n",
              "      margin-bottom: 4px;\n",
              "    }\n",
              "\n",
              "    [theme=dark] .colab-df-convert {\n",
              "      background-color: #3B4455;\n",
              "      fill: #D2E3FC;\n",
              "    }\n",
              "\n",
              "    [theme=dark] .colab-df-convert:hover {\n",
              "      background-color: #434B5C;\n",
              "      box-shadow: 0px 1px 3px 1px rgba(0, 0, 0, 0.15);\n",
              "      filter: drop-shadow(0px 1px 2px rgba(0, 0, 0, 0.3));\n",
              "      fill: #FFFFFF;\n",
              "    }\n",
              "  </style>\n",
              "\n",
              "    <script>\n",
              "      const buttonEl =\n",
              "        document.querySelector('#df-aa1aeb59-acc0-4872-b38f-199b312fd6f2 button.colab-df-convert');\n",
              "      buttonEl.style.display =\n",
              "        google.colab.kernel.accessAllowed ? 'block' : 'none';\n",
              "\n",
              "      async function convertToInteractive(key) {\n",
              "        const element = document.querySelector('#df-aa1aeb59-acc0-4872-b38f-199b312fd6f2');\n",
              "        const dataTable =\n",
              "          await google.colab.kernel.invokeFunction('convertToInteractive',\n",
              "                                                    [key], {});\n",
              "        if (!dataTable) return;\n",
              "\n",
              "        const docLinkHtml = 'Like what you see? Visit the ' +\n",
              "          '<a target=\"_blank\" href=https://colab.research.google.com/notebooks/data_table.ipynb>data table notebook</a>'\n",
              "          + ' to learn more about interactive tables.';\n",
              "        element.innerHTML = '';\n",
              "        dataTable['output_type'] = 'display_data';\n",
              "        await google.colab.output.renderOutput(dataTable, element);\n",
              "        const docLink = document.createElement('div');\n",
              "        docLink.innerHTML = docLinkHtml;\n",
              "        element.appendChild(docLink);\n",
              "      }\n",
              "    </script>\n",
              "  </div>\n",
              "\n",
              "\n",
              "<div id=\"df-81264d24-aaaa-43b0-890e-9921bfbfc491\">\n",
              "  <button class=\"colab-df-quickchart\" onclick=\"quickchart('df-81264d24-aaaa-43b0-890e-9921bfbfc491')\"\n",
              "            title=\"Suggest charts\"\n",
              "            style=\"display:none;\">\n",
              "\n",
              "<svg xmlns=\"http://www.w3.org/2000/svg\" height=\"24px\"viewBox=\"0 0 24 24\"\n",
              "     width=\"24px\">\n",
              "    <g>\n",
              "        <path d=\"M19 3H5c-1.1 0-2 .9-2 2v14c0 1.1.9 2 2 2h14c1.1 0 2-.9 2-2V5c0-1.1-.9-2-2-2zM9 17H7v-7h2v7zm4 0h-2V7h2v10zm4 0h-2v-4h2v4z\"/>\n",
              "    </g>\n",
              "</svg>\n",
              "  </button>\n",
              "\n",
              "<style>\n",
              "  .colab-df-quickchart {\n",
              "      --bg-color: #E8F0FE;\n",
              "      --fill-color: #1967D2;\n",
              "      --hover-bg-color: #E2EBFA;\n",
              "      --hover-fill-color: #174EA6;\n",
              "      --disabled-fill-color: #AAA;\n",
              "      --disabled-bg-color: #DDD;\n",
              "  }\n",
              "\n",
              "  [theme=dark] .colab-df-quickchart {\n",
              "      --bg-color: #3B4455;\n",
              "      --fill-color: #D2E3FC;\n",
              "      --hover-bg-color: #434B5C;\n",
              "      --hover-fill-color: #FFFFFF;\n",
              "      --disabled-bg-color: #3B4455;\n",
              "      --disabled-fill-color: #666;\n",
              "  }\n",
              "\n",
              "  .colab-df-quickchart {\n",
              "    background-color: var(--bg-color);\n",
              "    border: none;\n",
              "    border-radius: 50%;\n",
              "    cursor: pointer;\n",
              "    display: none;\n",
              "    fill: var(--fill-color);\n",
              "    height: 32px;\n",
              "    padding: 0;\n",
              "    width: 32px;\n",
              "  }\n",
              "\n",
              "  .colab-df-quickchart:hover {\n",
              "    background-color: var(--hover-bg-color);\n",
              "    box-shadow: 0 1px 2px rgba(60, 64, 67, 0.3), 0 1px 3px 1px rgba(60, 64, 67, 0.15);\n",
              "    fill: var(--button-hover-fill-color);\n",
              "  }\n",
              "\n",
              "  .colab-df-quickchart-complete:disabled,\n",
              "  .colab-df-quickchart-complete:disabled:hover {\n",
              "    background-color: var(--disabled-bg-color);\n",
              "    fill: var(--disabled-fill-color);\n",
              "    box-shadow: none;\n",
              "  }\n",
              "\n",
              "  .colab-df-spinner {\n",
              "    border: 2px solid var(--fill-color);\n",
              "    border-color: transparent;\n",
              "    border-bottom-color: var(--fill-color);\n",
              "    animation:\n",
              "      spin 1s steps(1) infinite;\n",
              "  }\n",
              "\n",
              "  @keyframes spin {\n",
              "    0% {\n",
              "      border-color: transparent;\n",
              "      border-bottom-color: var(--fill-color);\n",
              "      border-left-color: var(--fill-color);\n",
              "    }\n",
              "    20% {\n",
              "      border-color: transparent;\n",
              "      border-left-color: var(--fill-color);\n",
              "      border-top-color: var(--fill-color);\n",
              "    }\n",
              "    30% {\n",
              "      border-color: transparent;\n",
              "      border-left-color: var(--fill-color);\n",
              "      border-top-color: var(--fill-color);\n",
              "      border-right-color: var(--fill-color);\n",
              "    }\n",
              "    40% {\n",
              "      border-color: transparent;\n",
              "      border-right-color: var(--fill-color);\n",
              "      border-top-color: var(--fill-color);\n",
              "    }\n",
              "    60% {\n",
              "      border-color: transparent;\n",
              "      border-right-color: var(--fill-color);\n",
              "    }\n",
              "    80% {\n",
              "      border-color: transparent;\n",
              "      border-right-color: var(--fill-color);\n",
              "      border-bottom-color: var(--fill-color);\n",
              "    }\n",
              "    90% {\n",
              "      border-color: transparent;\n",
              "      border-bottom-color: var(--fill-color);\n",
              "    }\n",
              "  }\n",
              "</style>\n",
              "\n",
              "  <script>\n",
              "    async function quickchart(key) {\n",
              "      const quickchartButtonEl =\n",
              "        document.querySelector('#' + key + ' button');\n",
              "      quickchartButtonEl.disabled = true;  // To prevent multiple clicks.\n",
              "      quickchartButtonEl.classList.add('colab-df-spinner');\n",
              "      try {\n",
              "        const charts = await google.colab.kernel.invokeFunction(\n",
              "            'suggestCharts', [key], {});\n",
              "      } catch (error) {\n",
              "        console.error('Error during call to suggestCharts:', error);\n",
              "      }\n",
              "      quickchartButtonEl.classList.remove('colab-df-spinner');\n",
              "      quickchartButtonEl.classList.add('colab-df-quickchart-complete');\n",
              "    }\n",
              "    (() => {\n",
              "      let quickchartButtonEl =\n",
              "        document.querySelector('#df-81264d24-aaaa-43b0-890e-9921bfbfc491 button');\n",
              "      quickchartButtonEl.style.display =\n",
              "        google.colab.kernel.accessAllowed ? 'block' : 'none';\n",
              "    })();\n",
              "  </script>\n",
              "</div>\n",
              "\n",
              "    </div>\n",
              "  </div>\n"
            ],
            "application/vnd.google.colaboratory.intrinsic+json": {
              "type": "dataframe",
              "variable_name": "data"
            }
          },
          "metadata": {},
          "execution_count": 9
        }
      ],
      "source": [
        "data.head()"
      ],
      "id": "aZV7BiLMQvCb"
    },
    {
      "cell_type": "code",
      "execution_count": null,
      "metadata": {
        "id": "fgyQVohDEYL0",
        "colab": {
          "base_uri": "https://localhost:8080/"
        },
        "outputId": "6b3852cc-bd46-41a5-bd5a-c0b7cb1b84ce"
      },
      "outputs": [
        {
          "output_type": "stream",
          "name": "stdout",
          "text": [
            "['Gender', 'Age', 'Indicator.of.Rare.Case', 'Survival_Time', 'indicater', 'RCBP.Name_RCBP BELO HORIZONTE', 'RCBP.Name_RCBP CAMPINAS-UNICAMP', 'RCBP.Name_RCBP DISTRITO FEDERAL', 'RCBP.Name_RCBP DRS BARRETOS', 'RCBP.Name_RCBP FORTALEZA', 'RCBP.Name_RCBP MANAUS', 'RCBP.Name_RCBP MATO GROSSO (INTERIOR)', 'RCBP.Name_RCBP NATAL', 'RCBP.Name_RCBP PORTO ALEGRE', 'RCBP.Name_other', 'Raca.Color_AMARELA', 'Raca.Color_BRANCO', 'Raca.Color_IND?GENA', 'Raca.Color_PARDA', 'Raca.Color_PRETA', 'Raca.Color_other', 'State.Civil_CASADO', 'State.Civil_SEPARADO JUDICIALMENTE', 'State.Civil_SOLTEIRO', 'State.Civil_UNI?O CONSENSUAL', 'State.Civil_VI?VO', 'State.Civil_other', 'Code.Profession_0.0', 'Code.Profession_111.0', 'Code.Profession_141.0', 'Code.Profession_512.0', 'Code.Profession_514.0', 'Code.Profession_516.0', 'Code.Profession_622.0', 'Code.Profession_715.0', 'Code.Profession_782.0', 'Code.Profession_other', 'Name.Occupation_CONDUTORES DE VE?CULOS E OPERADORES DE EQUIPAMENTOS DE ELEVA??O E DE MOVIMENTA??O DE CARGAS   \\t', 'Name.Occupation_GERENTES DE PRODU??O E OPERA??ES  \\t', 'Name.Occupation_MEMBROS SUPERIORES DO PODER LEGISLATIVO, EXECUTIVO E JUDICI?RIO   \\t', 'Name.Occupation_SEM INFORMA??O\\t', 'Name.Occupation_TRABALHADORES AGR?COLAS   \\t', 'Name.Occupation_TRABALHADORES DA CONSTRU??O CIVIL E OBRAS P?BLICAS\\t', 'Name.Occupation_TRABALHADORES DOS SERVI?OS DOM?STICOS EM GERAL\\t', 'Name.Occupation_TRABALHADORES NOS SERVI?OS DE ADMINISTRA??O, CONSERVA??O E MANUTEN??O DE EDIF?CIOS E LOGRADOUROS  \\t', 'Name.Occupation_TRABALHADORES NOS SERVI?OS DE EMBELEZAMENTO E CUIDADOS PESSOAIS   \\t', 'Name.Occupation_other', 'Status.Address_AMAZONAS', 'Status.Address_CEAR?', 'Status.Address_DISTRITO FEDERAL', 'Status.Address_MATO GROSSO ', 'Status.Address_MINAS GERAIS', 'Status.Address_RIO DE JANEIRO', 'Status.Address_RIO GRANDE DO NORTE', 'Status.Address_RIO GRANDE DO SUL', 'Status.Address_S?O PAULO', 'Status.Address_other', 'City.Address_BARRETOS', 'City.Address_BEBEDOURO', 'City.Address_BRAS?LIA', 'City.Address_CAMPINAS', 'City.Address_COLINA', 'City.Address_GUA?RA', 'City.Address_MONTE AZUL PAULISTA', 'City.Address_OL?MPIA', 'City.Address_VIRADOURO', 'City.Address_other', 'Description.of.Topography_COLO DO UTERO, SOE', 'Description.of.Topography_ESTOMAGO, SOE', 'Description.of.Topography_LOCALIZACAO PRIMARIA DESCONHECIDA, SOE', 'Description.of.Topography_MAMA , SOE', 'Description.of.Topography_MEDULA OSSEA', 'Description.of.Topography_PELE DE OUTRAS PARTES DA FACE', 'Description.of.Topography_PELE DO MEMBRO SUPERIOR E DO OMBRO', 'Description.of.Topography_PROSTATA, SOE', 'Description.of.Topography_PULMAO, SOE', 'Description.of.Topography_other', 'Topography.Code_C169', 'Topography.Code_C349', 'Topography.Code_C421', 'Topography.Code_C443', 'Topography.Code_C446', 'Topography.Code_C509', 'Topography.Code_C539', 'Topography.Code_C619', 'Topography.Code_C809', 'Topography.Code_other', 'Morphology.Description_ADENOCARCINOMA TUBULAR', 'Morphology.Description_ADENOCARCINOMA, SOE', 'Morphology.Description_CARCINOMA BASO CELULAR, SOE', 'Morphology.Description_CARCINOMA BASOCELULAR, SOE', 'Morphology.Description_CARCINOMA DE CELULAS ESCAMOSAS, SOE', 'Morphology.Description_CARCINOMA DUCTAL INFILTRANTE', 'Morphology.Description_CARCINOMA ESCAMOCELULAR, SOE', 'Morphology.Description_NEOPLASIA MALIGNA', 'Morphology.Description_NEOPLASMA MALIGNO', 'Morphology.Description_other', 'Code.of.Morphology_80003', 'Code.of.Morphology_80703', 'Code.of.Morphology_80903', 'Code.of.Morphology_81403', 'Code.of.Morphology_82113', 'Code.of.Morphology_85003', 'Code.of.Morphology_95903', 'Code.of.Morphology_97323', 'Code.of.Morphology_98613', 'Code.of.Morphology_other', 'Description.of.Disease_BRONQUIOS OU PULMOES, SOE', 'Description.of.Disease_COLO DO UTERO, SOE', 'Description.of.Disease_ESTOMAGO, SOE', 'Description.of.Disease_LOCALIZACAO PRIMARIA DESCONHECIDA', 'Description.of.Disease_MAMA , SOE', 'Description.of.Disease_PELE DE OUTRAS PARTES DA FACE', 'Description.of.Disease_PELE DO MEMBRO SUPERIOR E DO OMBRO', 'Description.of.Disease_PELE DO TRONCO', 'Description.of.Disease_PROSTATA', 'Description.of.Disease_other', 'Illness.Code_C169', 'Illness.Code_C349', 'Illness.Code_C443', 'Illness.Code_C445', 'Illness.Code_C446', 'Illness.Code_C509', 'Illness.Code_C61', 'Illness.Code_C80', 'Illness.Code_C859', 'Illness.Code_other', 'Diagnostic.means_CITOLOGIA', 'Diagnostic.means_CL?NICO', 'Diagnostic.means_HISTOLOGIA DO TUMOR PRIM?RIO', 'Diagnostic.means_PESQUISA', 'Diagnostic.means_SDO', 'Diagnostic.means_other', 'Extension_IN SITU', 'Extension_LOCALIZADO', 'Extension_MET?STASE', 'Extension_N?O SE APLICA', 'Type.of.Death_C?NCER', 'Type.of.Death_N?O C?NCER', 'Type.of.Death_other']\n"
          ]
        }
      ],
      "source": [
        "print(list(data.columns))"
      ],
      "id": "fgyQVohDEYL0"
    },
    {
      "cell_type": "code",
      "execution_count": null,
      "metadata": {
        "id": "7b3fce97"
      },
      "outputs": [],
      "source": [
        "# change the batch size from 1024 to 3222 to improve the performance\n",
        "# created by Xinyu modified by Jingyan\n",
        "args = easydict.EasyDict({\n",
        "    \"batch_size\": 2048,\n",
        "    \"cuda\": True, # should set it to be true when using gpu, otherwise data would be on two devices\n",
        "    \"lr\": 0.05,\n",
        "    \"seed\": 1111,\n",
        "    \"reduce_rate\": 0.95,\n",
        "    \"epochs\": 200,\n",
        "    \"clip\": 5.0,\n",
        "    \"log_interval\":10,\n",
        "})"
      ],
      "id": "7b3fce97"
    },
    {
      "cell_type": "code",
      "execution_count": null,
      "metadata": {
        "id": "f889f402"
      },
      "outputs": [],
      "source": [
        "def cycle(iterable):\n",
        "    while True:\n",
        "        for x in iterable:\n",
        "            yield x"
      ],
      "id": "f889f402"
    },
    {
      "cell_type": "code",
      "execution_count": null,
      "metadata": {
        "id": "448c8d7b"
      },
      "outputs": [],
      "source": [
        "device = torch.device(\"cuda\" if args.cuda else \"cpu\")\n",
        "dtype = torch.FloatTensor\n",
        "if torch.cuda.is_available() and args.cuda:\n",
        "    dtype = torch.cuda.FloatTensor\n",
        "\n",
        "np.random.seed(1234)\n",
        "_ = torch.manual_seed(123)"
      ],
      "id": "448c8d7b"
    },
    {
      "cell_type": "code",
      "execution_count": null,
      "metadata": {
        "id": "ZXMsPbpMfDDF",
        "colab": {
          "base_uri": "https://localhost:8080/"
        },
        "outputId": "a2e73e85-e57b-418a-bcdd-505c6aff9580"
      },
      "outputs": [
        {
          "output_type": "stream",
          "name": "stdout",
          "text": [
            "cuda\n"
          ]
        }
      ],
      "source": [
        "print(device)"
      ],
      "id": "ZXMsPbpMfDDF"
    },
    {
      "cell_type": "code",
      "execution_count": null,
      "metadata": {
        "id": "2bfcd0f4"
      },
      "outputs": [],
      "source": [
        "from sklearn import preprocessing"
      ],
      "id": "2bfcd0f4"
    },
    {
      "cell_type": "code",
      "execution_count": null,
      "metadata": {
        "id": "IwnjqGYYiR_6",
        "colab": {
          "base_uri": "https://localhost:8080/",
          "height": 478
        },
        "outputId": "5adda479-73e7-4443-973a-babf38a96b0c"
      },
      "outputs": [
        {
          "output_type": "execute_result",
          "data": {
            "text/plain": [
              "       Gender       Age  Indicator.of.Rare.Case  Survival_Time  indicater  \\\n",
              "0           1  0.283019                       0              0          1   \n",
              "1           1  0.490566                       0              0          1   \n",
              "2           1  0.698113                       0              0          1   \n",
              "3           1  0.556604                       0              0          1   \n",
              "5           0  0.754717                       0              0          1   \n",
              "...       ...       ...                     ...            ...        ...   \n",
              "14750       0  0.613208                       0           1475          1   \n",
              "14751       1  0.528302                       0           1302          1   \n",
              "14752       1  0.122642                       0            936          1   \n",
              "14753       1  0.773585                       0            420          1   \n",
              "14754       0  0.811321                       0            379          1   \n",
              "\n",
              "       RCBP.Name_RCBP BELO HORIZONTE  RCBP.Name_RCBP CAMPINAS-UNICAMP  \\\n",
              "0                              False                             True   \n",
              "1                              False                             True   \n",
              "2                              False                             True   \n",
              "3                              False                             True   \n",
              "5                              False                             True   \n",
              "...                              ...                              ...   \n",
              "14750                          False                            False   \n",
              "14751                          False                            False   \n",
              "14752                          False                            False   \n",
              "14753                          False                            False   \n",
              "14754                          False                            False   \n",
              "\n",
              "       RCBP.Name_RCBP DISTRITO FEDERAL  RCBP.Name_RCBP DRS BARRETOS  \\\n",
              "0                                False                        False   \n",
              "1                                False                        False   \n",
              "2                                False                        False   \n",
              "3                                False                        False   \n",
              "5                                False                        False   \n",
              "...                                ...                          ...   \n",
              "14750                            False                        False   \n",
              "14751                            False                        False   \n",
              "14752                            False                        False   \n",
              "14753                            False                        False   \n",
              "14754                            False                        False   \n",
              "\n",
              "       RCBP.Name_RCBP FORTALEZA  ...  Diagnostic.means_PESQUISA  \\\n",
              "0                         False  ...                      False   \n",
              "1                         False  ...                      False   \n",
              "2                         False  ...                      False   \n",
              "3                         False  ...                      False   \n",
              "5                         False  ...                      False   \n",
              "...                         ...  ...                        ...   \n",
              "14750                     False  ...                      False   \n",
              "14751                     False  ...                      False   \n",
              "14752                     False  ...                      False   \n",
              "14753                     False  ...                      False   \n",
              "14754                     False  ...                      False   \n",
              "\n",
              "       Diagnostic.means_SDO  Diagnostic.means_other  Extension_IN SITU  \\\n",
              "0                      True                   False              False   \n",
              "1                      True                   False              False   \n",
              "2                      True                   False              False   \n",
              "3                      True                   False              False   \n",
              "5                      True                   False              False   \n",
              "...                     ...                     ...                ...   \n",
              "14750                 False                   False              False   \n",
              "14751                 False                   False              False   \n",
              "14752                 False                   False              False   \n",
              "14753                 False                   False              False   \n",
              "14754                 False                   False              False   \n",
              "\n",
              "       Extension_LOCALIZADO  Extension_MET?STASE  Extension_N?O SE APLICA  \\\n",
              "0                     False                 True                    False   \n",
              "1                     False                 True                    False   \n",
              "2                     False                False                     True   \n",
              "3                     False                 True                    False   \n",
              "5                     False                False                     True   \n",
              "...                     ...                  ...                      ...   \n",
              "14750                 False                False                     True   \n",
              "14751                 False                False                     True   \n",
              "14752                 False                 True                    False   \n",
              "14753                 False                 True                    False   \n",
              "14754                 False                 True                    False   \n",
              "\n",
              "       Type.of.Death_C?NCER  Type.of.Death_N?O C?NCER  Type.of.Death_other  \n",
              "0                      True                     False                False  \n",
              "1                      True                     False                False  \n",
              "2                      True                     False                False  \n",
              "3                      True                     False                False  \n",
              "5                      True                     False                False  \n",
              "...                     ...                       ...                  ...  \n",
              "14750                  True                     False                False  \n",
              "14751                  True                     False                False  \n",
              "14752                  True                     False                False  \n",
              "14753                  True                     False                False  \n",
              "14754                  True                     False                False  \n",
              "\n",
              "[10210 rows x 140 columns]"
            ],
            "text/html": [
              "\n",
              "  <div id=\"df-d390cf7c-ff1d-4d16-8099-8df16e66bc66\" class=\"colab-df-container\">\n",
              "    <div>\n",
              "<style scoped>\n",
              "    .dataframe tbody tr th:only-of-type {\n",
              "        vertical-align: middle;\n",
              "    }\n",
              "\n",
              "    .dataframe tbody tr th {\n",
              "        vertical-align: top;\n",
              "    }\n",
              "\n",
              "    .dataframe thead th {\n",
              "        text-align: right;\n",
              "    }\n",
              "</style>\n",
              "<table border=\"1\" class=\"dataframe\">\n",
              "  <thead>\n",
              "    <tr style=\"text-align: right;\">\n",
              "      <th></th>\n",
              "      <th>Gender</th>\n",
              "      <th>Age</th>\n",
              "      <th>Indicator.of.Rare.Case</th>\n",
              "      <th>Survival_Time</th>\n",
              "      <th>indicater</th>\n",
              "      <th>RCBP.Name_RCBP BELO HORIZONTE</th>\n",
              "      <th>RCBP.Name_RCBP CAMPINAS-UNICAMP</th>\n",
              "      <th>RCBP.Name_RCBP DISTRITO FEDERAL</th>\n",
              "      <th>RCBP.Name_RCBP DRS BARRETOS</th>\n",
              "      <th>RCBP.Name_RCBP FORTALEZA</th>\n",
              "      <th>...</th>\n",
              "      <th>Diagnostic.means_PESQUISA</th>\n",
              "      <th>Diagnostic.means_SDO</th>\n",
              "      <th>Diagnostic.means_other</th>\n",
              "      <th>Extension_IN SITU</th>\n",
              "      <th>Extension_LOCALIZADO</th>\n",
              "      <th>Extension_MET?STASE</th>\n",
              "      <th>Extension_N?O SE APLICA</th>\n",
              "      <th>Type.of.Death_C?NCER</th>\n",
              "      <th>Type.of.Death_N?O C?NCER</th>\n",
              "      <th>Type.of.Death_other</th>\n",
              "    </tr>\n",
              "  </thead>\n",
              "  <tbody>\n",
              "    <tr>\n",
              "      <th>0</th>\n",
              "      <td>1</td>\n",
              "      <td>0.283019</td>\n",
              "      <td>0</td>\n",
              "      <td>0</td>\n",
              "      <td>1</td>\n",
              "      <td>False</td>\n",
              "      <td>True</td>\n",
              "      <td>False</td>\n",
              "      <td>False</td>\n",
              "      <td>False</td>\n",
              "      <td>...</td>\n",
              "      <td>False</td>\n",
              "      <td>True</td>\n",
              "      <td>False</td>\n",
              "      <td>False</td>\n",
              "      <td>False</td>\n",
              "      <td>True</td>\n",
              "      <td>False</td>\n",
              "      <td>True</td>\n",
              "      <td>False</td>\n",
              "      <td>False</td>\n",
              "    </tr>\n",
              "    <tr>\n",
              "      <th>1</th>\n",
              "      <td>1</td>\n",
              "      <td>0.490566</td>\n",
              "      <td>0</td>\n",
              "      <td>0</td>\n",
              "      <td>1</td>\n",
              "      <td>False</td>\n",
              "      <td>True</td>\n",
              "      <td>False</td>\n",
              "      <td>False</td>\n",
              "      <td>False</td>\n",
              "      <td>...</td>\n",
              "      <td>False</td>\n",
              "      <td>True</td>\n",
              "      <td>False</td>\n",
              "      <td>False</td>\n",
              "      <td>False</td>\n",
              "      <td>True</td>\n",
              "      <td>False</td>\n",
              "      <td>True</td>\n",
              "      <td>False</td>\n",
              "      <td>False</td>\n",
              "    </tr>\n",
              "    <tr>\n",
              "      <th>2</th>\n",
              "      <td>1</td>\n",
              "      <td>0.698113</td>\n",
              "      <td>0</td>\n",
              "      <td>0</td>\n",
              "      <td>1</td>\n",
              "      <td>False</td>\n",
              "      <td>True</td>\n",
              "      <td>False</td>\n",
              "      <td>False</td>\n",
              "      <td>False</td>\n",
              "      <td>...</td>\n",
              "      <td>False</td>\n",
              "      <td>True</td>\n",
              "      <td>False</td>\n",
              "      <td>False</td>\n",
              "      <td>False</td>\n",
              "      <td>False</td>\n",
              "      <td>True</td>\n",
              "      <td>True</td>\n",
              "      <td>False</td>\n",
              "      <td>False</td>\n",
              "    </tr>\n",
              "    <tr>\n",
              "      <th>3</th>\n",
              "      <td>1</td>\n",
              "      <td>0.556604</td>\n",
              "      <td>0</td>\n",
              "      <td>0</td>\n",
              "      <td>1</td>\n",
              "      <td>False</td>\n",
              "      <td>True</td>\n",
              "      <td>False</td>\n",
              "      <td>False</td>\n",
              "      <td>False</td>\n",
              "      <td>...</td>\n",
              "      <td>False</td>\n",
              "      <td>True</td>\n",
              "      <td>False</td>\n",
              "      <td>False</td>\n",
              "      <td>False</td>\n",
              "      <td>True</td>\n",
              "      <td>False</td>\n",
              "      <td>True</td>\n",
              "      <td>False</td>\n",
              "      <td>False</td>\n",
              "    </tr>\n",
              "    <tr>\n",
              "      <th>5</th>\n",
              "      <td>0</td>\n",
              "      <td>0.754717</td>\n",
              "      <td>0</td>\n",
              "      <td>0</td>\n",
              "      <td>1</td>\n",
              "      <td>False</td>\n",
              "      <td>True</td>\n",
              "      <td>False</td>\n",
              "      <td>False</td>\n",
              "      <td>False</td>\n",
              "      <td>...</td>\n",
              "      <td>False</td>\n",
              "      <td>True</td>\n",
              "      <td>False</td>\n",
              "      <td>False</td>\n",
              "      <td>False</td>\n",
              "      <td>False</td>\n",
              "      <td>True</td>\n",
              "      <td>True</td>\n",
              "      <td>False</td>\n",
              "      <td>False</td>\n",
              "    </tr>\n",
              "    <tr>\n",
              "      <th>...</th>\n",
              "      <td>...</td>\n",
              "      <td>...</td>\n",
              "      <td>...</td>\n",
              "      <td>...</td>\n",
              "      <td>...</td>\n",
              "      <td>...</td>\n",
              "      <td>...</td>\n",
              "      <td>...</td>\n",
              "      <td>...</td>\n",
              "      <td>...</td>\n",
              "      <td>...</td>\n",
              "      <td>...</td>\n",
              "      <td>...</td>\n",
              "      <td>...</td>\n",
              "      <td>...</td>\n",
              "      <td>...</td>\n",
              "      <td>...</td>\n",
              "      <td>...</td>\n",
              "      <td>...</td>\n",
              "      <td>...</td>\n",
              "      <td>...</td>\n",
              "    </tr>\n",
              "    <tr>\n",
              "      <th>14750</th>\n",
              "      <td>0</td>\n",
              "      <td>0.613208</td>\n",
              "      <td>0</td>\n",
              "      <td>1475</td>\n",
              "      <td>1</td>\n",
              "      <td>False</td>\n",
              "      <td>False</td>\n",
              "      <td>False</td>\n",
              "      <td>False</td>\n",
              "      <td>False</td>\n",
              "      <td>...</td>\n",
              "      <td>False</td>\n",
              "      <td>False</td>\n",
              "      <td>False</td>\n",
              "      <td>False</td>\n",
              "      <td>False</td>\n",
              "      <td>False</td>\n",
              "      <td>True</td>\n",
              "      <td>True</td>\n",
              "      <td>False</td>\n",
              "      <td>False</td>\n",
              "    </tr>\n",
              "    <tr>\n",
              "      <th>14751</th>\n",
              "      <td>1</td>\n",
              "      <td>0.528302</td>\n",
              "      <td>0</td>\n",
              "      <td>1302</td>\n",
              "      <td>1</td>\n",
              "      <td>False</td>\n",
              "      <td>False</td>\n",
              "      <td>False</td>\n",
              "      <td>False</td>\n",
              "      <td>False</td>\n",
              "      <td>...</td>\n",
              "      <td>False</td>\n",
              "      <td>False</td>\n",
              "      <td>False</td>\n",
              "      <td>False</td>\n",
              "      <td>False</td>\n",
              "      <td>False</td>\n",
              "      <td>True</td>\n",
              "      <td>True</td>\n",
              "      <td>False</td>\n",
              "      <td>False</td>\n",
              "    </tr>\n",
              "    <tr>\n",
              "      <th>14752</th>\n",
              "      <td>1</td>\n",
              "      <td>0.122642</td>\n",
              "      <td>0</td>\n",
              "      <td>936</td>\n",
              "      <td>1</td>\n",
              "      <td>False</td>\n",
              "      <td>False</td>\n",
              "      <td>False</td>\n",
              "      <td>False</td>\n",
              "      <td>False</td>\n",
              "      <td>...</td>\n",
              "      <td>False</td>\n",
              "      <td>False</td>\n",
              "      <td>False</td>\n",
              "      <td>False</td>\n",
              "      <td>False</td>\n",
              "      <td>True</td>\n",
              "      <td>False</td>\n",
              "      <td>True</td>\n",
              "      <td>False</td>\n",
              "      <td>False</td>\n",
              "    </tr>\n",
              "    <tr>\n",
              "      <th>14753</th>\n",
              "      <td>1</td>\n",
              "      <td>0.773585</td>\n",
              "      <td>0</td>\n",
              "      <td>420</td>\n",
              "      <td>1</td>\n",
              "      <td>False</td>\n",
              "      <td>False</td>\n",
              "      <td>False</td>\n",
              "      <td>False</td>\n",
              "      <td>False</td>\n",
              "      <td>...</td>\n",
              "      <td>False</td>\n",
              "      <td>False</td>\n",
              "      <td>False</td>\n",
              "      <td>False</td>\n",
              "      <td>False</td>\n",
              "      <td>True</td>\n",
              "      <td>False</td>\n",
              "      <td>True</td>\n",
              "      <td>False</td>\n",
              "      <td>False</td>\n",
              "    </tr>\n",
              "    <tr>\n",
              "      <th>14754</th>\n",
              "      <td>0</td>\n",
              "      <td>0.811321</td>\n",
              "      <td>0</td>\n",
              "      <td>379</td>\n",
              "      <td>1</td>\n",
              "      <td>False</td>\n",
              "      <td>False</td>\n",
              "      <td>False</td>\n",
              "      <td>False</td>\n",
              "      <td>False</td>\n",
              "      <td>...</td>\n",
              "      <td>False</td>\n",
              "      <td>False</td>\n",
              "      <td>False</td>\n",
              "      <td>False</td>\n",
              "      <td>False</td>\n",
              "      <td>True</td>\n",
              "      <td>False</td>\n",
              "      <td>True</td>\n",
              "      <td>False</td>\n",
              "      <td>False</td>\n",
              "    </tr>\n",
              "  </tbody>\n",
              "</table>\n",
              "<p>10210 rows × 140 columns</p>\n",
              "</div>\n",
              "    <div class=\"colab-df-buttons\">\n",
              "\n",
              "  <div class=\"colab-df-container\">\n",
              "    <button class=\"colab-df-convert\" onclick=\"convertToInteractive('df-d390cf7c-ff1d-4d16-8099-8df16e66bc66')\"\n",
              "            title=\"Convert this dataframe to an interactive table.\"\n",
              "            style=\"display:none;\">\n",
              "\n",
              "  <svg xmlns=\"http://www.w3.org/2000/svg\" height=\"24px\" viewBox=\"0 -960 960 960\">\n",
              "    <path d=\"M120-120v-720h720v720H120Zm60-500h600v-160H180v160Zm220 220h160v-160H400v160Zm0 220h160v-160H400v160ZM180-400h160v-160H180v160Zm440 0h160v-160H620v160ZM180-180h160v-160H180v160Zm440 0h160v-160H620v160Z\"/>\n",
              "  </svg>\n",
              "    </button>\n",
              "\n",
              "  <style>\n",
              "    .colab-df-container {\n",
              "      display:flex;\n",
              "      gap: 12px;\n",
              "    }\n",
              "\n",
              "    .colab-df-convert {\n",
              "      background-color: #E8F0FE;\n",
              "      border: none;\n",
              "      border-radius: 50%;\n",
              "      cursor: pointer;\n",
              "      display: none;\n",
              "      fill: #1967D2;\n",
              "      height: 32px;\n",
              "      padding: 0 0 0 0;\n",
              "      width: 32px;\n",
              "    }\n",
              "\n",
              "    .colab-df-convert:hover {\n",
              "      background-color: #E2EBFA;\n",
              "      box-shadow: 0px 1px 2px rgba(60, 64, 67, 0.3), 0px 1px 3px 1px rgba(60, 64, 67, 0.15);\n",
              "      fill: #174EA6;\n",
              "    }\n",
              "\n",
              "    .colab-df-buttons div {\n",
              "      margin-bottom: 4px;\n",
              "    }\n",
              "\n",
              "    [theme=dark] .colab-df-convert {\n",
              "      background-color: #3B4455;\n",
              "      fill: #D2E3FC;\n",
              "    }\n",
              "\n",
              "    [theme=dark] .colab-df-convert:hover {\n",
              "      background-color: #434B5C;\n",
              "      box-shadow: 0px 1px 3px 1px rgba(0, 0, 0, 0.15);\n",
              "      filter: drop-shadow(0px 1px 2px rgba(0, 0, 0, 0.3));\n",
              "      fill: #FFFFFF;\n",
              "    }\n",
              "  </style>\n",
              "\n",
              "    <script>\n",
              "      const buttonEl =\n",
              "        document.querySelector('#df-d390cf7c-ff1d-4d16-8099-8df16e66bc66 button.colab-df-convert');\n",
              "      buttonEl.style.display =\n",
              "        google.colab.kernel.accessAllowed ? 'block' : 'none';\n",
              "\n",
              "      async function convertToInteractive(key) {\n",
              "        const element = document.querySelector('#df-d390cf7c-ff1d-4d16-8099-8df16e66bc66');\n",
              "        const dataTable =\n",
              "          await google.colab.kernel.invokeFunction('convertToInteractive',\n",
              "                                                    [key], {});\n",
              "        if (!dataTable) return;\n",
              "\n",
              "        const docLinkHtml = 'Like what you see? Visit the ' +\n",
              "          '<a target=\"_blank\" href=https://colab.research.google.com/notebooks/data_table.ipynb>data table notebook</a>'\n",
              "          + ' to learn more about interactive tables.';\n",
              "        element.innerHTML = '';\n",
              "        dataTable['output_type'] = 'display_data';\n",
              "        await google.colab.output.renderOutput(dataTable, element);\n",
              "        const docLink = document.createElement('div');\n",
              "        docLink.innerHTML = docLinkHtml;\n",
              "        element.appendChild(docLink);\n",
              "      }\n",
              "    </script>\n",
              "  </div>\n",
              "\n",
              "\n",
              "<div id=\"df-a68baa36-fb38-4d68-a7e5-ced91c8701f6\">\n",
              "  <button class=\"colab-df-quickchart\" onclick=\"quickchart('df-a68baa36-fb38-4d68-a7e5-ced91c8701f6')\"\n",
              "            title=\"Suggest charts\"\n",
              "            style=\"display:none;\">\n",
              "\n",
              "<svg xmlns=\"http://www.w3.org/2000/svg\" height=\"24px\"viewBox=\"0 0 24 24\"\n",
              "     width=\"24px\">\n",
              "    <g>\n",
              "        <path d=\"M19 3H5c-1.1 0-2 .9-2 2v14c0 1.1.9 2 2 2h14c1.1 0 2-.9 2-2V5c0-1.1-.9-2-2-2zM9 17H7v-7h2v7zm4 0h-2V7h2v10zm4 0h-2v-4h2v4z\"/>\n",
              "    </g>\n",
              "</svg>\n",
              "  </button>\n",
              "\n",
              "<style>\n",
              "  .colab-df-quickchart {\n",
              "      --bg-color: #E8F0FE;\n",
              "      --fill-color: #1967D2;\n",
              "      --hover-bg-color: #E2EBFA;\n",
              "      --hover-fill-color: #174EA6;\n",
              "      --disabled-fill-color: #AAA;\n",
              "      --disabled-bg-color: #DDD;\n",
              "  }\n",
              "\n",
              "  [theme=dark] .colab-df-quickchart {\n",
              "      --bg-color: #3B4455;\n",
              "      --fill-color: #D2E3FC;\n",
              "      --hover-bg-color: #434B5C;\n",
              "      --hover-fill-color: #FFFFFF;\n",
              "      --disabled-bg-color: #3B4455;\n",
              "      --disabled-fill-color: #666;\n",
              "  }\n",
              "\n",
              "  .colab-df-quickchart {\n",
              "    background-color: var(--bg-color);\n",
              "    border: none;\n",
              "    border-radius: 50%;\n",
              "    cursor: pointer;\n",
              "    display: none;\n",
              "    fill: var(--fill-color);\n",
              "    height: 32px;\n",
              "    padding: 0;\n",
              "    width: 32px;\n",
              "  }\n",
              "\n",
              "  .colab-df-quickchart:hover {\n",
              "    background-color: var(--hover-bg-color);\n",
              "    box-shadow: 0 1px 2px rgba(60, 64, 67, 0.3), 0 1px 3px 1px rgba(60, 64, 67, 0.15);\n",
              "    fill: var(--button-hover-fill-color);\n",
              "  }\n",
              "\n",
              "  .colab-df-quickchart-complete:disabled,\n",
              "  .colab-df-quickchart-complete:disabled:hover {\n",
              "    background-color: var(--disabled-bg-color);\n",
              "    fill: var(--disabled-fill-color);\n",
              "    box-shadow: none;\n",
              "  }\n",
              "\n",
              "  .colab-df-spinner {\n",
              "    border: 2px solid var(--fill-color);\n",
              "    border-color: transparent;\n",
              "    border-bottom-color: var(--fill-color);\n",
              "    animation:\n",
              "      spin 1s steps(1) infinite;\n",
              "  }\n",
              "\n",
              "  @keyframes spin {\n",
              "    0% {\n",
              "      border-color: transparent;\n",
              "      border-bottom-color: var(--fill-color);\n",
              "      border-left-color: var(--fill-color);\n",
              "    }\n",
              "    20% {\n",
              "      border-color: transparent;\n",
              "      border-left-color: var(--fill-color);\n",
              "      border-top-color: var(--fill-color);\n",
              "    }\n",
              "    30% {\n",
              "      border-color: transparent;\n",
              "      border-left-color: var(--fill-color);\n",
              "      border-top-color: var(--fill-color);\n",
              "      border-right-color: var(--fill-color);\n",
              "    }\n",
              "    40% {\n",
              "      border-color: transparent;\n",
              "      border-right-color: var(--fill-color);\n",
              "      border-top-color: var(--fill-color);\n",
              "    }\n",
              "    60% {\n",
              "      border-color: transparent;\n",
              "      border-right-color: var(--fill-color);\n",
              "    }\n",
              "    80% {\n",
              "      border-color: transparent;\n",
              "      border-right-color: var(--fill-color);\n",
              "      border-bottom-color: var(--fill-color);\n",
              "    }\n",
              "    90% {\n",
              "      border-color: transparent;\n",
              "      border-bottom-color: var(--fill-color);\n",
              "    }\n",
              "  }\n",
              "</style>\n",
              "\n",
              "  <script>\n",
              "    async function quickchart(key) {\n",
              "      const quickchartButtonEl =\n",
              "        document.querySelector('#' + key + ' button');\n",
              "      quickchartButtonEl.disabled = true;  // To prevent multiple clicks.\n",
              "      quickchartButtonEl.classList.add('colab-df-spinner');\n",
              "      try {\n",
              "        const charts = await google.colab.kernel.invokeFunction(\n",
              "            'suggestCharts', [key], {});\n",
              "      } catch (error) {\n",
              "        console.error('Error during call to suggestCharts:', error);\n",
              "      }\n",
              "      quickchartButtonEl.classList.remove('colab-df-spinner');\n",
              "      quickchartButtonEl.classList.add('colab-df-quickchart-complete');\n",
              "    }\n",
              "    (() => {\n",
              "      let quickchartButtonEl =\n",
              "        document.querySelector('#df-a68baa36-fb38-4d68-a7e5-ced91c8701f6 button');\n",
              "      quickchartButtonEl.style.display =\n",
              "        google.colab.kernel.accessAllowed ? 'block' : 'none';\n",
              "    })();\n",
              "  </script>\n",
              "</div>\n",
              "\n",
              "    </div>\n",
              "  </div>\n"
            ],
            "application/vnd.google.colaboratory.intrinsic+json": {
              "type": "dataframe"
            }
          },
          "metadata": {},
          "execution_count": 16
        }
      ],
      "source": [
        "data[data['indicater']==1]"
      ],
      "id": "IwnjqGYYiR_6"
    },
    {
      "cell_type": "code",
      "execution_count": null,
      "metadata": {
        "id": "ae2a54ae"
      },
      "outputs": [],
      "source": [
        "X = data.drop(['Survival_Time', 'indicater'], axis=1)\n",
        "time_all = data['Survival_Time'].values\n",
        "event_all = data['indicater'].values"
      ],
      "id": "ae2a54ae"
    },
    {
      "cell_type": "code",
      "execution_count": null,
      "metadata": {
        "id": "Ec-N3gTIaDXP",
        "colab": {
          "base_uri": "https://localhost:8080/",
          "height": 478
        },
        "outputId": "8ef7acb9-8df3-4842-e9a2-408750442373"
      },
      "outputs": [
        {
          "output_type": "execute_result",
          "data": {
            "text/plain": [
              "       Gender       Age  Indicator.of.Rare.Case  \\\n",
              "0           1  0.283019                       0   \n",
              "1           1  0.490566                       0   \n",
              "2           1  0.698113                       0   \n",
              "3           1  0.556604                       0   \n",
              "4           0  0.122642                       0   \n",
              "...       ...       ...                     ...   \n",
              "14750       0  0.613208                       0   \n",
              "14751       1  0.528302                       0   \n",
              "14752       1  0.122642                       0   \n",
              "14753       1  0.773585                       0   \n",
              "14754       0  0.811321                       0   \n",
              "\n",
              "       RCBP.Name_RCBP BELO HORIZONTE  RCBP.Name_RCBP CAMPINAS-UNICAMP  \\\n",
              "0                              False                             True   \n",
              "1                              False                             True   \n",
              "2                              False                             True   \n",
              "3                              False                             True   \n",
              "4                              False                             True   \n",
              "...                              ...                              ...   \n",
              "14750                          False                            False   \n",
              "14751                          False                            False   \n",
              "14752                          False                            False   \n",
              "14753                          False                            False   \n",
              "14754                          False                            False   \n",
              "\n",
              "       RCBP.Name_RCBP DISTRITO FEDERAL  RCBP.Name_RCBP DRS BARRETOS  \\\n",
              "0                                False                        False   \n",
              "1                                False                        False   \n",
              "2                                False                        False   \n",
              "3                                False                        False   \n",
              "4                                False                        False   \n",
              "...                                ...                          ...   \n",
              "14750                            False                        False   \n",
              "14751                            False                        False   \n",
              "14752                            False                        False   \n",
              "14753                            False                        False   \n",
              "14754                            False                        False   \n",
              "\n",
              "       RCBP.Name_RCBP FORTALEZA  RCBP.Name_RCBP MANAUS  \\\n",
              "0                         False                  False   \n",
              "1                         False                  False   \n",
              "2                         False                  False   \n",
              "3                         False                  False   \n",
              "4                         False                  False   \n",
              "...                         ...                    ...   \n",
              "14750                     False                  False   \n",
              "14751                     False                  False   \n",
              "14752                     False                  False   \n",
              "14753                     False                  False   \n",
              "14754                     False                  False   \n",
              "\n",
              "       RCBP.Name_RCBP MATO GROSSO (INTERIOR)  ...  Diagnostic.means_PESQUISA  \\\n",
              "0                                      False  ...                      False   \n",
              "1                                      False  ...                      False   \n",
              "2                                      False  ...                      False   \n",
              "3                                      False  ...                      False   \n",
              "4                                      False  ...                      False   \n",
              "...                                      ...  ...                        ...   \n",
              "14750                                  False  ...                      False   \n",
              "14751                                  False  ...                      False   \n",
              "14752                                  False  ...                      False   \n",
              "14753                                  False  ...                      False   \n",
              "14754                                  False  ...                      False   \n",
              "\n",
              "       Diagnostic.means_SDO  Diagnostic.means_other  Extension_IN SITU  \\\n",
              "0                      True                   False              False   \n",
              "1                      True                   False              False   \n",
              "2                      True                   False              False   \n",
              "3                      True                   False              False   \n",
              "4                     False                   False              False   \n",
              "...                     ...                     ...                ...   \n",
              "14750                 False                   False              False   \n",
              "14751                 False                   False              False   \n",
              "14752                 False                   False              False   \n",
              "14753                 False                   False              False   \n",
              "14754                 False                   False              False   \n",
              "\n",
              "       Extension_LOCALIZADO  Extension_MET?STASE  Extension_N?O SE APLICA  \\\n",
              "0                     False                 True                    False   \n",
              "1                     False                 True                    False   \n",
              "2                     False                False                     True   \n",
              "3                     False                 True                    False   \n",
              "4                     False                False                     True   \n",
              "...                     ...                  ...                      ...   \n",
              "14750                 False                False                     True   \n",
              "14751                 False                False                     True   \n",
              "14752                 False                 True                    False   \n",
              "14753                 False                 True                    False   \n",
              "14754                 False                 True                    False   \n",
              "\n",
              "       Type.of.Death_C?NCER  Type.of.Death_N?O C?NCER  Type.of.Death_other  \n",
              "0                      True                     False                False  \n",
              "1                      True                     False                False  \n",
              "2                      True                     False                False  \n",
              "3                      True                     False                False  \n",
              "4                     False                     False                 True  \n",
              "...                     ...                       ...                  ...  \n",
              "14750                  True                     False                False  \n",
              "14751                  True                     False                False  \n",
              "14752                  True                     False                False  \n",
              "14753                  True                     False                False  \n",
              "14754                  True                     False                False  \n",
              "\n",
              "[14755 rows x 138 columns]"
            ],
            "text/html": [
              "\n",
              "  <div id=\"df-7c557071-5186-4b19-b971-24a1cf069f68\" class=\"colab-df-container\">\n",
              "    <div>\n",
              "<style scoped>\n",
              "    .dataframe tbody tr th:only-of-type {\n",
              "        vertical-align: middle;\n",
              "    }\n",
              "\n",
              "    .dataframe tbody tr th {\n",
              "        vertical-align: top;\n",
              "    }\n",
              "\n",
              "    .dataframe thead th {\n",
              "        text-align: right;\n",
              "    }\n",
              "</style>\n",
              "<table border=\"1\" class=\"dataframe\">\n",
              "  <thead>\n",
              "    <tr style=\"text-align: right;\">\n",
              "      <th></th>\n",
              "      <th>Gender</th>\n",
              "      <th>Age</th>\n",
              "      <th>Indicator.of.Rare.Case</th>\n",
              "      <th>RCBP.Name_RCBP BELO HORIZONTE</th>\n",
              "      <th>RCBP.Name_RCBP CAMPINAS-UNICAMP</th>\n",
              "      <th>RCBP.Name_RCBP DISTRITO FEDERAL</th>\n",
              "      <th>RCBP.Name_RCBP DRS BARRETOS</th>\n",
              "      <th>RCBP.Name_RCBP FORTALEZA</th>\n",
              "      <th>RCBP.Name_RCBP MANAUS</th>\n",
              "      <th>RCBP.Name_RCBP MATO GROSSO (INTERIOR)</th>\n",
              "      <th>...</th>\n",
              "      <th>Diagnostic.means_PESQUISA</th>\n",
              "      <th>Diagnostic.means_SDO</th>\n",
              "      <th>Diagnostic.means_other</th>\n",
              "      <th>Extension_IN SITU</th>\n",
              "      <th>Extension_LOCALIZADO</th>\n",
              "      <th>Extension_MET?STASE</th>\n",
              "      <th>Extension_N?O SE APLICA</th>\n",
              "      <th>Type.of.Death_C?NCER</th>\n",
              "      <th>Type.of.Death_N?O C?NCER</th>\n",
              "      <th>Type.of.Death_other</th>\n",
              "    </tr>\n",
              "  </thead>\n",
              "  <tbody>\n",
              "    <tr>\n",
              "      <th>0</th>\n",
              "      <td>1</td>\n",
              "      <td>0.283019</td>\n",
              "      <td>0</td>\n",
              "      <td>False</td>\n",
              "      <td>True</td>\n",
              "      <td>False</td>\n",
              "      <td>False</td>\n",
              "      <td>False</td>\n",
              "      <td>False</td>\n",
              "      <td>False</td>\n",
              "      <td>...</td>\n",
              "      <td>False</td>\n",
              "      <td>True</td>\n",
              "      <td>False</td>\n",
              "      <td>False</td>\n",
              "      <td>False</td>\n",
              "      <td>True</td>\n",
              "      <td>False</td>\n",
              "      <td>True</td>\n",
              "      <td>False</td>\n",
              "      <td>False</td>\n",
              "    </tr>\n",
              "    <tr>\n",
              "      <th>1</th>\n",
              "      <td>1</td>\n",
              "      <td>0.490566</td>\n",
              "      <td>0</td>\n",
              "      <td>False</td>\n",
              "      <td>True</td>\n",
              "      <td>False</td>\n",
              "      <td>False</td>\n",
              "      <td>False</td>\n",
              "      <td>False</td>\n",
              "      <td>False</td>\n",
              "      <td>...</td>\n",
              "      <td>False</td>\n",
              "      <td>True</td>\n",
              "      <td>False</td>\n",
              "      <td>False</td>\n",
              "      <td>False</td>\n",
              "      <td>True</td>\n",
              "      <td>False</td>\n",
              "      <td>True</td>\n",
              "      <td>False</td>\n",
              "      <td>False</td>\n",
              "    </tr>\n",
              "    <tr>\n",
              "      <th>2</th>\n",
              "      <td>1</td>\n",
              "      <td>0.698113</td>\n",
              "      <td>0</td>\n",
              "      <td>False</td>\n",
              "      <td>True</td>\n",
              "      <td>False</td>\n",
              "      <td>False</td>\n",
              "      <td>False</td>\n",
              "      <td>False</td>\n",
              "      <td>False</td>\n",
              "      <td>...</td>\n",
              "      <td>False</td>\n",
              "      <td>True</td>\n",
              "      <td>False</td>\n",
              "      <td>False</td>\n",
              "      <td>False</td>\n",
              "      <td>False</td>\n",
              "      <td>True</td>\n",
              "      <td>True</td>\n",
              "      <td>False</td>\n",
              "      <td>False</td>\n",
              "    </tr>\n",
              "    <tr>\n",
              "      <th>3</th>\n",
              "      <td>1</td>\n",
              "      <td>0.556604</td>\n",
              "      <td>0</td>\n",
              "      <td>False</td>\n",
              "      <td>True</td>\n",
              "      <td>False</td>\n",
              "      <td>False</td>\n",
              "      <td>False</td>\n",
              "      <td>False</td>\n",
              "      <td>False</td>\n",
              "      <td>...</td>\n",
              "      <td>False</td>\n",
              "      <td>True</td>\n",
              "      <td>False</td>\n",
              "      <td>False</td>\n",
              "      <td>False</td>\n",
              "      <td>True</td>\n",
              "      <td>False</td>\n",
              "      <td>True</td>\n",
              "      <td>False</td>\n",
              "      <td>False</td>\n",
              "    </tr>\n",
              "    <tr>\n",
              "      <th>4</th>\n",
              "      <td>0</td>\n",
              "      <td>0.122642</td>\n",
              "      <td>0</td>\n",
              "      <td>False</td>\n",
              "      <td>True</td>\n",
              "      <td>False</td>\n",
              "      <td>False</td>\n",
              "      <td>False</td>\n",
              "      <td>False</td>\n",
              "      <td>False</td>\n",
              "      <td>...</td>\n",
              "      <td>False</td>\n",
              "      <td>False</td>\n",
              "      <td>False</td>\n",
              "      <td>False</td>\n",
              "      <td>False</td>\n",
              "      <td>False</td>\n",
              "      <td>True</td>\n",
              "      <td>False</td>\n",
              "      <td>False</td>\n",
              "      <td>True</td>\n",
              "    </tr>\n",
              "    <tr>\n",
              "      <th>...</th>\n",
              "      <td>...</td>\n",
              "      <td>...</td>\n",
              "      <td>...</td>\n",
              "      <td>...</td>\n",
              "      <td>...</td>\n",
              "      <td>...</td>\n",
              "      <td>...</td>\n",
              "      <td>...</td>\n",
              "      <td>...</td>\n",
              "      <td>...</td>\n",
              "      <td>...</td>\n",
              "      <td>...</td>\n",
              "      <td>...</td>\n",
              "      <td>...</td>\n",
              "      <td>...</td>\n",
              "      <td>...</td>\n",
              "      <td>...</td>\n",
              "      <td>...</td>\n",
              "      <td>...</td>\n",
              "      <td>...</td>\n",
              "      <td>...</td>\n",
              "    </tr>\n",
              "    <tr>\n",
              "      <th>14750</th>\n",
              "      <td>0</td>\n",
              "      <td>0.613208</td>\n",
              "      <td>0</td>\n",
              "      <td>False</td>\n",
              "      <td>False</td>\n",
              "      <td>False</td>\n",
              "      <td>False</td>\n",
              "      <td>False</td>\n",
              "      <td>False</td>\n",
              "      <td>False</td>\n",
              "      <td>...</td>\n",
              "      <td>False</td>\n",
              "      <td>False</td>\n",
              "      <td>False</td>\n",
              "      <td>False</td>\n",
              "      <td>False</td>\n",
              "      <td>False</td>\n",
              "      <td>True</td>\n",
              "      <td>True</td>\n",
              "      <td>False</td>\n",
              "      <td>False</td>\n",
              "    </tr>\n",
              "    <tr>\n",
              "      <th>14751</th>\n",
              "      <td>1</td>\n",
              "      <td>0.528302</td>\n",
              "      <td>0</td>\n",
              "      <td>False</td>\n",
              "      <td>False</td>\n",
              "      <td>False</td>\n",
              "      <td>False</td>\n",
              "      <td>False</td>\n",
              "      <td>False</td>\n",
              "      <td>False</td>\n",
              "      <td>...</td>\n",
              "      <td>False</td>\n",
              "      <td>False</td>\n",
              "      <td>False</td>\n",
              "      <td>False</td>\n",
              "      <td>False</td>\n",
              "      <td>False</td>\n",
              "      <td>True</td>\n",
              "      <td>True</td>\n",
              "      <td>False</td>\n",
              "      <td>False</td>\n",
              "    </tr>\n",
              "    <tr>\n",
              "      <th>14752</th>\n",
              "      <td>1</td>\n",
              "      <td>0.122642</td>\n",
              "      <td>0</td>\n",
              "      <td>False</td>\n",
              "      <td>False</td>\n",
              "      <td>False</td>\n",
              "      <td>False</td>\n",
              "      <td>False</td>\n",
              "      <td>False</td>\n",
              "      <td>False</td>\n",
              "      <td>...</td>\n",
              "      <td>False</td>\n",
              "      <td>False</td>\n",
              "      <td>False</td>\n",
              "      <td>False</td>\n",
              "      <td>False</td>\n",
              "      <td>True</td>\n",
              "      <td>False</td>\n",
              "      <td>True</td>\n",
              "      <td>False</td>\n",
              "      <td>False</td>\n",
              "    </tr>\n",
              "    <tr>\n",
              "      <th>14753</th>\n",
              "      <td>1</td>\n",
              "      <td>0.773585</td>\n",
              "      <td>0</td>\n",
              "      <td>False</td>\n",
              "      <td>False</td>\n",
              "      <td>False</td>\n",
              "      <td>False</td>\n",
              "      <td>False</td>\n",
              "      <td>False</td>\n",
              "      <td>False</td>\n",
              "      <td>...</td>\n",
              "      <td>False</td>\n",
              "      <td>False</td>\n",
              "      <td>False</td>\n",
              "      <td>False</td>\n",
              "      <td>False</td>\n",
              "      <td>True</td>\n",
              "      <td>False</td>\n",
              "      <td>True</td>\n",
              "      <td>False</td>\n",
              "      <td>False</td>\n",
              "    </tr>\n",
              "    <tr>\n",
              "      <th>14754</th>\n",
              "      <td>0</td>\n",
              "      <td>0.811321</td>\n",
              "      <td>0</td>\n",
              "      <td>False</td>\n",
              "      <td>False</td>\n",
              "      <td>False</td>\n",
              "      <td>False</td>\n",
              "      <td>False</td>\n",
              "      <td>False</td>\n",
              "      <td>False</td>\n",
              "      <td>...</td>\n",
              "      <td>False</td>\n",
              "      <td>False</td>\n",
              "      <td>False</td>\n",
              "      <td>False</td>\n",
              "      <td>False</td>\n",
              "      <td>True</td>\n",
              "      <td>False</td>\n",
              "      <td>True</td>\n",
              "      <td>False</td>\n",
              "      <td>False</td>\n",
              "    </tr>\n",
              "  </tbody>\n",
              "</table>\n",
              "<p>14755 rows × 138 columns</p>\n",
              "</div>\n",
              "    <div class=\"colab-df-buttons\">\n",
              "\n",
              "  <div class=\"colab-df-container\">\n",
              "    <button class=\"colab-df-convert\" onclick=\"convertToInteractive('df-7c557071-5186-4b19-b971-24a1cf069f68')\"\n",
              "            title=\"Convert this dataframe to an interactive table.\"\n",
              "            style=\"display:none;\">\n",
              "\n",
              "  <svg xmlns=\"http://www.w3.org/2000/svg\" height=\"24px\" viewBox=\"0 -960 960 960\">\n",
              "    <path d=\"M120-120v-720h720v720H120Zm60-500h600v-160H180v160Zm220 220h160v-160H400v160Zm0 220h160v-160H400v160ZM180-400h160v-160H180v160Zm440 0h160v-160H620v160ZM180-180h160v-160H180v160Zm440 0h160v-160H620v160Z\"/>\n",
              "  </svg>\n",
              "    </button>\n",
              "\n",
              "  <style>\n",
              "    .colab-df-container {\n",
              "      display:flex;\n",
              "      gap: 12px;\n",
              "    }\n",
              "\n",
              "    .colab-df-convert {\n",
              "      background-color: #E8F0FE;\n",
              "      border: none;\n",
              "      border-radius: 50%;\n",
              "      cursor: pointer;\n",
              "      display: none;\n",
              "      fill: #1967D2;\n",
              "      height: 32px;\n",
              "      padding: 0 0 0 0;\n",
              "      width: 32px;\n",
              "    }\n",
              "\n",
              "    .colab-df-convert:hover {\n",
              "      background-color: #E2EBFA;\n",
              "      box-shadow: 0px 1px 2px rgba(60, 64, 67, 0.3), 0px 1px 3px 1px rgba(60, 64, 67, 0.15);\n",
              "      fill: #174EA6;\n",
              "    }\n",
              "\n",
              "    .colab-df-buttons div {\n",
              "      margin-bottom: 4px;\n",
              "    }\n",
              "\n",
              "    [theme=dark] .colab-df-convert {\n",
              "      background-color: #3B4455;\n",
              "      fill: #D2E3FC;\n",
              "    }\n",
              "\n",
              "    [theme=dark] .colab-df-convert:hover {\n",
              "      background-color: #434B5C;\n",
              "      box-shadow: 0px 1px 3px 1px rgba(0, 0, 0, 0.15);\n",
              "      filter: drop-shadow(0px 1px 2px rgba(0, 0, 0, 0.3));\n",
              "      fill: #FFFFFF;\n",
              "    }\n",
              "  </style>\n",
              "\n",
              "    <script>\n",
              "      const buttonEl =\n",
              "        document.querySelector('#df-7c557071-5186-4b19-b971-24a1cf069f68 button.colab-df-convert');\n",
              "      buttonEl.style.display =\n",
              "        google.colab.kernel.accessAllowed ? 'block' : 'none';\n",
              "\n",
              "      async function convertToInteractive(key) {\n",
              "        const element = document.querySelector('#df-7c557071-5186-4b19-b971-24a1cf069f68');\n",
              "        const dataTable =\n",
              "          await google.colab.kernel.invokeFunction('convertToInteractive',\n",
              "                                                    [key], {});\n",
              "        if (!dataTable) return;\n",
              "\n",
              "        const docLinkHtml = 'Like what you see? Visit the ' +\n",
              "          '<a target=\"_blank\" href=https://colab.research.google.com/notebooks/data_table.ipynb>data table notebook</a>'\n",
              "          + ' to learn more about interactive tables.';\n",
              "        element.innerHTML = '';\n",
              "        dataTable['output_type'] = 'display_data';\n",
              "        await google.colab.output.renderOutput(dataTable, element);\n",
              "        const docLink = document.createElement('div');\n",
              "        docLink.innerHTML = docLinkHtml;\n",
              "        element.appendChild(docLink);\n",
              "      }\n",
              "    </script>\n",
              "  </div>\n",
              "\n",
              "\n",
              "<div id=\"df-4e296956-6c3e-44b8-ba5d-51ccec069327\">\n",
              "  <button class=\"colab-df-quickchart\" onclick=\"quickchart('df-4e296956-6c3e-44b8-ba5d-51ccec069327')\"\n",
              "            title=\"Suggest charts\"\n",
              "            style=\"display:none;\">\n",
              "\n",
              "<svg xmlns=\"http://www.w3.org/2000/svg\" height=\"24px\"viewBox=\"0 0 24 24\"\n",
              "     width=\"24px\">\n",
              "    <g>\n",
              "        <path d=\"M19 3H5c-1.1 0-2 .9-2 2v14c0 1.1.9 2 2 2h14c1.1 0 2-.9 2-2V5c0-1.1-.9-2-2-2zM9 17H7v-7h2v7zm4 0h-2V7h2v10zm4 0h-2v-4h2v4z\"/>\n",
              "    </g>\n",
              "</svg>\n",
              "  </button>\n",
              "\n",
              "<style>\n",
              "  .colab-df-quickchart {\n",
              "      --bg-color: #E8F0FE;\n",
              "      --fill-color: #1967D2;\n",
              "      --hover-bg-color: #E2EBFA;\n",
              "      --hover-fill-color: #174EA6;\n",
              "      --disabled-fill-color: #AAA;\n",
              "      --disabled-bg-color: #DDD;\n",
              "  }\n",
              "\n",
              "  [theme=dark] .colab-df-quickchart {\n",
              "      --bg-color: #3B4455;\n",
              "      --fill-color: #D2E3FC;\n",
              "      --hover-bg-color: #434B5C;\n",
              "      --hover-fill-color: #FFFFFF;\n",
              "      --disabled-bg-color: #3B4455;\n",
              "      --disabled-fill-color: #666;\n",
              "  }\n",
              "\n",
              "  .colab-df-quickchart {\n",
              "    background-color: var(--bg-color);\n",
              "    border: none;\n",
              "    border-radius: 50%;\n",
              "    cursor: pointer;\n",
              "    display: none;\n",
              "    fill: var(--fill-color);\n",
              "    height: 32px;\n",
              "    padding: 0;\n",
              "    width: 32px;\n",
              "  }\n",
              "\n",
              "  .colab-df-quickchart:hover {\n",
              "    background-color: var(--hover-bg-color);\n",
              "    box-shadow: 0 1px 2px rgba(60, 64, 67, 0.3), 0 1px 3px 1px rgba(60, 64, 67, 0.15);\n",
              "    fill: var(--button-hover-fill-color);\n",
              "  }\n",
              "\n",
              "  .colab-df-quickchart-complete:disabled,\n",
              "  .colab-df-quickchart-complete:disabled:hover {\n",
              "    background-color: var(--disabled-bg-color);\n",
              "    fill: var(--disabled-fill-color);\n",
              "    box-shadow: none;\n",
              "  }\n",
              "\n",
              "  .colab-df-spinner {\n",
              "    border: 2px solid var(--fill-color);\n",
              "    border-color: transparent;\n",
              "    border-bottom-color: var(--fill-color);\n",
              "    animation:\n",
              "      spin 1s steps(1) infinite;\n",
              "  }\n",
              "\n",
              "  @keyframes spin {\n",
              "    0% {\n",
              "      border-color: transparent;\n",
              "      border-bottom-color: var(--fill-color);\n",
              "      border-left-color: var(--fill-color);\n",
              "    }\n",
              "    20% {\n",
              "      border-color: transparent;\n",
              "      border-left-color: var(--fill-color);\n",
              "      border-top-color: var(--fill-color);\n",
              "    }\n",
              "    30% {\n",
              "      border-color: transparent;\n",
              "      border-left-color: var(--fill-color);\n",
              "      border-top-color: var(--fill-color);\n",
              "      border-right-color: var(--fill-color);\n",
              "    }\n",
              "    40% {\n",
              "      border-color: transparent;\n",
              "      border-right-color: var(--fill-color);\n",
              "      border-top-color: var(--fill-color);\n",
              "    }\n",
              "    60% {\n",
              "      border-color: transparent;\n",
              "      border-right-color: var(--fill-color);\n",
              "    }\n",
              "    80% {\n",
              "      border-color: transparent;\n",
              "      border-right-color: var(--fill-color);\n",
              "      border-bottom-color: var(--fill-color);\n",
              "    }\n",
              "    90% {\n",
              "      border-color: transparent;\n",
              "      border-bottom-color: var(--fill-color);\n",
              "    }\n",
              "  }\n",
              "</style>\n",
              "\n",
              "  <script>\n",
              "    async function quickchart(key) {\n",
              "      const quickchartButtonEl =\n",
              "        document.querySelector('#' + key + ' button');\n",
              "      quickchartButtonEl.disabled = true;  // To prevent multiple clicks.\n",
              "      quickchartButtonEl.classList.add('colab-df-spinner');\n",
              "      try {\n",
              "        const charts = await google.colab.kernel.invokeFunction(\n",
              "            'suggestCharts', [key], {});\n",
              "      } catch (error) {\n",
              "        console.error('Error during call to suggestCharts:', error);\n",
              "      }\n",
              "      quickchartButtonEl.classList.remove('colab-df-spinner');\n",
              "      quickchartButtonEl.classList.add('colab-df-quickchart-complete');\n",
              "    }\n",
              "    (() => {\n",
              "      let quickchartButtonEl =\n",
              "        document.querySelector('#df-4e296956-6c3e-44b8-ba5d-51ccec069327 button');\n",
              "      quickchartButtonEl.style.display =\n",
              "        google.colab.kernel.accessAllowed ? 'block' : 'none';\n",
              "    })();\n",
              "  </script>\n",
              "</div>\n",
              "\n",
              "  <div id=\"id_62072073-73e5-45a5-a35f-28135286281b\">\n",
              "    <style>\n",
              "      .colab-df-generate {\n",
              "        background-color: #E8F0FE;\n",
              "        border: none;\n",
              "        border-radius: 50%;\n",
              "        cursor: pointer;\n",
              "        display: none;\n",
              "        fill: #1967D2;\n",
              "        height: 32px;\n",
              "        padding: 0 0 0 0;\n",
              "        width: 32px;\n",
              "      }\n",
              "\n",
              "      .colab-df-generate:hover {\n",
              "        background-color: #E2EBFA;\n",
              "        box-shadow: 0px 1px 2px rgba(60, 64, 67, 0.3), 0px 1px 3px 1px rgba(60, 64, 67, 0.15);\n",
              "        fill: #174EA6;\n",
              "      }\n",
              "\n",
              "      [theme=dark] .colab-df-generate {\n",
              "        background-color: #3B4455;\n",
              "        fill: #D2E3FC;\n",
              "      }\n",
              "\n",
              "      [theme=dark] .colab-df-generate:hover {\n",
              "        background-color: #434B5C;\n",
              "        box-shadow: 0px 1px 3px 1px rgba(0, 0, 0, 0.15);\n",
              "        filter: drop-shadow(0px 1px 2px rgba(0, 0, 0, 0.3));\n",
              "        fill: #FFFFFF;\n",
              "      }\n",
              "    </style>\n",
              "    <button class=\"colab-df-generate\" onclick=\"generateWithVariable('X')\"\n",
              "            title=\"Generate code using this dataframe.\"\n",
              "            style=\"display:none;\">\n",
              "\n",
              "  <svg xmlns=\"http://www.w3.org/2000/svg\" height=\"24px\"viewBox=\"0 0 24 24\"\n",
              "       width=\"24px\">\n",
              "    <path d=\"M7,19H8.4L18.45,9,17,7.55,7,17.6ZM5,21V16.75L18.45,3.32a2,2,0,0,1,2.83,0l1.4,1.43a1.91,1.91,0,0,1,.58,1.4,1.91,1.91,0,0,1-.58,1.4L9.25,21ZM18.45,9,17,7.55Zm-12,3A5.31,5.31,0,0,0,4.9,8.1,5.31,5.31,0,0,0,1,6.5,5.31,5.31,0,0,0,4.9,4.9,5.31,5.31,0,0,0,6.5,1,5.31,5.31,0,0,0,8.1,4.9,5.31,5.31,0,0,0,12,6.5,5.46,5.46,0,0,0,6.5,12Z\"/>\n",
              "  </svg>\n",
              "    </button>\n",
              "    <script>\n",
              "      (() => {\n",
              "      const buttonEl =\n",
              "        document.querySelector('#id_62072073-73e5-45a5-a35f-28135286281b button.colab-df-generate');\n",
              "      buttonEl.style.display =\n",
              "        google.colab.kernel.accessAllowed ? 'block' : 'none';\n",
              "\n",
              "      buttonEl.onclick = () => {\n",
              "        google.colab.notebook.generateWithVariable('X');\n",
              "      }\n",
              "      })();\n",
              "    </script>\n",
              "  </div>\n",
              "\n",
              "    </div>\n",
              "  </div>\n"
            ],
            "application/vnd.google.colaboratory.intrinsic+json": {
              "type": "dataframe",
              "variable_name": "X"
            }
          },
          "metadata": {},
          "execution_count": 18
        }
      ],
      "source": [
        "# X_normalize\n",
        "X"
      ],
      "id": "Ec-N3gTIaDXP"
    },
    {
      "cell_type": "code",
      "execution_count": null,
      "metadata": {
        "id": "lUfuS-J_TAmL",
        "colab": {
          "base_uri": "https://localhost:8080/"
        },
        "outputId": "637e6849-7eb2-4ab7-ee43-ea901e04a6fb"
      },
      "outputs": [
        {
          "output_type": "execute_result",
          "data": {
            "text/plain": [
              "7408"
            ]
          },
          "metadata": {},
          "execution_count": 19
        }
      ],
      "source": [
        "max_time = data['Survival_Time'].max()\n",
        "max_time"
      ],
      "id": "lUfuS-J_TAmL"
    },
    {
      "cell_type": "code",
      "execution_count": null,
      "metadata": {
        "id": "u3bJGVksYVWI",
        "colab": {
          "base_uri": "https://localhost:8080/"
        },
        "outputId": "642ac121-e746-4792-f256-eafbaaabc1d2"
      },
      "outputs": [
        {
          "output_type": "stream",
          "name": "stdout",
          "text": [
            "['Gender', 'Age', 'Indicator.of.Rare.Case', 'RCBP.Name_RCBP BELO HORIZONTE', 'RCBP.Name_RCBP CAMPINAS-UNICAMP', 'RCBP.Name_RCBP DISTRITO FEDERAL', 'RCBP.Name_RCBP DRS BARRETOS', 'RCBP.Name_RCBP FORTALEZA', 'RCBP.Name_RCBP MANAUS', 'RCBP.Name_RCBP MATO GROSSO (INTERIOR)', 'RCBP.Name_RCBP NATAL', 'RCBP.Name_RCBP PORTO ALEGRE', 'RCBP.Name_other', 'Raca.Color_AMARELA', 'Raca.Color_BRANCO', 'Raca.Color_IND?GENA', 'Raca.Color_PARDA', 'Raca.Color_PRETA', 'Raca.Color_other', 'State.Civil_CASADO', 'State.Civil_SEPARADO JUDICIALMENTE', 'State.Civil_SOLTEIRO', 'State.Civil_UNI?O CONSENSUAL', 'State.Civil_VI?VO', 'State.Civil_other', 'Code.Profession_0.0', 'Code.Profession_111.0', 'Code.Profession_141.0', 'Code.Profession_512.0', 'Code.Profession_514.0', 'Code.Profession_516.0', 'Code.Profession_622.0', 'Code.Profession_715.0', 'Code.Profession_782.0', 'Code.Profession_other', 'Name.Occupation_CONDUTORES DE VE?CULOS E OPERADORES DE EQUIPAMENTOS DE ELEVA??O E DE MOVIMENTA??O DE CARGAS   \\t', 'Name.Occupation_GERENTES DE PRODU??O E OPERA??ES  \\t', 'Name.Occupation_MEMBROS SUPERIORES DO PODER LEGISLATIVO, EXECUTIVO E JUDICI?RIO   \\t', 'Name.Occupation_SEM INFORMA??O\\t', 'Name.Occupation_TRABALHADORES AGR?COLAS   \\t', 'Name.Occupation_TRABALHADORES DA CONSTRU??O CIVIL E OBRAS P?BLICAS\\t', 'Name.Occupation_TRABALHADORES DOS SERVI?OS DOM?STICOS EM GERAL\\t', 'Name.Occupation_TRABALHADORES NOS SERVI?OS DE ADMINISTRA??O, CONSERVA??O E MANUTEN??O DE EDIF?CIOS E LOGRADOUROS  \\t', 'Name.Occupation_TRABALHADORES NOS SERVI?OS DE EMBELEZAMENTO E CUIDADOS PESSOAIS   \\t', 'Name.Occupation_other', 'Status.Address_AMAZONAS', 'Status.Address_CEAR?', 'Status.Address_DISTRITO FEDERAL', 'Status.Address_MATO GROSSO ', 'Status.Address_MINAS GERAIS', 'Status.Address_RIO DE JANEIRO', 'Status.Address_RIO GRANDE DO NORTE', 'Status.Address_RIO GRANDE DO SUL', 'Status.Address_S?O PAULO', 'Status.Address_other', 'City.Address_BARRETOS', 'City.Address_BEBEDOURO', 'City.Address_BRAS?LIA', 'City.Address_CAMPINAS', 'City.Address_COLINA', 'City.Address_GUA?RA', 'City.Address_MONTE AZUL PAULISTA', 'City.Address_OL?MPIA', 'City.Address_VIRADOURO', 'City.Address_other', 'Description.of.Topography_COLO DO UTERO, SOE', 'Description.of.Topography_ESTOMAGO, SOE', 'Description.of.Topography_LOCALIZACAO PRIMARIA DESCONHECIDA, SOE', 'Description.of.Topography_MAMA , SOE', 'Description.of.Topography_MEDULA OSSEA', 'Description.of.Topography_PELE DE OUTRAS PARTES DA FACE', 'Description.of.Topography_PELE DO MEMBRO SUPERIOR E DO OMBRO', 'Description.of.Topography_PROSTATA, SOE', 'Description.of.Topography_PULMAO, SOE', 'Description.of.Topography_other', 'Topography.Code_C169', 'Topography.Code_C349', 'Topography.Code_C421', 'Topography.Code_C443', 'Topography.Code_C446', 'Topography.Code_C509', 'Topography.Code_C539', 'Topography.Code_C619', 'Topography.Code_C809', 'Topography.Code_other', 'Morphology.Description_ADENOCARCINOMA TUBULAR', 'Morphology.Description_ADENOCARCINOMA, SOE', 'Morphology.Description_CARCINOMA BASO CELULAR, SOE', 'Morphology.Description_CARCINOMA BASOCELULAR, SOE', 'Morphology.Description_CARCINOMA DE CELULAS ESCAMOSAS, SOE', 'Morphology.Description_CARCINOMA DUCTAL INFILTRANTE', 'Morphology.Description_CARCINOMA ESCAMOCELULAR, SOE', 'Morphology.Description_NEOPLASIA MALIGNA', 'Morphology.Description_NEOPLASMA MALIGNO', 'Morphology.Description_other', 'Code.of.Morphology_80003', 'Code.of.Morphology_80703', 'Code.of.Morphology_80903', 'Code.of.Morphology_81403', 'Code.of.Morphology_82113', 'Code.of.Morphology_85003', 'Code.of.Morphology_95903', 'Code.of.Morphology_97323', 'Code.of.Morphology_98613', 'Code.of.Morphology_other', 'Description.of.Disease_BRONQUIOS OU PULMOES, SOE', 'Description.of.Disease_COLO DO UTERO, SOE', 'Description.of.Disease_ESTOMAGO, SOE', 'Description.of.Disease_LOCALIZACAO PRIMARIA DESCONHECIDA', 'Description.of.Disease_MAMA , SOE', 'Description.of.Disease_PELE DE OUTRAS PARTES DA FACE', 'Description.of.Disease_PELE DO MEMBRO SUPERIOR E DO OMBRO', 'Description.of.Disease_PELE DO TRONCO', 'Description.of.Disease_PROSTATA', 'Description.of.Disease_other', 'Illness.Code_C169', 'Illness.Code_C349', 'Illness.Code_C443', 'Illness.Code_C445', 'Illness.Code_C446', 'Illness.Code_C509', 'Illness.Code_C61', 'Illness.Code_C80', 'Illness.Code_C859', 'Illness.Code_other', 'Diagnostic.means_CITOLOGIA', 'Diagnostic.means_CL?NICO', 'Diagnostic.means_HISTOLOGIA DO TUMOR PRIM?RIO', 'Diagnostic.means_PESQUISA', 'Diagnostic.means_SDO', 'Diagnostic.means_other', 'Extension_IN SITU', 'Extension_LOCALIZADO', 'Extension_MET?STASE', 'Extension_N?O SE APLICA', 'Type.of.Death_C?NCER', 'Type.of.Death_N?O C?NCER', 'Type.of.Death_other']\n"
          ]
        }
      ],
      "source": [
        "print(list(X.columns))"
      ],
      "id": "u3bJGVksYVWI"
    },
    {
      "cell_type": "code",
      "execution_count": null,
      "metadata": {
        "id": "6XPaskQWYk-k",
        "colab": {
          "base_uri": "https://localhost:8080/"
        },
        "outputId": "49deb415-d97c-404d-9f0b-5e2a5f2fe315"
      },
      "outputs": [
        {
          "output_type": "stream",
          "name": "stdout",
          "text": [
            "Extension_IN SITU - 133\n",
            "Extension_LOCALIZADO - 134\n",
            "Extension_MET?STASE - 135\n",
            "Extension_N?O SE APLICA - 136\n",
            "Illness.Code_C169 - 117\n",
            "Illness.Code_C349 - 118\n",
            "Illness.Code_C443 - 119\n",
            "Illness.Code_C445 - 120\n",
            "Illness.Code_C446 - 121\n",
            "Illness.Code_C509 - 122\n",
            "Illness.Code_C61 - 123\n",
            "Illness.Code_C80 - 124\n",
            "Illness.Code_C859 - 125\n",
            "Illness.Code_other - 126\n"
          ]
        }
      ],
      "source": [
        "\n",
        "check = pd.DataFrame(columns=['Gender', 'Age', 'Indicator.of.Rare.Case', 'Survival_Time', 'indicater', 'RCBP.Name_RCBP BELO HORIZONTE', 'RCBP.Name_RCBP CAMPINAS-UNICAMP', 'RCBP.Name_RCBP DISTRITO FEDERAL', 'RCBP.Name_RCBP DRS BARRETOS', 'RCBP.Name_RCBP FORTALEZA', 'RCBP.Name_RCBP MANAUS', 'RCBP.Name_RCBP MATO GROSSO (INTERIOR)', 'RCBP.Name_RCBP NATAL', 'RCBP.Name_RCBP PORTO ALEGRE', 'RCBP.Name_other', 'Raca.Color_AMARELA', 'Raca.Color_BRANCO', 'Raca.Color_IND?GENA', 'Raca.Color_PARDA', 'Raca.Color_PRETA', 'Raca.Color_other', 'State.Civil_CASADO', 'State.Civil_SEPARADO JUDICIALMENTE', 'State.Civil_SOLTEIRO', 'State.Civil_UNI?O CONSENSUAL', 'State.Civil_VI?VO', 'State.Civil_other', 'Code.Profession_0.0', 'Code.Profession_111.0', 'Code.Profession_141.0', 'Code.Profession_512.0', 'Code.Profession_514.0', 'Code.Profession_516.0', 'Code.Profession_622.0', 'Code.Profession_715.0', 'Code.Profession_782.0', 'Code.Profession_other', 'Name.Occupation_CONDUTORES DE VE?CULOS E OPERADORES DE EQUIPAMENTOS DE ELEVA??O E DE MOVIMENTA??O DE CARGAS   \\t', 'Name.Occupation_GERENTES DE PRODU??O E OPERA??ES  \\t', 'Name.Occupation_MEMBROS SUPERIORES DO PODER LEGISLATIVO, EXECUTIVO E JUDICI?RIO   \\t', 'Name.Occupation_SEM INFORMA??O\\t', 'Name.Occupation_TRABALHADORES AGR?COLAS   \\t', 'Name.Occupation_TRABALHADORES DA CONSTRU??O CIVIL E OBRAS P?BLICAS\\t', 'Name.Occupation_TRABALHADORES DOS SERVI?OS DOM?STICOS EM GERAL\\t', 'Name.Occupation_TRABALHADORES NOS SERVI?OS DE ADMINISTRA??O, CONSERVA??O E MANUTEN??O DE EDIF?CIOS E LOGRADOUROS  \\t', 'Name.Occupation_TRABALHADORES NOS SERVI?OS DE EMBELEZAMENTO E CUIDADOS PESSOAIS   \\t', 'Name.Occupation_other', 'Status.Address_AMAZONAS', 'Status.Address_CEAR?', 'Status.Address_DISTRITO FEDERAL', 'Status.Address_MATO GROSSO ', 'Status.Address_MINAS GERAIS', 'Status.Address_RIO DE JANEIRO', 'Status.Address_RIO GRANDE DO NORTE', 'Status.Address_RIO GRANDE DO SUL', 'Status.Address_S?O PAULO', 'Status.Address_other', 'City.Address_BARRETOS', 'City.Address_BEBEDOURO', 'City.Address_BRAS?LIA', 'City.Address_CAMPINAS', 'City.Address_COLINA', 'City.Address_GUA?RA', 'City.Address_MONTE AZUL PAULISTA', 'City.Address_OL?MPIA', 'City.Address_VIRADOURO', 'City.Address_other', 'Description.of.Topography_COLO DO UTERO, SOE', 'Description.of.Topography_ESTOMAGO, SOE', 'Description.of.Topography_LOCALIZACAO PRIMARIA DESCONHECIDA, SOE', 'Description.of.Topography_MAMA , SOE', 'Description.of.Topography_MEDULA OSSEA', 'Description.of.Topography_PELE DE OUTRAS PARTES DA FACE', 'Description.of.Topography_PELE DO MEMBRO SUPERIOR E DO OMBRO', 'Description.of.Topography_PROSTATA, SOE', 'Description.of.Topography_PULMAO, SOE', 'Description.of.Topography_other', 'Topography.Code_C169', 'Topography.Code_C349', 'Topography.Code_C421', 'Topography.Code_C443', 'Topography.Code_C446', 'Topography.Code_C509', 'Topography.Code_C539', 'Topography.Code_C619', 'Topography.Code_C809', 'Topography.Code_other', 'Morphology.Description_ADENOCARCINOMA TUBULAR', 'Morphology.Description_ADENOCARCINOMA, SOE', 'Morphology.Description_CARCINOMA BASO CELULAR, SOE', 'Morphology.Description_CARCINOMA BASOCELULAR, SOE', 'Morphology.Description_CARCINOMA DE CELULAS ESCAMOSAS, SOE', 'Morphology.Description_CARCINOMA DUCTAL INFILTRANTE', 'Morphology.Description_CARCINOMA ESCAMOCELULAR, SOE', 'Morphology.Description_NEOPLASIA MALIGNA', 'Morphology.Description_NEOPLASMA MALIGNO', 'Morphology.Description_other', 'Code.of.Morphology_80003', 'Code.of.Morphology_80703', 'Code.of.Morphology_80903', 'Code.of.Morphology_81403', 'Code.of.Morphology_82113', 'Code.of.Morphology_85003', 'Code.of.Morphology_95903', 'Code.of.Morphology_97323', 'Code.of.Morphology_98613', 'Code.of.Morphology_other', 'Description.of.Disease_BRONQUIOS OU PULMOES, SOE', 'Description.of.Disease_COLO DO UTERO, SOE', 'Description.of.Disease_ESTOMAGO, SOE', 'Description.of.Disease_LOCALIZACAO PRIMARIA DESCONHECIDA', 'Description.of.Disease_MAMA , SOE', 'Description.of.Disease_PELE DE OUTRAS PARTES DA FACE', 'Description.of.Disease_PELE DO MEMBRO SUPERIOR E DO OMBRO', 'Description.of.Disease_PELE DO TRONCO', 'Description.of.Disease_PROSTATA', 'Description.of.Disease_other', 'Illness.Code_C169', 'Illness.Code_C349', 'Illness.Code_C443', 'Illness.Code_C445', 'Illness.Code_C446', 'Illness.Code_C509', 'Illness.Code_C61', 'Illness.Code_C80', 'Illness.Code_C859', 'Illness.Code_other', 'Diagnostic.means_CITOLOGIA', 'Diagnostic.means_CL?NICO', 'Diagnostic.means_HISTOLOGIA DO TUMOR PRIM?RIO', 'Diagnostic.means_PESQUISA', 'Diagnostic.means_SDO', 'Diagnostic.means_other', 'Extension_IN SITU', 'Extension_LOCALIZADO', 'Extension_MET?STASE', 'Extension_N?O SE APLICA', 'Type.of.Death_C?NCER', 'Type.of.Death_N?O C?NCER', 'Type.of.Death_other'])\n",
        "\n",
        "columns = list(check.columns)\n",
        "for i, c in enumerate(columns):\n",
        "    if 'extension' in c.lower():\n",
        "        print(f\"{c} - {i}\")\n",
        "\n",
        "for i, c in enumerate(columns):\n",
        "    if 'illness.code' in c.lower():\n",
        "        print(f\"{c} - {i}\")"
      ],
      "id": "6XPaskQWYk-k"
    },
    {
      "cell_type": "markdown",
      "metadata": {
        "id": "6oI1ufePDZ0p"
      },
      "source": [
        "Data divided into MTL form"
      ],
      "id": "6oI1ufePDZ0p"
    },
    {
      "cell_type": "code",
      "execution_count": null,
      "metadata": {
        "id": "a24c4952",
        "colab": {
          "base_uri": "https://localhost:8080/"
        },
        "outputId": "5d685741-9c54-464a-d970-15759bcc5333"
      },
      "outputs": [
        {
          "output_type": "stream",
          "name": "stdout",
          "text": [
            "torch.Size([14755, 7])\n"
          ]
        }
      ],
      "source": [
        "import numpy as np\n",
        "\n",
        "# Take the maximum time and divide it into any number of intervals\n",
        "Tmax = 7500\n",
        "num_intervals = 7\n",
        "\n",
        "intervals = [(i * (Tmax // num_intervals), (i + 1) * (Tmax // num_intervals)) for i in range(num_intervals)]\n",
        "\n",
        "Y = np.zeros((len(time_all), num_intervals), dtype=np.int_)\n",
        "\n",
        "for i, time_val in enumerate(time_all):\n",
        "    for j, (left, right) in enumerate(intervals):\n",
        "        if time_val > right or (left < time_val <= right):\n",
        "            Y[i, j] = 1\n",
        "\n",
        "Y = torch.Tensor(Y)\n",
        "\n",
        "print(Y.shape)"
      ],
      "id": "a24c4952"
    },
    {
      "cell_type": "code",
      "execution_count": null,
      "metadata": {
        "id": "RZCn0Jw9Tp2a",
        "colab": {
          "base_uri": "https://localhost:8080/"
        },
        "outputId": "97ab61ab-7ab4-4781-bcaf-fbb67b01ffe9"
      },
      "outputs": [
        {
          "output_type": "execute_result",
          "data": {
            "text/plain": [
              "tensor([[0., 0., 0.,  ..., 0., 0., 0.],\n",
              "        [0., 0., 0.,  ..., 0., 0., 0.],\n",
              "        [0., 0., 0.,  ..., 0., 0., 0.],\n",
              "        ...,\n",
              "        [1., 0., 0.,  ..., 0., 0., 0.],\n",
              "        [1., 0., 0.,  ..., 0., 0., 0.],\n",
              "        [1., 0., 0.,  ..., 0., 0., 0.]])"
            ]
          },
          "metadata": {},
          "execution_count": 23
        }
      ],
      "source": [
        "Y"
      ],
      "id": "RZCn0Jw9Tp2a"
    },
    {
      "cell_type": "code",
      "execution_count": null,
      "metadata": {
        "id": "d0d7b5f4"
      },
      "outputs": [],
      "source": [
        "# Creat mask matrix\n",
        "W = np.zeros((len(time_all), num_intervals), dtype=np.int_)\n",
        "\n",
        "for i, (time_val, event_val) in enumerate(zip(time_all, event_all)):\n",
        "    for j, (left, right) in enumerate(intervals):\n",
        "        if event_val == 0 and time_val < left:\n",
        "            W[i, j] = 0\n",
        "        else:\n",
        "            W[i, j] = 1\n",
        "\n",
        "W = torch.Tensor(W)"
      ],
      "id": "d0d7b5f4"
    },
    {
      "cell_type": "code",
      "execution_count": null,
      "metadata": {
        "id": "21e810c1",
        "colab": {
          "base_uri": "https://localhost:8080/"
        },
        "outputId": "18782910-e1dc-4b61-9307-4e39b45bd9dc"
      },
      "outputs": [
        {
          "output_type": "stream",
          "name": "stdout",
          "text": [
            "torch.Size([14755, 7])\n"
          ]
        }
      ],
      "source": [
        "print(W.shape)\n",
        "# So far all the codes are done by Xinyu"
      ],
      "id": "21e810c1"
    },
    {
      "cell_type": "markdown",
      "metadata": {
        "id": "EZBYqEf2Psu8"
      },
      "source": [
        "## Define and Apply the DataLoader\n",
        "- Introduced the dataloader to deal with the dataset, which would be helpful in the training and testing steps"
      ],
      "id": "EZBYqEf2Psu8"
    },
    {
      "cell_type": "code",
      "execution_count": null,
      "metadata": {
        "id": "2ba508b1"
      },
      "outputs": [],
      "source": [
        "# Jingyan adds the dataloader\n",
        "from torch.utils.data import Dataset, DataLoader, random_split\n",
        "\n",
        "class MultiTaskDataset(Dataset):\n",
        "    def __init__(self, data, targets, masks, event_all):\n",
        "        self.data = data\n",
        "        self.targets = targets\n",
        "        self.masks = masks\n",
        "        self.event_all = event_all\n",
        "\n",
        "    def __len__(self):\n",
        "        return len(self.data)\n",
        "\n",
        "    def __getitem__(self, idx):\n",
        "        return self.data[idx], [self.targets[i][idx] for i in range(len(self.targets))], [self.masks[i][idx] for i in range(len(self.masks))], self.event_all[idx]\n"
      ],
      "id": "2ba508b1"
    },
    {
      "cell_type": "code",
      "execution_count": null,
      "metadata": {
        "id": "870e1897",
        "colab": {
          "base_uri": "https://localhost:8080/"
        },
        "outputId": "2c8e4665-1f4a-4200-a2fe-2a35ee631a54"
      },
      "outputs": [
        {
          "output_type": "execute_result",
          "data": {
            "text/plain": [
              "       Gender       Age  Indicator.of.Rare.Case  \\\n",
              "0           1  0.283019                       0   \n",
              "1           1  0.490566                       0   \n",
              "2           1  0.698113                       0   \n",
              "3           1  0.556604                       0   \n",
              "4           0  0.122642                       0   \n",
              "...       ...       ...                     ...   \n",
              "14750       0  0.613208                       0   \n",
              "14751       1  0.528302                       0   \n",
              "14752       1  0.122642                       0   \n",
              "14753       1  0.773585                       0   \n",
              "14754       0  0.811321                       0   \n",
              "\n",
              "       RCBP.Name_RCBP BELO HORIZONTE  RCBP.Name_RCBP CAMPINAS-UNICAMP  \\\n",
              "0                                  0                                1   \n",
              "1                                  0                                1   \n",
              "2                                  0                                1   \n",
              "3                                  0                                1   \n",
              "4                                  0                                1   \n",
              "...                              ...                              ...   \n",
              "14750                              0                                0   \n",
              "14751                              0                                0   \n",
              "14752                              0                                0   \n",
              "14753                              0                                0   \n",
              "14754                              0                                0   \n",
              "\n",
              "       RCBP.Name_RCBP DISTRITO FEDERAL  RCBP.Name_RCBP DRS BARRETOS  \\\n",
              "0                                    0                            0   \n",
              "1                                    0                            0   \n",
              "2                                    0                            0   \n",
              "3                                    0                            0   \n",
              "4                                    0                            0   \n",
              "...                                ...                          ...   \n",
              "14750                                0                            0   \n",
              "14751                                0                            0   \n",
              "14752                                0                            0   \n",
              "14753                                0                            0   \n",
              "14754                                0                            0   \n",
              "\n",
              "       RCBP.Name_RCBP FORTALEZA  RCBP.Name_RCBP MANAUS  \\\n",
              "0                             0                      0   \n",
              "1                             0                      0   \n",
              "2                             0                      0   \n",
              "3                             0                      0   \n",
              "4                             0                      0   \n",
              "...                         ...                    ...   \n",
              "14750                         0                      0   \n",
              "14751                         0                      0   \n",
              "14752                         0                      0   \n",
              "14753                         0                      0   \n",
              "14754                         0                      0   \n",
              "\n",
              "       RCBP.Name_RCBP MATO GROSSO (INTERIOR)  ...  Diagnostic.means_PESQUISA  \\\n",
              "0                                          0  ...                          0   \n",
              "1                                          0  ...                          0   \n",
              "2                                          0  ...                          0   \n",
              "3                                          0  ...                          0   \n",
              "4                                          0  ...                          0   \n",
              "...                                      ...  ...                        ...   \n",
              "14750                                      0  ...                          0   \n",
              "14751                                      0  ...                          0   \n",
              "14752                                      0  ...                          0   \n",
              "14753                                      0  ...                          0   \n",
              "14754                                      0  ...                          0   \n",
              "\n",
              "       Diagnostic.means_SDO  Diagnostic.means_other  Extension_IN SITU  \\\n",
              "0                         1                       0                  0   \n",
              "1                         1                       0                  0   \n",
              "2                         1                       0                  0   \n",
              "3                         1                       0                  0   \n",
              "4                         0                       0                  0   \n",
              "...                     ...                     ...                ...   \n",
              "14750                     0                       0                  0   \n",
              "14751                     0                       0                  0   \n",
              "14752                     0                       0                  0   \n",
              "14753                     0                       0                  0   \n",
              "14754                     0                       0                  0   \n",
              "\n",
              "       Extension_LOCALIZADO  Extension_MET?STASE  Extension_N?O SE APLICA  \\\n",
              "0                         0                    1                        0   \n",
              "1                         0                    1                        0   \n",
              "2                         0                    0                        1   \n",
              "3                         0                    1                        0   \n",
              "4                         0                    0                        1   \n",
              "...                     ...                  ...                      ...   \n",
              "14750                     0                    0                        1   \n",
              "14751                     0                    0                        1   \n",
              "14752                     0                    1                        0   \n",
              "14753                     0                    1                        0   \n",
              "14754                     0                    1                        0   \n",
              "\n",
              "       Type.of.Death_C?NCER  Type.of.Death_N?O C?NCER  Type.of.Death_other  \n",
              "0                         1                         0                    0  \n",
              "1                         1                         0                    0  \n",
              "2                         1                         0                    0  \n",
              "3                         1                         0                    0  \n",
              "4                         0                         0                    1  \n",
              "...                     ...                       ...                  ...  \n",
              "14750                     1                         0                    0  \n",
              "14751                     1                         0                    0  \n",
              "14752                     1                         0                    0  \n",
              "14753                     1                         0                    0  \n",
              "14754                     1                         0                    0  \n",
              "\n",
              "[14755 rows x 138 columns]"
            ],
            "text/html": [
              "\n",
              "  <div id=\"df-24ef60cb-8b31-4cd7-8bfb-c2aa66f3b434\" class=\"colab-df-container\">\n",
              "    <div>\n",
              "<style scoped>\n",
              "    .dataframe tbody tr th:only-of-type {\n",
              "        vertical-align: middle;\n",
              "    }\n",
              "\n",
              "    .dataframe tbody tr th {\n",
              "        vertical-align: top;\n",
              "    }\n",
              "\n",
              "    .dataframe thead th {\n",
              "        text-align: right;\n",
              "    }\n",
              "</style>\n",
              "<table border=\"1\" class=\"dataframe\">\n",
              "  <thead>\n",
              "    <tr style=\"text-align: right;\">\n",
              "      <th></th>\n",
              "      <th>Gender</th>\n",
              "      <th>Age</th>\n",
              "      <th>Indicator.of.Rare.Case</th>\n",
              "      <th>RCBP.Name_RCBP BELO HORIZONTE</th>\n",
              "      <th>RCBP.Name_RCBP CAMPINAS-UNICAMP</th>\n",
              "      <th>RCBP.Name_RCBP DISTRITO FEDERAL</th>\n",
              "      <th>RCBP.Name_RCBP DRS BARRETOS</th>\n",
              "      <th>RCBP.Name_RCBP FORTALEZA</th>\n",
              "      <th>RCBP.Name_RCBP MANAUS</th>\n",
              "      <th>RCBP.Name_RCBP MATO GROSSO (INTERIOR)</th>\n",
              "      <th>...</th>\n",
              "      <th>Diagnostic.means_PESQUISA</th>\n",
              "      <th>Diagnostic.means_SDO</th>\n",
              "      <th>Diagnostic.means_other</th>\n",
              "      <th>Extension_IN SITU</th>\n",
              "      <th>Extension_LOCALIZADO</th>\n",
              "      <th>Extension_MET?STASE</th>\n",
              "      <th>Extension_N?O SE APLICA</th>\n",
              "      <th>Type.of.Death_C?NCER</th>\n",
              "      <th>Type.of.Death_N?O C?NCER</th>\n",
              "      <th>Type.of.Death_other</th>\n",
              "    </tr>\n",
              "  </thead>\n",
              "  <tbody>\n",
              "    <tr>\n",
              "      <th>0</th>\n",
              "      <td>1</td>\n",
              "      <td>0.283019</td>\n",
              "      <td>0</td>\n",
              "      <td>0</td>\n",
              "      <td>1</td>\n",
              "      <td>0</td>\n",
              "      <td>0</td>\n",
              "      <td>0</td>\n",
              "      <td>0</td>\n",
              "      <td>0</td>\n",
              "      <td>...</td>\n",
              "      <td>0</td>\n",
              "      <td>1</td>\n",
              "      <td>0</td>\n",
              "      <td>0</td>\n",
              "      <td>0</td>\n",
              "      <td>1</td>\n",
              "      <td>0</td>\n",
              "      <td>1</td>\n",
              "      <td>0</td>\n",
              "      <td>0</td>\n",
              "    </tr>\n",
              "    <tr>\n",
              "      <th>1</th>\n",
              "      <td>1</td>\n",
              "      <td>0.490566</td>\n",
              "      <td>0</td>\n",
              "      <td>0</td>\n",
              "      <td>1</td>\n",
              "      <td>0</td>\n",
              "      <td>0</td>\n",
              "      <td>0</td>\n",
              "      <td>0</td>\n",
              "      <td>0</td>\n",
              "      <td>...</td>\n",
              "      <td>0</td>\n",
              "      <td>1</td>\n",
              "      <td>0</td>\n",
              "      <td>0</td>\n",
              "      <td>0</td>\n",
              "      <td>1</td>\n",
              "      <td>0</td>\n",
              "      <td>1</td>\n",
              "      <td>0</td>\n",
              "      <td>0</td>\n",
              "    </tr>\n",
              "    <tr>\n",
              "      <th>2</th>\n",
              "      <td>1</td>\n",
              "      <td>0.698113</td>\n",
              "      <td>0</td>\n",
              "      <td>0</td>\n",
              "      <td>1</td>\n",
              "      <td>0</td>\n",
              "      <td>0</td>\n",
              "      <td>0</td>\n",
              "      <td>0</td>\n",
              "      <td>0</td>\n",
              "      <td>...</td>\n",
              "      <td>0</td>\n",
              "      <td>1</td>\n",
              "      <td>0</td>\n",
              "      <td>0</td>\n",
              "      <td>0</td>\n",
              "      <td>0</td>\n",
              "      <td>1</td>\n",
              "      <td>1</td>\n",
              "      <td>0</td>\n",
              "      <td>0</td>\n",
              "    </tr>\n",
              "    <tr>\n",
              "      <th>3</th>\n",
              "      <td>1</td>\n",
              "      <td>0.556604</td>\n",
              "      <td>0</td>\n",
              "      <td>0</td>\n",
              "      <td>1</td>\n",
              "      <td>0</td>\n",
              "      <td>0</td>\n",
              "      <td>0</td>\n",
              "      <td>0</td>\n",
              "      <td>0</td>\n",
              "      <td>...</td>\n",
              "      <td>0</td>\n",
              "      <td>1</td>\n",
              "      <td>0</td>\n",
              "      <td>0</td>\n",
              "      <td>0</td>\n",
              "      <td>1</td>\n",
              "      <td>0</td>\n",
              "      <td>1</td>\n",
              "      <td>0</td>\n",
              "      <td>0</td>\n",
              "    </tr>\n",
              "    <tr>\n",
              "      <th>4</th>\n",
              "      <td>0</td>\n",
              "      <td>0.122642</td>\n",
              "      <td>0</td>\n",
              "      <td>0</td>\n",
              "      <td>1</td>\n",
              "      <td>0</td>\n",
              "      <td>0</td>\n",
              "      <td>0</td>\n",
              "      <td>0</td>\n",
              "      <td>0</td>\n",
              "      <td>...</td>\n",
              "      <td>0</td>\n",
              "      <td>0</td>\n",
              "      <td>0</td>\n",
              "      <td>0</td>\n",
              "      <td>0</td>\n",
              "      <td>0</td>\n",
              "      <td>1</td>\n",
              "      <td>0</td>\n",
              "      <td>0</td>\n",
              "      <td>1</td>\n",
              "    </tr>\n",
              "    <tr>\n",
              "      <th>...</th>\n",
              "      <td>...</td>\n",
              "      <td>...</td>\n",
              "      <td>...</td>\n",
              "      <td>...</td>\n",
              "      <td>...</td>\n",
              "      <td>...</td>\n",
              "      <td>...</td>\n",
              "      <td>...</td>\n",
              "      <td>...</td>\n",
              "      <td>...</td>\n",
              "      <td>...</td>\n",
              "      <td>...</td>\n",
              "      <td>...</td>\n",
              "      <td>...</td>\n",
              "      <td>...</td>\n",
              "      <td>...</td>\n",
              "      <td>...</td>\n",
              "      <td>...</td>\n",
              "      <td>...</td>\n",
              "      <td>...</td>\n",
              "      <td>...</td>\n",
              "    </tr>\n",
              "    <tr>\n",
              "      <th>14750</th>\n",
              "      <td>0</td>\n",
              "      <td>0.613208</td>\n",
              "      <td>0</td>\n",
              "      <td>0</td>\n",
              "      <td>0</td>\n",
              "      <td>0</td>\n",
              "      <td>0</td>\n",
              "      <td>0</td>\n",
              "      <td>0</td>\n",
              "      <td>0</td>\n",
              "      <td>...</td>\n",
              "      <td>0</td>\n",
              "      <td>0</td>\n",
              "      <td>0</td>\n",
              "      <td>0</td>\n",
              "      <td>0</td>\n",
              "      <td>0</td>\n",
              "      <td>1</td>\n",
              "      <td>1</td>\n",
              "      <td>0</td>\n",
              "      <td>0</td>\n",
              "    </tr>\n",
              "    <tr>\n",
              "      <th>14751</th>\n",
              "      <td>1</td>\n",
              "      <td>0.528302</td>\n",
              "      <td>0</td>\n",
              "      <td>0</td>\n",
              "      <td>0</td>\n",
              "      <td>0</td>\n",
              "      <td>0</td>\n",
              "      <td>0</td>\n",
              "      <td>0</td>\n",
              "      <td>0</td>\n",
              "      <td>...</td>\n",
              "      <td>0</td>\n",
              "      <td>0</td>\n",
              "      <td>0</td>\n",
              "      <td>0</td>\n",
              "      <td>0</td>\n",
              "      <td>0</td>\n",
              "      <td>1</td>\n",
              "      <td>1</td>\n",
              "      <td>0</td>\n",
              "      <td>0</td>\n",
              "    </tr>\n",
              "    <tr>\n",
              "      <th>14752</th>\n",
              "      <td>1</td>\n",
              "      <td>0.122642</td>\n",
              "      <td>0</td>\n",
              "      <td>0</td>\n",
              "      <td>0</td>\n",
              "      <td>0</td>\n",
              "      <td>0</td>\n",
              "      <td>0</td>\n",
              "      <td>0</td>\n",
              "      <td>0</td>\n",
              "      <td>...</td>\n",
              "      <td>0</td>\n",
              "      <td>0</td>\n",
              "      <td>0</td>\n",
              "      <td>0</td>\n",
              "      <td>0</td>\n",
              "      <td>1</td>\n",
              "      <td>0</td>\n",
              "      <td>1</td>\n",
              "      <td>0</td>\n",
              "      <td>0</td>\n",
              "    </tr>\n",
              "    <tr>\n",
              "      <th>14753</th>\n",
              "      <td>1</td>\n",
              "      <td>0.773585</td>\n",
              "      <td>0</td>\n",
              "      <td>0</td>\n",
              "      <td>0</td>\n",
              "      <td>0</td>\n",
              "      <td>0</td>\n",
              "      <td>0</td>\n",
              "      <td>0</td>\n",
              "      <td>0</td>\n",
              "      <td>...</td>\n",
              "      <td>0</td>\n",
              "      <td>0</td>\n",
              "      <td>0</td>\n",
              "      <td>0</td>\n",
              "      <td>0</td>\n",
              "      <td>1</td>\n",
              "      <td>0</td>\n",
              "      <td>1</td>\n",
              "      <td>0</td>\n",
              "      <td>0</td>\n",
              "    </tr>\n",
              "    <tr>\n",
              "      <th>14754</th>\n",
              "      <td>0</td>\n",
              "      <td>0.811321</td>\n",
              "      <td>0</td>\n",
              "      <td>0</td>\n",
              "      <td>0</td>\n",
              "      <td>0</td>\n",
              "      <td>0</td>\n",
              "      <td>0</td>\n",
              "      <td>0</td>\n",
              "      <td>0</td>\n",
              "      <td>...</td>\n",
              "      <td>0</td>\n",
              "      <td>0</td>\n",
              "      <td>0</td>\n",
              "      <td>0</td>\n",
              "      <td>0</td>\n",
              "      <td>1</td>\n",
              "      <td>0</td>\n",
              "      <td>1</td>\n",
              "      <td>0</td>\n",
              "      <td>0</td>\n",
              "    </tr>\n",
              "  </tbody>\n",
              "</table>\n",
              "<p>14755 rows × 138 columns</p>\n",
              "</div>\n",
              "    <div class=\"colab-df-buttons\">\n",
              "\n",
              "  <div class=\"colab-df-container\">\n",
              "    <button class=\"colab-df-convert\" onclick=\"convertToInteractive('df-24ef60cb-8b31-4cd7-8bfb-c2aa66f3b434')\"\n",
              "            title=\"Convert this dataframe to an interactive table.\"\n",
              "            style=\"display:none;\">\n",
              "\n",
              "  <svg xmlns=\"http://www.w3.org/2000/svg\" height=\"24px\" viewBox=\"0 -960 960 960\">\n",
              "    <path d=\"M120-120v-720h720v720H120Zm60-500h600v-160H180v160Zm220 220h160v-160H400v160Zm0 220h160v-160H400v160ZM180-400h160v-160H180v160Zm440 0h160v-160H620v160ZM180-180h160v-160H180v160Zm440 0h160v-160H620v160Z\"/>\n",
              "  </svg>\n",
              "    </button>\n",
              "\n",
              "  <style>\n",
              "    .colab-df-container {\n",
              "      display:flex;\n",
              "      gap: 12px;\n",
              "    }\n",
              "\n",
              "    .colab-df-convert {\n",
              "      background-color: #E8F0FE;\n",
              "      border: none;\n",
              "      border-radius: 50%;\n",
              "      cursor: pointer;\n",
              "      display: none;\n",
              "      fill: #1967D2;\n",
              "      height: 32px;\n",
              "      padding: 0 0 0 0;\n",
              "      width: 32px;\n",
              "    }\n",
              "\n",
              "    .colab-df-convert:hover {\n",
              "      background-color: #E2EBFA;\n",
              "      box-shadow: 0px 1px 2px rgba(60, 64, 67, 0.3), 0px 1px 3px 1px rgba(60, 64, 67, 0.15);\n",
              "      fill: #174EA6;\n",
              "    }\n",
              "\n",
              "    .colab-df-buttons div {\n",
              "      margin-bottom: 4px;\n",
              "    }\n",
              "\n",
              "    [theme=dark] .colab-df-convert {\n",
              "      background-color: #3B4455;\n",
              "      fill: #D2E3FC;\n",
              "    }\n",
              "\n",
              "    [theme=dark] .colab-df-convert:hover {\n",
              "      background-color: #434B5C;\n",
              "      box-shadow: 0px 1px 3px 1px rgba(0, 0, 0, 0.15);\n",
              "      filter: drop-shadow(0px 1px 2px rgba(0, 0, 0, 0.3));\n",
              "      fill: #FFFFFF;\n",
              "    }\n",
              "  </style>\n",
              "\n",
              "    <script>\n",
              "      const buttonEl =\n",
              "        document.querySelector('#df-24ef60cb-8b31-4cd7-8bfb-c2aa66f3b434 button.colab-df-convert');\n",
              "      buttonEl.style.display =\n",
              "        google.colab.kernel.accessAllowed ? 'block' : 'none';\n",
              "\n",
              "      async function convertToInteractive(key) {\n",
              "        const element = document.querySelector('#df-24ef60cb-8b31-4cd7-8bfb-c2aa66f3b434');\n",
              "        const dataTable =\n",
              "          await google.colab.kernel.invokeFunction('convertToInteractive',\n",
              "                                                    [key], {});\n",
              "        if (!dataTable) return;\n",
              "\n",
              "        const docLinkHtml = 'Like what you see? Visit the ' +\n",
              "          '<a target=\"_blank\" href=https://colab.research.google.com/notebooks/data_table.ipynb>data table notebook</a>'\n",
              "          + ' to learn more about interactive tables.';\n",
              "        element.innerHTML = '';\n",
              "        dataTable['output_type'] = 'display_data';\n",
              "        await google.colab.output.renderOutput(dataTable, element);\n",
              "        const docLink = document.createElement('div');\n",
              "        docLink.innerHTML = docLinkHtml;\n",
              "        element.appendChild(docLink);\n",
              "      }\n",
              "    </script>\n",
              "  </div>\n",
              "\n",
              "\n",
              "<div id=\"df-ddbf616a-fe1f-43ef-9ac5-3fbcba879e29\">\n",
              "  <button class=\"colab-df-quickchart\" onclick=\"quickchart('df-ddbf616a-fe1f-43ef-9ac5-3fbcba879e29')\"\n",
              "            title=\"Suggest charts\"\n",
              "            style=\"display:none;\">\n",
              "\n",
              "<svg xmlns=\"http://www.w3.org/2000/svg\" height=\"24px\"viewBox=\"0 0 24 24\"\n",
              "     width=\"24px\">\n",
              "    <g>\n",
              "        <path d=\"M19 3H5c-1.1 0-2 .9-2 2v14c0 1.1.9 2 2 2h14c1.1 0 2-.9 2-2V5c0-1.1-.9-2-2-2zM9 17H7v-7h2v7zm4 0h-2V7h2v10zm4 0h-2v-4h2v4z\"/>\n",
              "    </g>\n",
              "</svg>\n",
              "  </button>\n",
              "\n",
              "<style>\n",
              "  .colab-df-quickchart {\n",
              "      --bg-color: #E8F0FE;\n",
              "      --fill-color: #1967D2;\n",
              "      --hover-bg-color: #E2EBFA;\n",
              "      --hover-fill-color: #174EA6;\n",
              "      --disabled-fill-color: #AAA;\n",
              "      --disabled-bg-color: #DDD;\n",
              "  }\n",
              "\n",
              "  [theme=dark] .colab-df-quickchart {\n",
              "      --bg-color: #3B4455;\n",
              "      --fill-color: #D2E3FC;\n",
              "      --hover-bg-color: #434B5C;\n",
              "      --hover-fill-color: #FFFFFF;\n",
              "      --disabled-bg-color: #3B4455;\n",
              "      --disabled-fill-color: #666;\n",
              "  }\n",
              "\n",
              "  .colab-df-quickchart {\n",
              "    background-color: var(--bg-color);\n",
              "    border: none;\n",
              "    border-radius: 50%;\n",
              "    cursor: pointer;\n",
              "    display: none;\n",
              "    fill: var(--fill-color);\n",
              "    height: 32px;\n",
              "    padding: 0;\n",
              "    width: 32px;\n",
              "  }\n",
              "\n",
              "  .colab-df-quickchart:hover {\n",
              "    background-color: var(--hover-bg-color);\n",
              "    box-shadow: 0 1px 2px rgba(60, 64, 67, 0.3), 0 1px 3px 1px rgba(60, 64, 67, 0.15);\n",
              "    fill: var(--button-hover-fill-color);\n",
              "  }\n",
              "\n",
              "  .colab-df-quickchart-complete:disabled,\n",
              "  .colab-df-quickchart-complete:disabled:hover {\n",
              "    background-color: var(--disabled-bg-color);\n",
              "    fill: var(--disabled-fill-color);\n",
              "    box-shadow: none;\n",
              "  }\n",
              "\n",
              "  .colab-df-spinner {\n",
              "    border: 2px solid var(--fill-color);\n",
              "    border-color: transparent;\n",
              "    border-bottom-color: var(--fill-color);\n",
              "    animation:\n",
              "      spin 1s steps(1) infinite;\n",
              "  }\n",
              "\n",
              "  @keyframes spin {\n",
              "    0% {\n",
              "      border-color: transparent;\n",
              "      border-bottom-color: var(--fill-color);\n",
              "      border-left-color: var(--fill-color);\n",
              "    }\n",
              "    20% {\n",
              "      border-color: transparent;\n",
              "      border-left-color: var(--fill-color);\n",
              "      border-top-color: var(--fill-color);\n",
              "    }\n",
              "    30% {\n",
              "      border-color: transparent;\n",
              "      border-left-color: var(--fill-color);\n",
              "      border-top-color: var(--fill-color);\n",
              "      border-right-color: var(--fill-color);\n",
              "    }\n",
              "    40% {\n",
              "      border-color: transparent;\n",
              "      border-right-color: var(--fill-color);\n",
              "      border-top-color: var(--fill-color);\n",
              "    }\n",
              "    60% {\n",
              "      border-color: transparent;\n",
              "      border-right-color: var(--fill-color);\n",
              "    }\n",
              "    80% {\n",
              "      border-color: transparent;\n",
              "      border-right-color: var(--fill-color);\n",
              "      border-bottom-color: var(--fill-color);\n",
              "    }\n",
              "    90% {\n",
              "      border-color: transparent;\n",
              "      border-bottom-color: var(--fill-color);\n",
              "    }\n",
              "  }\n",
              "</style>\n",
              "\n",
              "  <script>\n",
              "    async function quickchart(key) {\n",
              "      const quickchartButtonEl =\n",
              "        document.querySelector('#' + key + ' button');\n",
              "      quickchartButtonEl.disabled = true;  // To prevent multiple clicks.\n",
              "      quickchartButtonEl.classList.add('colab-df-spinner');\n",
              "      try {\n",
              "        const charts = await google.colab.kernel.invokeFunction(\n",
              "            'suggestCharts', [key], {});\n",
              "      } catch (error) {\n",
              "        console.error('Error during call to suggestCharts:', error);\n",
              "      }\n",
              "      quickchartButtonEl.classList.remove('colab-df-spinner');\n",
              "      quickchartButtonEl.classList.add('colab-df-quickchart-complete');\n",
              "    }\n",
              "    (() => {\n",
              "      let quickchartButtonEl =\n",
              "        document.querySelector('#df-ddbf616a-fe1f-43ef-9ac5-3fbcba879e29 button');\n",
              "      quickchartButtonEl.style.display =\n",
              "        google.colab.kernel.accessAllowed ? 'block' : 'none';\n",
              "    })();\n",
              "  </script>\n",
              "</div>\n",
              "\n",
              "  <div id=\"id_f7ac1db6-4dcd-4cd6-b11c-2f3fb168f60c\">\n",
              "    <style>\n",
              "      .colab-df-generate {\n",
              "        background-color: #E8F0FE;\n",
              "        border: none;\n",
              "        border-radius: 50%;\n",
              "        cursor: pointer;\n",
              "        display: none;\n",
              "        fill: #1967D2;\n",
              "        height: 32px;\n",
              "        padding: 0 0 0 0;\n",
              "        width: 32px;\n",
              "      }\n",
              "\n",
              "      .colab-df-generate:hover {\n",
              "        background-color: #E2EBFA;\n",
              "        box-shadow: 0px 1px 2px rgba(60, 64, 67, 0.3), 0px 1px 3px 1px rgba(60, 64, 67, 0.15);\n",
              "        fill: #174EA6;\n",
              "      }\n",
              "\n",
              "      [theme=dark] .colab-df-generate {\n",
              "        background-color: #3B4455;\n",
              "        fill: #D2E3FC;\n",
              "      }\n",
              "\n",
              "      [theme=dark] .colab-df-generate:hover {\n",
              "        background-color: #434B5C;\n",
              "        box-shadow: 0px 1px 3px 1px rgba(0, 0, 0, 0.15);\n",
              "        filter: drop-shadow(0px 1px 2px rgba(0, 0, 0, 0.3));\n",
              "        fill: #FFFFFF;\n",
              "      }\n",
              "    </style>\n",
              "    <button class=\"colab-df-generate\" onclick=\"generateWithVariable('X')\"\n",
              "            title=\"Generate code using this dataframe.\"\n",
              "            style=\"display:none;\">\n",
              "\n",
              "  <svg xmlns=\"http://www.w3.org/2000/svg\" height=\"24px\"viewBox=\"0 0 24 24\"\n",
              "       width=\"24px\">\n",
              "    <path d=\"M7,19H8.4L18.45,9,17,7.55,7,17.6ZM5,21V16.75L18.45,3.32a2,2,0,0,1,2.83,0l1.4,1.43a1.91,1.91,0,0,1,.58,1.4,1.91,1.91,0,0,1-.58,1.4L9.25,21ZM18.45,9,17,7.55Zm-12,3A5.31,5.31,0,0,0,4.9,8.1,5.31,5.31,0,0,0,1,6.5,5.31,5.31,0,0,0,4.9,4.9,5.31,5.31,0,0,0,6.5,1,5.31,5.31,0,0,0,8.1,4.9,5.31,5.31,0,0,0,12,6.5,5.46,5.46,0,0,0,6.5,12Z\"/>\n",
              "  </svg>\n",
              "    </button>\n",
              "    <script>\n",
              "      (() => {\n",
              "      const buttonEl =\n",
              "        document.querySelector('#id_f7ac1db6-4dcd-4cd6-b11c-2f3fb168f60c button.colab-df-generate');\n",
              "      buttonEl.style.display =\n",
              "        google.colab.kernel.accessAllowed ? 'block' : 'none';\n",
              "\n",
              "      buttonEl.onclick = () => {\n",
              "        google.colab.notebook.generateWithVariable('X');\n",
              "      }\n",
              "      })();\n",
              "    </script>\n",
              "  </div>\n",
              "\n",
              "    </div>\n",
              "  </div>\n"
            ],
            "application/vnd.google.colaboratory.intrinsic+json": {
              "type": "dataframe",
              "variable_name": "X"
            }
          },
          "metadata": {},
          "execution_count": 27
        }
      ],
      "source": [
        "for col in X.columns:       # modified by Ali Sam. (when I try to run the code, the transformation to tensor gives an error of data type, so I have converted the boolean coloumns to int dtype first)\n",
        "    if X[col].dtype == bool:\n",
        "        X[col] = X[col].astype(int)\n",
        "X_use = torch.tensor(X.values, dtype=torch.float32)\n",
        "X_use.shape\n",
        "X"
      ],
      "id": "870e1897"
    },
    {
      "cell_type": "code",
      "execution_count": null,
      "metadata": {
        "id": "LwOao-6_RPjw",
        "colab": {
          "base_uri": "https://localhost:8080/"
        },
        "outputId": "422fc536-c497-4ed0-8be0-84610ddb9a39"
      },
      "outputs": [
        {
          "output_type": "stream",
          "name": "stdout",
          "text": [
            "torch.Size([14755, 1])\n",
            "torch.Size([14755, 1])\n"
          ]
        }
      ],
      "source": [
        "Y_transform = [Y[:, i:i+1] for i in range(Y.size(1))]\n",
        "print(Y_transform[0].shape)\n",
        "W_transform = [W[:, i:i+1] for i in range(W.size(1))]\n",
        "print(W_transform[0].shape)"
      ],
      "id": "LwOao-6_RPjw"
    },
    {
      "cell_type": "code",
      "execution_count": null,
      "metadata": {
        "id": "2df3d69b"
      },
      "outputs": [],
      "source": [
        "#Xinyu\n",
        "full_dataset = MultiTaskDataset(X_use, Y_transform, W_transform, event_all)\n",
        "\n",
        "train_size = int(0.8 * len(full_dataset))\n",
        "test_size = len(full_dataset) - train_size\n",
        "\n",
        "train_dataset, test_dataset = random_split(full_dataset, [train_size, test_size])\n",
        "train_loader = DataLoader(train_dataset, batch_size=args.batch_size, shuffle=True, drop_last=True)\n",
        "test_loader = DataLoader(test_dataset, batch_size=args.batch_size, shuffle=True, drop_last=True)"
      ],
      "id": "2df3d69b"
    },
    {
      "cell_type": "code",
      "execution_count": null,
      "metadata": {
        "id": "XYUkvNcPHUh-",
        "colab": {
          "base_uri": "https://localhost:8080/"
        },
        "outputId": "07f44a69-c510-4ad3-9a9a-d012aad765a5"
      },
      "outputs": [
        {
          "output_type": "stream",
          "name": "stdout",
          "text": [
            "torch.Size([2048, 138])\n",
            "7 torch.Size([2048, 1])\n",
            "7 torch.Size([2048, 1])\n",
            "torch.Size([2048])\n"
          ]
        }
      ],
      "source": [
        "# created by Jingyan to check the data shape before training\n",
        "for x, y, w, e in train_loader:\n",
        "    print(x.shape)\n",
        "    print(len(y), y[0].shape)\n",
        "    print(len(w), w[0].shape)\n",
        "    print(e.shape)\n",
        "    in_features = x.shape[1]\n",
        "    out_features = len(y)\n",
        "    break"
      ],
      "id": "XYUkvNcPHUh-"
    },
    {
      "cell_type": "code",
      "execution_count": null,
      "metadata": {
        "id": "fJVpicFocpmm",
        "colab": {
          "base_uri": "https://localhost:8080/"
        },
        "outputId": "d213acd8-613a-48b5-85b7-cc49aaf29026"
      },
      "outputs": [
        {
          "output_type": "execute_result",
          "data": {
            "text/plain": [
              "7"
            ]
          },
          "metadata": {},
          "execution_count": 31
        }
      ],
      "source": [
        "out_features"
      ],
      "id": "fJVpicFocpmm"
    },
    {
      "cell_type": "code",
      "execution_count": null,
      "metadata": {
        "id": "rfZk8o1wVMnJ",
        "colab": {
          "base_uri": "https://localhost:8080/"
        },
        "outputId": "07c40763-01aa-4d1b-9ed8-4326fcefad2c"
      },
      "outputs": [
        {
          "output_type": "stream",
          "name": "stdout",
          "text": [
            "torch.Size([2048, 138])\n",
            "7 torch.Size([2048, 1])\n",
            "7 torch.Size([2048, 1])\n",
            "torch.Size([2048])\n"
          ]
        }
      ],
      "source": [
        "for x, y, w, e in test_loader:\n",
        "    print(x.shape)\n",
        "    print(len(y), y[0].shape)\n",
        "    print(len(w), w[0].shape)\n",
        "    print(e.shape)\n",
        "    break"
      ],
      "id": "rfZk8o1wVMnJ"
    },
    {
      "cell_type": "code",
      "execution_count": null,
      "metadata": {
        "id": "4p-O7JPL_81g"
      },
      "outputs": [],
      "source": [
        "e_train = []\n",
        "for x, y, w, e in train_loader:\n",
        "  e_train.append(e)\n",
        "\n",
        "event_train = torch.cat(e_train, dim=0)"
      ],
      "id": "4p-O7JPL_81g"
    },
    {
      "cell_type": "code",
      "execution_count": null,
      "metadata": {
        "id": "y8mAUKtjAJQm",
        "colab": {
          "base_uri": "https://localhost:8080/"
        },
        "outputId": "3bf06058-68e2-465f-d5a5-8daf4a4be6c8"
      },
      "outputs": [
        {
          "output_type": "execute_result",
          "data": {
            "text/plain": [
              "torch.Size([10240])"
            ]
          },
          "metadata": {},
          "execution_count": 34
        }
      ],
      "source": [
        "event_train.shape"
      ],
      "id": "y8mAUKtjAJQm"
    },
    {
      "cell_type": "markdown",
      "metadata": {
        "id": "_-1hL3F0dZ94"
      },
      "source": [
        "## Original Code (comment out)"
      ],
      "id": "_-1hL3F0dZ94"
    },
    {
      "cell_type": "code",
      "execution_count": null,
      "metadata": {
        "id": "3e064423"
      },
      "outputs": [],
      "source": [
        "# num_columns = Y_train.shape[1]\n",
        "# Y_train_cols = []\n",
        "# for i in range(num_columns):\n",
        "#     col = Y_train[:, i]\n",
        "#     var_name = 'Y' + str(i+1)\n",
        "#     locals()[var_name] = col\n",
        "#     Y_train_cols.append(locals()[var_name])\n",
        "\n",
        "# num_test_columns = Y_test.shape[1]\n",
        "# Y_test_cols = []\n",
        "# for i in range(num_test_columns):\n",
        "#     col = Y_test[:, i]\n",
        "#     var_name = 'Y' + str(i+1)\n",
        "#     locals()[var_name] = col\n",
        "#     Y_test_cols.append(locals()[var_name])"
      ],
      "id": "3e064423"
    },
    {
      "cell_type": "code",
      "execution_count": null,
      "metadata": {
        "id": "50beee74"
      },
      "outputs": [],
      "source": [
        "# num_columns = W_train.shape[1]\n",
        "\n",
        "# W_train_cols = []\n",
        "\n",
        "# for i in range(num_columns):\n",
        "#   col = W_train[:, i]\n",
        "#   var_name = 'W' + str(i+1)\n",
        "#   locals()[var_name] = col\n",
        "#   W_train_cols.append(locals()[var_name])\n",
        "\n",
        "# num_test_columns = W_test.shape[1]\n",
        "\n",
        "# W_test_cols = []\n",
        "\n",
        "# for i in range(num_test_columns):\n",
        "#   col = W_test[:, i]\n",
        "#   var_name = 'W' + str(i+1)\n",
        "#   locals()[var_name] = col\n",
        "#   W_test_cols.append(locals()[var_name])"
      ],
      "id": "50beee74"
    },
    {
      "cell_type": "code",
      "execution_count": null,
      "metadata": {
        "id": "c681806b",
        "scrolled": true
      },
      "outputs": [],
      "source": [
        "# print(W_train_cols[1].shape)\n",
        "# print(W_test_cols[1].shape)\n",
        "# print(Y_train_cols[1].shape)\n",
        "# print(Y_test_cols[1].shape)"
      ],
      "id": "c681806b"
    },
    {
      "cell_type": "markdown",
      "metadata": {
        "id": "5eBcr_gqdevp"
      },
      "source": [
        "## Model\n",
        "- Changed the loss function to match the data format using dataloader"
      ],
      "id": "5eBcr_gqdevp"
    },
    {
      "cell_type": "code",
      "execution_count": null,
      "metadata": {
        "id": "2ee0f912"
      },
      "outputs": [],
      "source": [
        "import torch.nn as nn\n",
        "import torch.nn.functional as F"
      ],
      "id": "2ee0f912"
    },
    {
      "cell_type": "code",
      "execution_count": null,
      "metadata": {
        "id": "56e001e5"
      },
      "outputs": [],
      "source": [
        "# Made by Xinyu and modified by Dr.Li and Jingyan\n",
        "# Modified by Ruiheng\n",
        "import torch.nn.init as init\n",
        "\n",
        "class MultiTaskModel(nn.Module):\n",
        "    def __init__(self, in_features, out_features):\n",
        "        super(MultiTaskModel, self).__init__()\n",
        "        self.num_tasks = out_features\n",
        "        self.input_features = in_features\n",
        "\n",
        "        self.shared_layers = nn.Sequential(\n",
        "            nn.Linear(in_features, 256),\n",
        "            nn.Mish(),# Use mish instead of relu to reduce neuronal death\n",
        "            nn.BatchNorm1d(256),\n",
        "\n",
        "            nn.Linear(256, 256),\n",
        "            nn.Mish(),\n",
        "            nn.BatchNorm1d(256),\n",
        "\n",
        "            nn.Linear(256, 128),\n",
        "            nn.Mish(),\n",
        "            nn.BatchNorm1d(128),\n",
        "        )\n",
        "\n",
        "\n",
        "        self.task_layers = nn.ModuleList([nn.Linear(128, 1) for _ in range(out_features)])\n",
        "\n",
        "        self._init_weights()\n",
        "# Use appropriate weights to initialize and reduce the problem of neuronal death in the early stages of training.\n",
        "    def _init_weights(self):\n",
        "        for m in self.modules():\n",
        "            if isinstance(m, nn.Linear):\n",
        "                init.kaiming_normal_(m.weight, nonlinearity='relu')\n",
        "                if m.bias is not None:\n",
        "                    init.constant_(m.bias, 0)\n",
        "\n",
        "# This forward propagation logic defines the chain propagation of our idea\n",
        "    def forward(self, x):\n",
        "        shared_output = self.shared_layers(x)\n",
        "        task_outputs = []\n",
        "        for i, task_layer in enumerate(self.task_layers):\n",
        "            if i == 0:\n",
        "                task_output = torch.sigmoid(task_layer(shared_output))\n",
        "            else:\n",
        "                task_output = torch.sigmoid(task_layer(shared_output)) * task_outputs[-1]\n",
        "            task_outputs.append(task_output)\n",
        "\n",
        "        return task_outputs# Here I difined the S(x)\n",
        "\n",
        "\n",
        "    # def custom_loss(self, task_outputs, Y_train_cols, W_train_cols):\n",
        "    #     loss = 0\n",
        "    #     for i, task_output in enumerate(task_outputs):\n",
        "    #         task_target = Y_train_cols[i].unsqueeze(1)\n",
        "    #         task_mask = W_train_cols[i].unsqueeze(1)\n",
        "    #         task_loss = F.binary_cross_entropy_with_logits(task_output, task_target.float(), reduction='none')\n",
        "    #         task_loss = task_loss * task_mask.float()\n",
        "    #         loss += task_loss.sum() / task_mask.sum()\n",
        "    #     return loss#There are how I use mask matrix W to control the loss function\n",
        "\n",
        "# Modified by Jingyan\n",
        "    def custom_loss(self, task_outputs, targets, masks):\n",
        "        loss = 0\n",
        "        for i, task_output in enumerate(task_outputs):\n",
        "            task_target = targets[i]\n",
        "            task_mask = masks[i]\n",
        "            task_loss = F.binary_cross_entropy(task_output, task_target.float(), reduction='none')\n",
        "            task_loss = task_loss * task_mask.float()\n",
        "            loss += task_loss.sum() / task_mask.sum()\n",
        "        return loss"
      ],
      "id": "56e001e5"
    },
    {
      "cell_type": "code",
      "source": [
        "# made by Ruiheng\n",
        "#Referenced this code https://github.com/jingyanjiang/attributionpriors_multitask.git\n",
        "import functools\n",
        "import operator\n",
        "import torch\n",
        "from torch.autograd import grad\n",
        "from torch.utils.data import DataLoader\n",
        "\n",
        "def gather_nd(params, indices):\n",
        "    max_value = functools.reduce(operator.mul, list(params.size())) - 1\n",
        "    indices = indices.t().long()\n",
        "    ndim = indices.size(0)\n",
        "    idx = torch.zeros_like(indices[0]).long()\n",
        "    m = 1\n",
        "    for i in range(ndim)[::-1]:\n",
        "        idx += indices[i]*m\n",
        "        m *= params.size(i)\n",
        "\n",
        "    idx[idx < 0] = 0\n",
        "    idx[idx > max_value] = 0\n",
        "    return torch.take(params, idx)\n",
        "\n",
        "class IG_Attribution(object):\n",
        "    def __init__(self, background_dataset, batch_size, random_alpha=True, k=1, scale_by_inputs=True):\n",
        "        self.random_alpha = random_alpha\n",
        "        self.k = k\n",
        "        self.scale_by_inputs = scale_by_inputs\n",
        "        self.batch_size = batch_size\n",
        "        self.ref_set = background_dataset\n",
        "        self.ref_sampler = DataLoader(\n",
        "            dataset=background_dataset,\n",
        "            batch_size=batch_size * k,\n",
        "            shuffle=True,\n",
        "            drop_last=True)\n",
        "        return\n",
        "\n",
        "    def _get_ref_batch(self, k=None):\n",
        "        return next(iter(self.ref_sampler))[0].float()\n",
        "\n",
        "    def _get_samples_input(self, input_tensor, reference_tensor):\n",
        "        input_dims = list(input_tensor.size())[1:]\n",
        "        num_input_dims = len(input_dims)\n",
        "\n",
        "        batch_size = reference_tensor.size()[0]\n",
        "        k_ = reference_tensor.size()[1]\n",
        "\n",
        "        # Grab a [batch_size, k]-sized interpolation sample\n",
        "        if self.random_alpha:\n",
        "            t_tensor = torch.FloatTensor(batch_size, k_).uniform_(0, 1).to(device)\n",
        "        else:\n",
        "            if k_ == 1:\n",
        "                t_tensor = torch.cat([torch.Tensor([1.0]) for i in range(batch_size)]).to(device)\n",
        "            else:\n",
        "                t_tensor = torch.cat([torch.linspace(0, 1, k_) for i in range(batch_size)]).to(device)\n",
        "\n",
        "        shape = [batch_size, k_] + [1] * num_input_dims\n",
        "        interp_coef = t_tensor.view(*shape)\n",
        "\n",
        "        # Evaluate the end points\n",
        "        end_point_ref = (1.0 - interp_coef) * reference_tensor\n",
        "\n",
        "        input_expand_mult = input_tensor.unsqueeze(1)\n",
        "        end_point_input = interp_coef * input_expand_mult\n",
        "\n",
        "        # A fine Affine Combine\n",
        "        samples_input = end_point_input + end_point_ref\n",
        "        return samples_input\n",
        "\n",
        "    def _get_samples_delta(self, input_tensor, reference_tensor):\n",
        "        input_expand_mult = input_tensor.unsqueeze(1)\n",
        "        sd = input_expand_mult - reference_tensor\n",
        "        return sd\n",
        "\n",
        "    def _get_grads(self, samples_input, model, sparse_labels=None):\n",
        "        # samples_input.requires_grad = True\n",
        "        samples_input = samples_input.detach().clone().requires_grad_(True)\n",
        "        temp_output = model(samples_input[:, 0])\n",
        "        grad_tensors = [torch.zeros(samples_input.shape).float().to(device) for _ in range(len(temp_output))]\n",
        "\n",
        "        # For each task, do below\n",
        "        for i in range(self.k):\n",
        "            # Should store the input instead of getting the slice again\n",
        "            # Otherwise, the grad() cannot recognize the input\n",
        "            particular_slice = samples_input[:, i]\n",
        "            batch_outputs = model(particular_slice)\n",
        "            tasks_grads = []\n",
        "            for idx in range(len(batch_outputs)):\n",
        "                batch_output = batch_outputs[idx]\n",
        "                if batch_output.size(1) > 1:\n",
        "                    sample_indices = torch.arange(0, batch_output.size(0)).to(device)\n",
        "                    indices_tensor = torch.cat([\n",
        "                        sample_indices.unsqueeze(1),\n",
        "                        sparse_labels.unsqueeze(1)], dim=1)\n",
        "                    batch_output = gather_nd(batch_output, indices_tensor)\n",
        "\n",
        "                model_grads = grad(\n",
        "                    outputs=batch_output,\n",
        "                    inputs=particular_slice,\n",
        "                    grad_outputs=torch.ones_like(batch_output).to(device),\n",
        "                    create_graph=True)\n",
        "                grad_tensors[idx][:, i, :] = model_grads[0]\n",
        "\n",
        "        return grad_tensors\n",
        "# Modified by Ruiheng\n",
        "    def shap_values(self, model, input_tensor, sparse_labels=None):\n",
        "        reference_tensor = self._get_ref_batch()\n",
        "        shape = reference_tensor.shape\n",
        "        reference_tensor = reference_tensor.view(\n",
        "            self.batch_size,\n",
        "            self.k,\n",
        "            *(shape[1:])).to(device)\n",
        "\n",
        "        samples_input = self._get_samples_input(input_tensor, reference_tensor)\n",
        "        samples_delta = self._get_samples_delta(input_tensor, reference_tensor)\n",
        "        grad_tensor = self._get_grads(samples_input, model, sparse_labels)\n",
        "        mult_grads_list = [samples_delta * grad_tensor[i] if self.scale_by_inputs else grad_tensor[i] for i in\n",
        "                           range(len(grad_tensor))]\n",
        "        expected_grads_list = [mult_grads_list[i].mean(1) for i in range(len(mult_grads_list))]\n",
        "\n",
        "        #transform a stacked two-dimensional tensor into a three-dimensional one\n",
        "        expected_grads = torch.stack(expected_grads_list, dim=-1)\n",
        "\n",
        "        return expected_grads"
      ],
      "metadata": {
        "id": "Ybf64plkC_ot"
      },
      "id": "Ybf64plkC_ot",
      "execution_count": null,
      "outputs": []
    },
    {
      "cell_type": "markdown",
      "metadata": {
        "id": "mb0UBetYr9HM"
      },
      "source": [
        "## Training\n",
        "- Rewrote the training part"
      ],
      "id": "mb0UBetYr9HM"
    },
    {
      "cell_type": "code",
      "execution_count": null,
      "metadata": {
        "id": "bC6-x4uOXp8z",
        "colab": {
          "base_uri": "https://localhost:8080/"
        },
        "outputId": "76b29ec8-1221-481d-da7e-19738e69e5f7"
      },
      "outputs": [
        {
          "output_type": "stream",
          "name": "stderr",
          "text": [
            "Epoch 1/75:  20%|██        | 1/5 [00:00<00:01,  2.38it/s, Loss=200]"
          ]
        },
        {
          "output_type": "stream",
          "name": "stdout",
          "text": [
            "torch.Size([2048, 138, 7])\n",
            "tensor(False, device='cuda:0')\n"
          ]
        },
        {
          "output_type": "stream",
          "name": "stderr",
          "text": [
            "Epoch 1/75:  40%|████      | 2/5 [00:00<00:00,  3.11it/s, Loss=195]"
          ]
        },
        {
          "output_type": "stream",
          "name": "stdout",
          "text": [
            "torch.Size([2048, 138, 7])\n",
            "tensor(False, device='cuda:0')\n"
          ]
        },
        {
          "output_type": "stream",
          "name": "stderr",
          "text": [
            "Epoch 1/75:  60%|██████    | 3/5 [00:01<00:00,  2.78it/s, Loss=187]"
          ]
        },
        {
          "output_type": "stream",
          "name": "stdout",
          "text": [
            "torch.Size([2048, 138, 7])\n",
            "tensor(False, device='cuda:0')\n"
          ]
        },
        {
          "output_type": "stream",
          "name": "stderr",
          "text": [
            "Epoch 1/75:  80%|████████  | 4/5 [00:01<00:00,  3.13it/s, Loss=185]"
          ]
        },
        {
          "output_type": "stream",
          "name": "stdout",
          "text": [
            "torch.Size([2048, 138, 7])\n",
            "tensor(False, device='cuda:0')\n"
          ]
        },
        {
          "output_type": "stream",
          "name": "stderr",
          "text": [
            "Epoch 1/75: 100%|██████████| 5/5 [00:01<00:00,  2.81it/s, Loss=180]\n"
          ]
        },
        {
          "output_type": "stream",
          "name": "stdout",
          "text": [
            "torch.Size([2048, 138, 7])\n",
            "tensor(False, device='cuda:0')\n",
            "End of Epoch 1, Average Loss: 189.3847\n"
          ]
        },
        {
          "output_type": "stream",
          "name": "stderr",
          "text": [
            "Epoch 2/75:  20%|██        | 1/5 [00:00<00:01,  2.41it/s, Loss=175]"
          ]
        },
        {
          "output_type": "stream",
          "name": "stdout",
          "text": [
            "torch.Size([2048, 138, 7])\n",
            "tensor(False, device='cuda:0')\n"
          ]
        },
        {
          "output_type": "stream",
          "name": "stderr",
          "text": [
            "Epoch 2/75:  40%|████      | 2/5 [00:00<00:00,  3.13it/s, Loss=169]"
          ]
        },
        {
          "output_type": "stream",
          "name": "stdout",
          "text": [
            "torch.Size([2048, 138, 7])\n",
            "tensor(False, device='cuda:0')\n"
          ]
        },
        {
          "output_type": "stream",
          "name": "stderr",
          "text": [
            "Epoch 2/75:  60%|██████    | 3/5 [00:01<00:00,  2.75it/s, Loss=165]"
          ]
        },
        {
          "output_type": "stream",
          "name": "stdout",
          "text": [
            "torch.Size([2048, 138, 7])\n",
            "tensor(False, device='cuda:0')\n"
          ]
        },
        {
          "output_type": "stream",
          "name": "stderr",
          "text": [
            "Epoch 2/75:  80%|████████  | 4/5 [00:01<00:00,  3.13it/s, Loss=158]"
          ]
        },
        {
          "output_type": "stream",
          "name": "stdout",
          "text": [
            "torch.Size([2048, 138, 7])\n",
            "tensor(False, device='cuda:0')\n"
          ]
        },
        {
          "output_type": "stream",
          "name": "stderr",
          "text": [
            "Epoch 2/75: 100%|██████████| 5/5 [00:01<00:00,  2.86it/s, Loss=155]\n"
          ]
        },
        {
          "output_type": "stream",
          "name": "stdout",
          "text": [
            "torch.Size([2048, 138, 7])\n",
            "tensor(False, device='cuda:0')\n",
            "End of Epoch 2, Average Loss: 164.3455\n"
          ]
        },
        {
          "output_type": "stream",
          "name": "stderr",
          "text": [
            "Epoch 3/75:  20%|██        | 1/5 [00:00<00:01,  2.33it/s, Loss=150]"
          ]
        },
        {
          "output_type": "stream",
          "name": "stdout",
          "text": [
            "torch.Size([2048, 138, 7])\n",
            "tensor(False, device='cuda:0')\n"
          ]
        },
        {
          "output_type": "stream",
          "name": "stderr",
          "text": [
            "Epoch 3/75:  40%|████      | 2/5 [00:00<00:00,  3.07it/s, Loss=148]"
          ]
        },
        {
          "output_type": "stream",
          "name": "stdout",
          "text": [
            "torch.Size([2048, 138, 7])\n",
            "tensor(False, device='cuda:0')\n"
          ]
        },
        {
          "output_type": "stream",
          "name": "stderr",
          "text": [
            "Epoch 3/75:  60%|██████    | 3/5 [00:01<00:00,  2.65it/s, Loss=145]"
          ]
        },
        {
          "output_type": "stream",
          "name": "stdout",
          "text": [
            "torch.Size([2048, 138, 7])\n",
            "tensor(False, device='cuda:0')\n"
          ]
        },
        {
          "output_type": "stream",
          "name": "stderr",
          "text": [
            "Epoch 3/75:  80%|████████  | 4/5 [00:01<00:00,  2.53it/s, Loss=140]"
          ]
        },
        {
          "output_type": "stream",
          "name": "stdout",
          "text": [
            "torch.Size([2048, 138, 7])\n",
            "tensor(False, device='cuda:0')\n"
          ]
        },
        {
          "output_type": "stream",
          "name": "stderr",
          "text": [
            "Epoch 3/75: 100%|██████████| 5/5 [00:01<00:00,  2.77it/s, Loss=135]\n"
          ]
        },
        {
          "output_type": "stream",
          "name": "stdout",
          "text": [
            "torch.Size([2048, 138, 7])\n",
            "tensor(False, device='cuda:0')\n",
            "End of Epoch 3, Average Loss: 143.6899\n"
          ]
        },
        {
          "output_type": "stream",
          "name": "stderr",
          "text": [
            "Epoch 4/75:  20%|██        | 1/5 [00:00<00:01,  2.40it/s, Loss=133]"
          ]
        },
        {
          "output_type": "stream",
          "name": "stdout",
          "text": [
            "torch.Size([2048, 138, 7])\n",
            "tensor(False, device='cuda:0')\n"
          ]
        },
        {
          "output_type": "stream",
          "name": "stderr",
          "text": [
            "Epoch 4/75:  40%|████      | 2/5 [00:00<00:00,  3.12it/s, Loss=129]"
          ]
        },
        {
          "output_type": "stream",
          "name": "stdout",
          "text": [
            "torch.Size([2048, 138, 7])\n",
            "tensor(False, device='cuda:0')\n"
          ]
        },
        {
          "output_type": "stream",
          "name": "stderr",
          "text": [
            "Epoch 4/75:  60%|██████    | 3/5 [00:01<00:00,  2.76it/s, Loss=127]"
          ]
        },
        {
          "output_type": "stream",
          "name": "stdout",
          "text": [
            "torch.Size([2048, 138, 7])\n",
            "tensor(False, device='cuda:0')\n"
          ]
        },
        {
          "output_type": "stream",
          "name": "stderr",
          "text": [
            "Epoch 4/75:  80%|████████  | 4/5 [00:01<00:00,  2.58it/s, Loss=123]"
          ]
        },
        {
          "output_type": "stream",
          "name": "stdout",
          "text": [
            "torch.Size([2048, 138, 7])\n",
            "tensor(False, device='cuda:0')\n"
          ]
        },
        {
          "output_type": "stream",
          "name": "stderr",
          "text": [
            "Epoch 4/75: 100%|██████████| 5/5 [00:01<00:00,  2.83it/s, Loss=120]\n"
          ]
        },
        {
          "output_type": "stream",
          "name": "stdout",
          "text": [
            "torch.Size([2048, 138, 7])\n",
            "tensor(False, device='cuda:0')\n",
            "End of Epoch 4, Average Loss: 126.5492\n"
          ]
        },
        {
          "output_type": "stream",
          "name": "stderr",
          "text": [
            "Epoch 5/75:  20%|██        | 1/5 [00:00<00:01,  2.39it/s, Loss=118]"
          ]
        },
        {
          "output_type": "stream",
          "name": "stdout",
          "text": [
            "torch.Size([2048, 138, 7])\n",
            "tensor(False, device='cuda:0')\n"
          ]
        },
        {
          "output_type": "stream",
          "name": "stderr",
          "text": [
            "Epoch 5/75:  40%|████      | 2/5 [00:00<00:00,  3.06it/s, Loss=116]"
          ]
        },
        {
          "output_type": "stream",
          "name": "stdout",
          "text": [
            "torch.Size([2048, 138, 7])\n",
            "tensor(False, device='cuda:0')\n"
          ]
        },
        {
          "output_type": "stream",
          "name": "stderr",
          "text": [
            "Epoch 5/75:  60%|██████    | 3/5 [00:01<00:00,  2.74it/s, Loss=113]"
          ]
        },
        {
          "output_type": "stream",
          "name": "stdout",
          "text": [
            "torch.Size([2048, 138, 7])\n",
            "tensor(False, device='cuda:0')\n"
          ]
        },
        {
          "output_type": "stream",
          "name": "stderr",
          "text": [
            "Epoch 5/75:  80%|████████  | 4/5 [00:01<00:00,  2.57it/s, Loss=109]"
          ]
        },
        {
          "output_type": "stream",
          "name": "stdout",
          "text": [
            "torch.Size([2048, 138, 7])\n",
            "tensor(False, device='cuda:0')\n"
          ]
        },
        {
          "output_type": "stream",
          "name": "stderr",
          "text": [
            "Epoch 5/75: 100%|██████████| 5/5 [00:01<00:00,  2.79it/s, Loss=108]\n"
          ]
        },
        {
          "output_type": "stream",
          "name": "stdout",
          "text": [
            "torch.Size([2048, 138, 7])\n",
            "tensor(False, device='cuda:0')\n",
            "End of Epoch 5, Average Loss: 112.6766\n"
          ]
        },
        {
          "output_type": "stream",
          "name": "stderr",
          "text": [
            "Epoch 6/75:  20%|██        | 1/5 [00:00<00:01,  2.48it/s, Loss=107]"
          ]
        },
        {
          "output_type": "stream",
          "name": "stdout",
          "text": [
            "torch.Size([2048, 138, 7])\n",
            "tensor(False, device='cuda:0')\n"
          ]
        },
        {
          "output_type": "stream",
          "name": "stderr",
          "text": [
            "Epoch 6/75:  40%|████      | 2/5 [00:00<00:01,  2.39it/s, Loss=103]"
          ]
        },
        {
          "output_type": "stream",
          "name": "stdout",
          "text": [
            "torch.Size([2048, 138, 7])\n",
            "tensor(False, device='cuda:0')\n"
          ]
        },
        {
          "output_type": "stream",
          "name": "stderr",
          "text": [
            "Epoch 6/75:  60%|██████    | 3/5 [00:01<00:00,  2.91it/s, Loss=101]"
          ]
        },
        {
          "output_type": "stream",
          "name": "stdout",
          "text": [
            "torch.Size([2048, 138, 7])\n",
            "tensor(False, device='cuda:0')\n"
          ]
        },
        {
          "output_type": "stream",
          "name": "stderr",
          "text": [
            "Epoch 6/75:  80%|████████  | 4/5 [00:01<00:00,  2.70it/s, Loss=99.4]"
          ]
        },
        {
          "output_type": "stream",
          "name": "stdout",
          "text": [
            "torch.Size([2048, 138, 7])\n",
            "tensor(False, device='cuda:0')\n"
          ]
        },
        {
          "output_type": "stream",
          "name": "stderr",
          "text": [
            "Epoch 6/75: 100%|██████████| 5/5 [00:01<00:00,  2.85it/s, Loss=96.3]\n"
          ]
        },
        {
          "output_type": "stream",
          "name": "stdout",
          "text": [
            "torch.Size([2048, 138, 7])\n",
            "tensor(False, device='cuda:0')\n",
            "End of Epoch 6, Average Loss: 101.4232\n"
          ]
        },
        {
          "output_type": "stream",
          "name": "stderr",
          "text": [
            "Epoch 7/75:  20%|██        | 1/5 [00:00<00:01,  2.43it/s, Loss=95.8]"
          ]
        },
        {
          "output_type": "stream",
          "name": "stdout",
          "text": [
            "torch.Size([2048, 138, 7])\n",
            "tensor(False, device='cuda:0')\n"
          ]
        },
        {
          "output_type": "stream",
          "name": "stderr",
          "text": [
            "Epoch 7/75:  40%|████      | 2/5 [00:00<00:01,  2.45it/s, Loss=92.8]"
          ]
        },
        {
          "output_type": "stream",
          "name": "stdout",
          "text": [
            "torch.Size([2048, 138, 7])\n",
            "tensor(False, device='cuda:0')\n"
          ]
        },
        {
          "output_type": "stream",
          "name": "stderr",
          "text": [
            "Epoch 7/75:  60%|██████    | 3/5 [00:01<00:00,  2.96it/s, Loss=91.3]"
          ]
        },
        {
          "output_type": "stream",
          "name": "stdout",
          "text": [
            "torch.Size([2048, 138, 7])\n",
            "tensor(False, device='cuda:0')\n"
          ]
        },
        {
          "output_type": "stream",
          "name": "stderr",
          "text": [
            "Epoch 7/75:  80%|████████  | 4/5 [00:01<00:00,  2.74it/s, Loss=89.9]"
          ]
        },
        {
          "output_type": "stream",
          "name": "stdout",
          "text": [
            "torch.Size([2048, 138, 7])\n",
            "tensor(False, device='cuda:0')\n"
          ]
        },
        {
          "output_type": "stream",
          "name": "stderr",
          "text": [
            "Epoch 7/75: 100%|██████████| 5/5 [00:01<00:00,  2.64it/s, Loss=88.3]\n"
          ]
        },
        {
          "output_type": "stream",
          "name": "stdout",
          "text": [
            "torch.Size([2048, 138, 7])\n",
            "tensor(False, device='cuda:0')\n",
            "End of Epoch 7, Average Loss: 91.6324\n"
          ]
        },
        {
          "output_type": "stream",
          "name": "stderr",
          "text": [
            "Epoch 8/75:  20%|██        | 1/5 [00:00<00:01,  3.76it/s, Loss=86]"
          ]
        },
        {
          "output_type": "stream",
          "name": "stdout",
          "text": [
            "torch.Size([2048, 138, 7])\n",
            "tensor(False, device='cuda:0')\n"
          ]
        },
        {
          "output_type": "stream",
          "name": "stderr",
          "text": [
            "Epoch 8/75:  40%|████      | 2/5 [00:00<00:01,  2.88it/s, Loss=85.1]"
          ]
        },
        {
          "output_type": "stream",
          "name": "stdout",
          "text": [
            "torch.Size([2048, 138, 7])\n",
            "tensor(False, device='cuda:0')\n"
          ]
        },
        {
          "output_type": "stream",
          "name": "stderr",
          "text": [
            "Epoch 8/75:  60%|██████    | 3/5 [00:00<00:00,  3.26it/s, Loss=82.2]"
          ]
        },
        {
          "output_type": "stream",
          "name": "stdout",
          "text": [
            "torch.Size([2048, 138, 7])\n",
            "tensor(False, device='cuda:0')\n"
          ]
        },
        {
          "output_type": "stream",
          "name": "stderr",
          "text": [
            "Epoch 8/75:  80%|████████  | 4/5 [00:01<00:00,  2.90it/s, Loss=81.9]"
          ]
        },
        {
          "output_type": "stream",
          "name": "stdout",
          "text": [
            "torch.Size([2048, 138, 7])\n",
            "tensor(False, device='cuda:0')\n"
          ]
        },
        {
          "output_type": "stream",
          "name": "stderr",
          "text": [
            "Epoch 8/75: 100%|██████████| 5/5 [00:01<00:00,  2.87it/s, Loss=80.6]\n"
          ]
        },
        {
          "output_type": "stream",
          "name": "stdout",
          "text": [
            "torch.Size([2048, 138, 7])\n",
            "tensor(False, device='cuda:0')\n",
            "End of Epoch 8, Average Loss: 83.1559\n"
          ]
        },
        {
          "output_type": "stream",
          "name": "stderr",
          "text": [
            "Epoch 9/75:  20%|██        | 1/5 [00:00<00:01,  3.99it/s, Loss=77.8]"
          ]
        },
        {
          "output_type": "stream",
          "name": "stdout",
          "text": [
            "torch.Size([2048, 138, 7])\n",
            "tensor(False, device='cuda:0')\n"
          ]
        },
        {
          "output_type": "stream",
          "name": "stderr",
          "text": [
            "Epoch 9/75:  40%|████      | 2/5 [00:00<00:01,  2.80it/s, Loss=77.3]"
          ]
        },
        {
          "output_type": "stream",
          "name": "stdout",
          "text": [
            "torch.Size([2048, 138, 7])\n",
            "tensor(False, device='cuda:0')\n"
          ]
        },
        {
          "output_type": "stream",
          "name": "stderr",
          "text": [
            "Epoch 9/75:  60%|██████    | 3/5 [00:01<00:00,  2.60it/s, Loss=74.5]"
          ]
        },
        {
          "output_type": "stream",
          "name": "stdout",
          "text": [
            "torch.Size([2048, 138, 7])\n",
            "tensor(False, device='cuda:0')\n"
          ]
        },
        {
          "output_type": "stream",
          "name": "stderr",
          "text": [
            "Epoch 9/75:  80%|████████  | 4/5 [00:01<00:00,  3.00it/s, Loss=72.9]"
          ]
        },
        {
          "output_type": "stream",
          "name": "stdout",
          "text": [
            "torch.Size([2048, 138, 7])\n",
            "tensor(False, device='cuda:0')\n"
          ]
        },
        {
          "output_type": "stream",
          "name": "stderr",
          "text": [
            "Epoch 9/75: 100%|██████████| 5/5 [00:01<00:00,  2.80it/s, Loss=72.8]\n"
          ]
        },
        {
          "output_type": "stream",
          "name": "stdout",
          "text": [
            "torch.Size([2048, 138, 7])\n",
            "tensor(False, device='cuda:0')\n",
            "End of Epoch 9, Average Loss: 75.0441\n"
          ]
        },
        {
          "output_type": "stream",
          "name": "stderr",
          "text": [
            "Epoch 10/75:  20%|██        | 1/5 [00:00<00:01,  3.89it/s, Loss=71.8]"
          ]
        },
        {
          "output_type": "stream",
          "name": "stdout",
          "text": [
            "torch.Size([2048, 138, 7])\n",
            "tensor(False, device='cuda:0')\n"
          ]
        },
        {
          "output_type": "stream",
          "name": "stderr",
          "text": [
            "Epoch 10/75:  40%|████      | 2/5 [00:00<00:01,  2.94it/s, Loss=69.8]"
          ]
        },
        {
          "output_type": "stream",
          "name": "stdout",
          "text": [
            "torch.Size([2048, 138, 7])\n",
            "tensor(False, device='cuda:0')\n"
          ]
        },
        {
          "output_type": "stream",
          "name": "stderr",
          "text": [
            "Epoch 10/75:  60%|██████    | 3/5 [00:01<00:00,  2.69it/s, Loss=69]"
          ]
        },
        {
          "output_type": "stream",
          "name": "stdout",
          "text": [
            "torch.Size([2048, 138, 7])\n",
            "tensor(False, device='cuda:0')\n"
          ]
        },
        {
          "output_type": "stream",
          "name": "stderr",
          "text": [
            "Epoch 10/75:  80%|████████  | 4/5 [00:01<00:00,  3.09it/s, Loss=67.9]"
          ]
        },
        {
          "output_type": "stream",
          "name": "stdout",
          "text": [
            "torch.Size([2048, 138, 7])\n",
            "tensor(False, device='cuda:0')\n"
          ]
        },
        {
          "output_type": "stream",
          "name": "stderr",
          "text": [
            "Epoch 10/75: 100%|██████████| 5/5 [00:01<00:00,  2.90it/s, Loss=67.4]\n"
          ]
        },
        {
          "output_type": "stream",
          "name": "stdout",
          "text": [
            "torch.Size([2048, 138, 7])\n",
            "tensor(False, device='cuda:0')\n",
            "End of Epoch 10, Average Loss: 69.1879\n"
          ]
        },
        {
          "output_type": "stream",
          "name": "stderr",
          "text": [
            "Epoch 11/75:  20%|██        | 1/5 [00:00<00:01,  2.40it/s, Loss=64.6]"
          ]
        },
        {
          "output_type": "stream",
          "name": "stdout",
          "text": [
            "torch.Size([2048, 138, 7])\n",
            "tensor(False, device='cuda:0')\n"
          ]
        },
        {
          "output_type": "stream",
          "name": "stderr",
          "text": [
            "Epoch 11/75:  40%|████      | 2/5 [00:00<00:00,  3.12it/s, Loss=64.5]"
          ]
        },
        {
          "output_type": "stream",
          "name": "stdout",
          "text": [
            "torch.Size([2048, 138, 7])\n",
            "tensor(False, device='cuda:0')\n"
          ]
        },
        {
          "output_type": "stream",
          "name": "stderr",
          "text": [
            "Epoch 11/75:  60%|██████    | 3/5 [00:01<00:00,  2.78it/s, Loss=63.6]"
          ]
        },
        {
          "output_type": "stream",
          "name": "stdout",
          "text": [
            "torch.Size([2048, 138, 7])\n",
            "tensor(False, device='cuda:0')\n"
          ]
        },
        {
          "output_type": "stream",
          "name": "stderr",
          "text": [
            "Epoch 11/75:  80%|████████  | 4/5 [00:01<00:00,  3.14it/s, Loss=62.5]"
          ]
        },
        {
          "output_type": "stream",
          "name": "stdout",
          "text": [
            "torch.Size([2048, 138, 7])\n",
            "tensor(False, device='cuda:0')\n"
          ]
        },
        {
          "output_type": "stream",
          "name": "stderr",
          "text": [
            "Epoch 11/75: 100%|██████████| 5/5 [00:01<00:00,  2.88it/s, Loss=60.7]\n"
          ]
        },
        {
          "output_type": "stream",
          "name": "stdout",
          "text": [
            "torch.Size([2048, 138, 7])\n",
            "tensor(False, device='cuda:0')\n",
            "End of Epoch 11, Average Loss: 63.1919\n"
          ]
        },
        {
          "output_type": "stream",
          "name": "stderr",
          "text": [
            "Epoch 12/75:  20%|██        | 1/5 [00:00<00:01,  2.33it/s, Loss=60.5]"
          ]
        },
        {
          "output_type": "stream",
          "name": "stdout",
          "text": [
            "torch.Size([2048, 138, 7])\n",
            "tensor(False, device='cuda:0')\n"
          ]
        },
        {
          "output_type": "stream",
          "name": "stderr",
          "text": [
            "Epoch 12/75:  40%|████      | 2/5 [00:00<00:00,  3.05it/s, Loss=60]"
          ]
        },
        {
          "output_type": "stream",
          "name": "stdout",
          "text": [
            "torch.Size([2048, 138, 7])\n",
            "tensor(False, device='cuda:0')\n"
          ]
        },
        {
          "output_type": "stream",
          "name": "stderr",
          "text": [
            "Epoch 12/75:  60%|██████    | 3/5 [00:01<00:00,  2.74it/s, Loss=57.8]"
          ]
        },
        {
          "output_type": "stream",
          "name": "stdout",
          "text": [
            "torch.Size([2048, 138, 7])\n",
            "tensor(False, device='cuda:0')\n"
          ]
        },
        {
          "output_type": "stream",
          "name": "stderr",
          "text": [
            "Epoch 12/75:  80%|████████  | 4/5 [00:01<00:00,  2.58it/s, Loss=58.2]"
          ]
        },
        {
          "output_type": "stream",
          "name": "stdout",
          "text": [
            "torch.Size([2048, 138, 7])\n",
            "tensor(False, device='cuda:0')\n"
          ]
        },
        {
          "output_type": "stream",
          "name": "stderr",
          "text": [
            "Epoch 12/75: 100%|██████████| 5/5 [00:01<00:00,  2.81it/s, Loss=56.5]\n"
          ]
        },
        {
          "output_type": "stream",
          "name": "stdout",
          "text": [
            "torch.Size([2048, 138, 7])\n",
            "tensor(False, device='cuda:0')\n",
            "End of Epoch 12, Average Loss: 58.6072\n"
          ]
        },
        {
          "output_type": "stream",
          "name": "stderr",
          "text": [
            "Epoch 13/75:  20%|██        | 1/5 [00:00<00:01,  2.46it/s, Loss=56]"
          ]
        },
        {
          "output_type": "stream",
          "name": "stdout",
          "text": [
            "torch.Size([2048, 138, 7])\n",
            "tensor(False, device='cuda:0')\n"
          ]
        },
        {
          "output_type": "stream",
          "name": "stderr",
          "text": [
            "Epoch 13/75:  40%|████      | 2/5 [00:00<00:00,  3.18it/s, Loss=54]"
          ]
        },
        {
          "output_type": "stream",
          "name": "stdout",
          "text": [
            "torch.Size([2048, 138, 7])\n",
            "tensor(False, device='cuda:0')\n"
          ]
        },
        {
          "output_type": "stream",
          "name": "stderr",
          "text": [
            "Epoch 13/75:  60%|██████    | 3/5 [00:01<00:00,  2.81it/s, Loss=54.3]"
          ]
        },
        {
          "output_type": "stream",
          "name": "stdout",
          "text": [
            "torch.Size([2048, 138, 7])\n",
            "tensor(False, device='cuda:0')\n"
          ]
        },
        {
          "output_type": "stream",
          "name": "stderr",
          "text": [
            "Epoch 13/75:  80%|████████  | 4/5 [00:01<00:00,  2.66it/s, Loss=52.7]"
          ]
        },
        {
          "output_type": "stream",
          "name": "stdout",
          "text": [
            "torch.Size([2048, 138, 7])\n",
            "tensor(False, device='cuda:0')\n"
          ]
        },
        {
          "output_type": "stream",
          "name": "stderr",
          "text": [
            "Epoch 13/75: 100%|██████████| 5/5 [00:01<00:00,  2.90it/s, Loss=52.5]\n"
          ]
        },
        {
          "output_type": "stream",
          "name": "stdout",
          "text": [
            "torch.Size([2048, 138, 7])\n",
            "tensor(False, device='cuda:0')\n",
            "End of Epoch 13, Average Loss: 53.8945\n"
          ]
        },
        {
          "output_type": "stream",
          "name": "stderr",
          "text": [
            "Epoch 14/75:  20%|██        | 1/5 [00:00<00:01,  2.43it/s, Loss=51.6]"
          ]
        },
        {
          "output_type": "stream",
          "name": "stdout",
          "text": [
            "torch.Size([2048, 138, 7])\n",
            "tensor(False, device='cuda:0')\n"
          ]
        },
        {
          "output_type": "stream",
          "name": "stderr",
          "text": [
            "Epoch 14/75:  40%|████      | 2/5 [00:00<00:00,  3.15it/s, Loss=49.8]"
          ]
        },
        {
          "output_type": "stream",
          "name": "stdout",
          "text": [
            "torch.Size([2048, 138, 7])\n",
            "tensor(False, device='cuda:0')\n"
          ]
        },
        {
          "output_type": "stream",
          "name": "stderr",
          "text": [
            "Epoch 14/75:  60%|██████    | 3/5 [00:01<00:00,  2.79it/s, Loss=50.5]"
          ]
        },
        {
          "output_type": "stream",
          "name": "stdout",
          "text": [
            "torch.Size([2048, 138, 7])\n",
            "tensor(False, device='cuda:0')\n"
          ]
        },
        {
          "output_type": "stream",
          "name": "stderr",
          "text": [
            "Epoch 14/75:  80%|████████  | 4/5 [00:01<00:00,  2.64it/s, Loss=49.9]"
          ]
        },
        {
          "output_type": "stream",
          "name": "stdout",
          "text": [
            "torch.Size([2048, 138, 7])\n",
            "tensor(False, device='cuda:0')\n"
          ]
        },
        {
          "output_type": "stream",
          "name": "stderr",
          "text": [
            "Epoch 14/75: 100%|██████████| 5/5 [00:01<00:00,  2.88it/s, Loss=48.4]\n"
          ]
        },
        {
          "output_type": "stream",
          "name": "stdout",
          "text": [
            "torch.Size([2048, 138, 7])\n",
            "tensor(False, device='cuda:0')\n",
            "End of Epoch 14, Average Loss: 50.0521\n"
          ]
        },
        {
          "output_type": "stream",
          "name": "stderr",
          "text": [
            "Epoch 15/75:  20%|██        | 1/5 [00:00<00:01,  2.44it/s, Loss=48.5]"
          ]
        },
        {
          "output_type": "stream",
          "name": "stdout",
          "text": [
            "torch.Size([2048, 138, 7])\n",
            "tensor(False, device='cuda:0')\n"
          ]
        },
        {
          "output_type": "stream",
          "name": "stderr",
          "text": [
            "Epoch 15/75:  40%|████      | 2/5 [00:00<00:01,  2.43it/s, Loss=48.1]"
          ]
        },
        {
          "output_type": "stream",
          "name": "stdout",
          "text": [
            "torch.Size([2048, 138, 7])\n",
            "tensor(False, device='cuda:0')\n"
          ]
        },
        {
          "output_type": "stream",
          "name": "stderr",
          "text": [
            "Epoch 15/75:  60%|██████    | 3/5 [00:01<00:00,  2.95it/s, Loss=46.4]"
          ]
        },
        {
          "output_type": "stream",
          "name": "stdout",
          "text": [
            "torch.Size([2048, 138, 7])\n",
            "tensor(False, device='cuda:0')\n"
          ]
        },
        {
          "output_type": "stream",
          "name": "stderr",
          "text": [
            "Epoch 15/75:  80%|████████  | 4/5 [00:01<00:00,  2.67it/s, Loss=46.4]"
          ]
        },
        {
          "output_type": "stream",
          "name": "stdout",
          "text": [
            "torch.Size([2048, 138, 7])\n",
            "tensor(False, device='cuda:0')\n"
          ]
        },
        {
          "output_type": "stream",
          "name": "stderr",
          "text": [
            "Epoch 15/75: 100%|██████████| 5/5 [00:01<00:00,  2.84it/s, Loss=45.9]\n"
          ]
        },
        {
          "output_type": "stream",
          "name": "stdout",
          "text": [
            "torch.Size([2048, 138, 7])\n",
            "tensor(False, device='cuda:0')\n",
            "End of Epoch 15, Average Loss: 47.0470\n"
          ]
        },
        {
          "output_type": "stream",
          "name": "stderr",
          "text": [
            "Epoch 16/75:  20%|██        | 1/5 [00:00<00:01,  2.38it/s, Loss=45]"
          ]
        },
        {
          "output_type": "stream",
          "name": "stdout",
          "text": [
            "torch.Size([2048, 138, 7])\n",
            "tensor(False, device='cuda:0')\n"
          ]
        },
        {
          "output_type": "stream",
          "name": "stderr",
          "text": [
            "Epoch 16/75:  40%|████      | 2/5 [00:00<00:01,  2.34it/s, Loss=44.3]"
          ]
        },
        {
          "output_type": "stream",
          "name": "stdout",
          "text": [
            "torch.Size([2048, 138, 7])\n",
            "tensor(False, device='cuda:0')\n"
          ]
        },
        {
          "output_type": "stream",
          "name": "stderr",
          "text": [
            "Epoch 16/75:  60%|██████    | 3/5 [00:01<00:00,  2.87it/s, Loss=44]"
          ]
        },
        {
          "output_type": "stream",
          "name": "stdout",
          "text": [
            "torch.Size([2048, 138, 7])\n",
            "tensor(False, device='cuda:0')\n"
          ]
        },
        {
          "output_type": "stream",
          "name": "stderr",
          "text": [
            "Epoch 16/75:  80%|████████  | 4/5 [00:01<00:00,  2.67it/s, Loss=43.3]"
          ]
        },
        {
          "output_type": "stream",
          "name": "stdout",
          "text": [
            "torch.Size([2048, 138, 7])\n",
            "tensor(False, device='cuda:0')\n"
          ]
        },
        {
          "output_type": "stream",
          "name": "stderr",
          "text": [
            "Epoch 16/75: 100%|██████████| 5/5 [00:01<00:00,  2.81it/s, Loss=42.1]\n"
          ]
        },
        {
          "output_type": "stream",
          "name": "stdout",
          "text": [
            "torch.Size([2048, 138, 7])\n",
            "tensor(False, device='cuda:0')\n",
            "End of Epoch 16, Average Loss: 43.7441\n"
          ]
        },
        {
          "output_type": "stream",
          "name": "stderr",
          "text": [
            "Epoch 17/75:  20%|██        | 1/5 [00:00<00:01,  2.48it/s, Loss=42.2]"
          ]
        },
        {
          "output_type": "stream",
          "name": "stdout",
          "text": [
            "torch.Size([2048, 138, 7])\n",
            "tensor(False, device='cuda:0')\n"
          ]
        },
        {
          "output_type": "stream",
          "name": "stderr",
          "text": [
            "Epoch 17/75:  40%|████      | 2/5 [00:00<00:01,  2.45it/s, Loss=41.7]"
          ]
        },
        {
          "output_type": "stream",
          "name": "stdout",
          "text": [
            "torch.Size([2048, 138, 7])\n",
            "tensor(False, device='cuda:0')\n"
          ]
        },
        {
          "output_type": "stream",
          "name": "stderr",
          "text": [
            "Epoch 17/75:  60%|██████    | 3/5 [00:01<00:00,  2.95it/s, Loss=41.8]"
          ]
        },
        {
          "output_type": "stream",
          "name": "stdout",
          "text": [
            "torch.Size([2048, 138, 7])\n",
            "tensor(False, device='cuda:0')\n"
          ]
        },
        {
          "output_type": "stream",
          "name": "stderr",
          "text": [
            "Epoch 17/75:  80%|████████  | 4/5 [00:01<00:00,  2.76it/s, Loss=40.8]"
          ]
        },
        {
          "output_type": "stream",
          "name": "stdout",
          "text": [
            "torch.Size([2048, 138, 7])\n",
            "tensor(False, device='cuda:0')\n"
          ]
        },
        {
          "output_type": "stream",
          "name": "stderr",
          "text": [
            "Epoch 17/75: 100%|██████████| 5/5 [00:01<00:00,  2.63it/s, Loss=40.2]\n"
          ]
        },
        {
          "output_type": "stream",
          "name": "stdout",
          "text": [
            "torch.Size([2048, 138, 7])\n",
            "tensor(False, device='cuda:0')\n",
            "End of Epoch 17, Average Loss: 41.3429\n"
          ]
        },
        {
          "output_type": "stream",
          "name": "stderr",
          "text": [
            "Epoch 18/75:  20%|██        | 1/5 [00:00<00:01,  3.88it/s, Loss=40.5]"
          ]
        },
        {
          "output_type": "stream",
          "name": "stdout",
          "text": [
            "torch.Size([2048, 138, 7])\n",
            "tensor(False, device='cuda:0')\n"
          ]
        },
        {
          "output_type": "stream",
          "name": "stderr",
          "text": [
            "Epoch 18/75:  40%|████      | 2/5 [00:00<00:01,  2.82it/s, Loss=39.3]"
          ]
        },
        {
          "output_type": "stream",
          "name": "stdout",
          "text": [
            "torch.Size([2048, 138, 7])\n",
            "tensor(False, device='cuda:0')\n"
          ]
        },
        {
          "output_type": "stream",
          "name": "stderr",
          "text": [
            "Epoch 18/75:  60%|██████    | 3/5 [00:01<00:00,  2.54it/s, Loss=39.5]"
          ]
        },
        {
          "output_type": "stream",
          "name": "stdout",
          "text": [
            "torch.Size([2048, 138, 7])\n",
            "tensor(False, device='cuda:0')\n"
          ]
        },
        {
          "output_type": "stream",
          "name": "stderr",
          "text": [
            "Epoch 18/75:  80%|████████  | 4/5 [00:01<00:00,  2.95it/s, Loss=38.2]"
          ]
        },
        {
          "output_type": "stream",
          "name": "stdout",
          "text": [
            "torch.Size([2048, 138, 7])\n",
            "tensor(False, device='cuda:0')\n"
          ]
        },
        {
          "output_type": "stream",
          "name": "stderr",
          "text": [
            "Epoch 18/75: 100%|██████████| 5/5 [00:01<00:00,  2.81it/s, Loss=38.4]\n"
          ]
        },
        {
          "output_type": "stream",
          "name": "stdout",
          "text": [
            "torch.Size([2048, 138, 7])\n",
            "tensor(False, device='cuda:0')\n",
            "End of Epoch 18, Average Loss: 39.1853\n"
          ]
        },
        {
          "output_type": "stream",
          "name": "stderr",
          "text": [
            "Epoch 19/75:  20%|██        | 1/5 [00:00<00:01,  3.87it/s, Loss=37.1]"
          ]
        },
        {
          "output_type": "stream",
          "name": "stdout",
          "text": [
            "torch.Size([2048, 138, 7])\n",
            "tensor(False, device='cuda:0')\n"
          ]
        },
        {
          "output_type": "stream",
          "name": "stderr",
          "text": [
            "Epoch 19/75:  40%|████      | 2/5 [00:00<00:01,  2.90it/s, Loss=37.7]"
          ]
        },
        {
          "output_type": "stream",
          "name": "stdout",
          "text": [
            "torch.Size([2048, 138, 7])\n",
            "tensor(False, device='cuda:0')\n"
          ]
        },
        {
          "output_type": "stream",
          "name": "stderr",
          "text": [
            "Epoch 19/75:  60%|██████    | 3/5 [00:01<00:00,  2.68it/s, Loss=36.1]"
          ]
        },
        {
          "output_type": "stream",
          "name": "stdout",
          "text": [
            "torch.Size([2048, 138, 7])\n",
            "tensor(False, device='cuda:0')\n"
          ]
        },
        {
          "output_type": "stream",
          "name": "stderr",
          "text": [
            "Epoch 19/75:  80%|████████  | 4/5 [00:01<00:00,  3.06it/s, Loss=35.8]"
          ]
        },
        {
          "output_type": "stream",
          "name": "stdout",
          "text": [
            "torch.Size([2048, 138, 7])\n",
            "tensor(False, device='cuda:0')\n"
          ]
        },
        {
          "output_type": "stream",
          "name": "stderr",
          "text": [
            "Epoch 19/75: 100%|██████████| 5/5 [00:01<00:00,  2.87it/s, Loss=36.1]\n"
          ]
        },
        {
          "output_type": "stream",
          "name": "stdout",
          "text": [
            "torch.Size([2048, 138, 7])\n",
            "tensor(False, device='cuda:0')\n",
            "End of Epoch 19, Average Loss: 36.5804\n"
          ]
        },
        {
          "output_type": "stream",
          "name": "stderr",
          "text": [
            "Epoch 20/75:  20%|██        | 1/5 [00:00<00:01,  3.99it/s, Loss=34.7]"
          ]
        },
        {
          "output_type": "stream",
          "name": "stdout",
          "text": [
            "torch.Size([2048, 138, 7])\n",
            "tensor(False, device='cuda:0')\n"
          ]
        },
        {
          "output_type": "stream",
          "name": "stderr",
          "text": [
            "Epoch 20/75:  40%|████      | 2/5 [00:00<00:01,  2.95it/s, Loss=34.8]"
          ]
        },
        {
          "output_type": "stream",
          "name": "stdout",
          "text": [
            "torch.Size([2048, 138, 7])\n",
            "tensor(False, device='cuda:0')\n"
          ]
        },
        {
          "output_type": "stream",
          "name": "stderr",
          "text": [
            "Epoch 20/75:  60%|██████    | 3/5 [00:01<00:00,  2.67it/s, Loss=35]"
          ]
        },
        {
          "output_type": "stream",
          "name": "stdout",
          "text": [
            "torch.Size([2048, 138, 7])\n",
            "tensor(False, device='cuda:0')\n"
          ]
        },
        {
          "output_type": "stream",
          "name": "stderr",
          "text": [
            "Epoch 20/75:  80%|████████  | 4/5 [00:01<00:00,  3.08it/s, Loss=33.3]"
          ]
        },
        {
          "output_type": "stream",
          "name": "stdout",
          "text": [
            "torch.Size([2048, 138, 7])\n",
            "tensor(False, device='cuda:0')\n"
          ]
        },
        {
          "output_type": "stream",
          "name": "stderr",
          "text": [
            "Epoch 20/75: 100%|██████████| 5/5 [00:01<00:00,  2.90it/s, Loss=33.8]\n"
          ]
        },
        {
          "output_type": "stream",
          "name": "stdout",
          "text": [
            "torch.Size([2048, 138, 7])\n",
            "tensor(False, device='cuda:0')\n",
            "End of Epoch 20, Average Loss: 34.3256\n"
          ]
        },
        {
          "output_type": "stream",
          "name": "stderr",
          "text": [
            "Epoch 21/75:  20%|██        | 1/5 [00:00<00:01,  2.49it/s, Loss=33.9]"
          ]
        },
        {
          "output_type": "stream",
          "name": "stdout",
          "text": [
            "torch.Size([2048, 138, 7])\n",
            "tensor(False, device='cuda:0')\n"
          ]
        },
        {
          "output_type": "stream",
          "name": "stderr",
          "text": [
            "Epoch 21/75:  40%|████      | 2/5 [00:00<00:00,  3.19it/s, Loss=33.5]"
          ]
        },
        {
          "output_type": "stream",
          "name": "stdout",
          "text": [
            "torch.Size([2048, 138, 7])\n",
            "tensor(False, device='cuda:0')\n"
          ]
        },
        {
          "output_type": "stream",
          "name": "stderr",
          "text": [
            "Epoch 21/75:  60%|██████    | 3/5 [00:01<00:00,  2.79it/s, Loss=32]"
          ]
        },
        {
          "output_type": "stream",
          "name": "stdout",
          "text": [
            "torch.Size([2048, 138, 7])\n",
            "tensor(False, device='cuda:0')\n"
          ]
        },
        {
          "output_type": "stream",
          "name": "stderr",
          "text": [
            "Epoch 21/75:  80%|████████  | 4/5 [00:01<00:00,  2.63it/s, Loss=32.4]"
          ]
        },
        {
          "output_type": "stream",
          "name": "stdout",
          "text": [
            "torch.Size([2048, 138, 7])\n",
            "tensor(False, device='cuda:0')\n"
          ]
        },
        {
          "output_type": "stream",
          "name": "stderr",
          "text": [
            "Epoch 21/75: 100%|██████████| 5/5 [00:01<00:00,  2.88it/s, Loss=32.7]\n"
          ]
        },
        {
          "output_type": "stream",
          "name": "stdout",
          "text": [
            "torch.Size([2048, 138, 7])\n",
            "tensor(False, device='cuda:0')\n",
            "End of Epoch 21, Average Loss: 32.9102\n"
          ]
        },
        {
          "output_type": "stream",
          "name": "stderr",
          "text": [
            "Epoch 22/75:  20%|██        | 1/5 [00:00<00:01,  2.35it/s, Loss=32.5]"
          ]
        },
        {
          "output_type": "stream",
          "name": "stdout",
          "text": [
            "torch.Size([2048, 138, 7])\n",
            "tensor(False, device='cuda:0')\n"
          ]
        },
        {
          "output_type": "stream",
          "name": "stderr",
          "text": [
            "Epoch 22/75:  40%|████      | 2/5 [00:00<00:00,  3.07it/s, Loss=31.5]"
          ]
        },
        {
          "output_type": "stream",
          "name": "stdout",
          "text": [
            "torch.Size([2048, 138, 7])\n",
            "tensor(False, device='cuda:0')\n"
          ]
        },
        {
          "output_type": "stream",
          "name": "stderr",
          "text": [
            "Epoch 22/75:  60%|██████    | 3/5 [00:01<00:00,  2.74it/s, Loss=31.1]"
          ]
        },
        {
          "output_type": "stream",
          "name": "stdout",
          "text": [
            "torch.Size([2048, 138, 7])\n",
            "tensor(False, device='cuda:0')\n"
          ]
        },
        {
          "output_type": "stream",
          "name": "stderr",
          "text": [
            "Epoch 22/75:  80%|████████  | 4/5 [00:01<00:00,  2.60it/s, Loss=30.8]"
          ]
        },
        {
          "output_type": "stream",
          "name": "stdout",
          "text": [
            "torch.Size([2048, 138, 7])\n",
            "tensor(False, device='cuda:0')\n"
          ]
        },
        {
          "output_type": "stream",
          "name": "stderr",
          "text": [
            "Epoch 22/75: 100%|██████████| 5/5 [00:01<00:00,  2.83it/s, Loss=29.8]\n"
          ]
        },
        {
          "output_type": "stream",
          "name": "stdout",
          "text": [
            "torch.Size([2048, 138, 7])\n",
            "tensor(False, device='cuda:0')\n",
            "End of Epoch 22, Average Loss: 31.1214\n"
          ]
        },
        {
          "output_type": "stream",
          "name": "stderr",
          "text": [
            "Epoch 23/75:  20%|██        | 1/5 [00:00<00:01,  2.44it/s, Loss=30.2]"
          ]
        },
        {
          "output_type": "stream",
          "name": "stdout",
          "text": [
            "torch.Size([2048, 138, 7])\n",
            "tensor(False, device='cuda:0')\n"
          ]
        },
        {
          "output_type": "stream",
          "name": "stderr",
          "text": [
            "Epoch 23/75:  40%|████      | 2/5 [00:00<00:01,  2.42it/s, Loss=30.4]"
          ]
        },
        {
          "output_type": "stream",
          "name": "stdout",
          "text": [
            "torch.Size([2048, 138, 7])\n",
            "tensor(False, device='cuda:0')\n"
          ]
        },
        {
          "output_type": "stream",
          "name": "stderr",
          "text": [
            "Epoch 23/75:  60%|██████    | 3/5 [00:01<00:00,  2.94it/s, Loss=29.8]"
          ]
        },
        {
          "output_type": "stream",
          "name": "stdout",
          "text": [
            "torch.Size([2048, 138, 7])\n",
            "tensor(False, device='cuda:0')\n"
          ]
        },
        {
          "output_type": "stream",
          "name": "stderr",
          "text": [
            "Epoch 23/75:  80%|████████  | 4/5 [00:01<00:00,  2.71it/s, Loss=29.3]"
          ]
        },
        {
          "output_type": "stream",
          "name": "stdout",
          "text": [
            "torch.Size([2048, 138, 7])\n",
            "tensor(False, device='cuda:0')\n"
          ]
        },
        {
          "output_type": "stream",
          "name": "stderr",
          "text": [
            "Epoch 23/75: 100%|██████████| 5/5 [00:01<00:00,  2.86it/s, Loss=29.7]\n"
          ]
        },
        {
          "output_type": "stream",
          "name": "stdout",
          "text": [
            "torch.Size([2048, 138, 7])\n",
            "tensor(False, device='cuda:0')\n",
            "End of Epoch 23, Average Loss: 29.8538\n"
          ]
        },
        {
          "output_type": "stream",
          "name": "stderr",
          "text": [
            "Epoch 24/75:  20%|██        | 1/5 [00:00<00:01,  2.49it/s, Loss=29]"
          ]
        },
        {
          "output_type": "stream",
          "name": "stdout",
          "text": [
            "torch.Size([2048, 138, 7])\n",
            "tensor(False, device='cuda:0')\n"
          ]
        },
        {
          "output_type": "stream",
          "name": "stderr",
          "text": [
            "Epoch 24/75:  40%|████      | 2/5 [00:00<00:01,  2.47it/s, Loss=28.1]"
          ]
        },
        {
          "output_type": "stream",
          "name": "stdout",
          "text": [
            "torch.Size([2048, 138, 7])\n",
            "tensor(False, device='cuda:0')\n"
          ]
        },
        {
          "output_type": "stream",
          "name": "stderr",
          "text": [
            "Epoch 24/75:  60%|██████    | 3/5 [00:01<00:00,  2.95it/s, Loss=27.6]"
          ]
        },
        {
          "output_type": "stream",
          "name": "stdout",
          "text": [
            "torch.Size([2048, 138, 7])\n",
            "tensor(False, device='cuda:0')\n"
          ]
        },
        {
          "output_type": "stream",
          "name": "stderr",
          "text": [
            "Epoch 24/75:  80%|████████  | 4/5 [00:01<00:00,  2.73it/s, Loss=27.8]"
          ]
        },
        {
          "output_type": "stream",
          "name": "stdout",
          "text": [
            "torch.Size([2048, 138, 7])\n",
            "tensor(False, device='cuda:0')\n"
          ]
        },
        {
          "output_type": "stream",
          "name": "stderr",
          "text": [
            "Epoch 24/75: 100%|██████████| 5/5 [00:01<00:00,  2.61it/s, Loss=26.9]\n"
          ]
        },
        {
          "output_type": "stream",
          "name": "stdout",
          "text": [
            "torch.Size([2048, 138, 7])\n",
            "tensor(False, device='cuda:0')\n",
            "End of Epoch 24, Average Loss: 27.9046\n"
          ]
        },
        {
          "output_type": "stream",
          "name": "stderr",
          "text": [
            "Epoch 25/75:  20%|██        | 1/5 [00:00<00:01,  3.94it/s, Loss=28]"
          ]
        },
        {
          "output_type": "stream",
          "name": "stdout",
          "text": [
            "torch.Size([2048, 138, 7])\n",
            "tensor(False, device='cuda:0')\n"
          ]
        },
        {
          "output_type": "stream",
          "name": "stderr",
          "text": [
            "Epoch 25/75:  40%|████      | 2/5 [00:00<00:01,  2.92it/s, Loss=26.8]"
          ]
        },
        {
          "output_type": "stream",
          "name": "stdout",
          "text": [
            "torch.Size([2048, 138, 7])\n",
            "tensor(False, device='cuda:0')\n"
          ]
        },
        {
          "output_type": "stream",
          "name": "stderr",
          "text": [
            "Epoch 25/75:  60%|██████    | 3/5 [00:00<00:00,  3.27it/s, Loss=27.1]"
          ]
        },
        {
          "output_type": "stream",
          "name": "stdout",
          "text": [
            "torch.Size([2048, 138, 7])\n",
            "tensor(False, device='cuda:0')\n"
          ]
        },
        {
          "output_type": "stream",
          "name": "stderr",
          "text": [
            "Epoch 25/75:  80%|████████  | 4/5 [00:01<00:00,  2.91it/s, Loss=26.4]"
          ]
        },
        {
          "output_type": "stream",
          "name": "stdout",
          "text": [
            "torch.Size([2048, 138, 7])\n",
            "tensor(False, device='cuda:0')\n"
          ]
        },
        {
          "output_type": "stream",
          "name": "stderr",
          "text": [
            "Epoch 25/75: 100%|██████████| 5/5 [00:01<00:00,  2.88it/s, Loss=26.4]\n"
          ]
        },
        {
          "output_type": "stream",
          "name": "stdout",
          "text": [
            "torch.Size([2048, 138, 7])\n",
            "tensor(False, device='cuda:0')\n",
            "End of Epoch 25, Average Loss: 26.9321\n"
          ]
        },
        {
          "output_type": "stream",
          "name": "stderr",
          "text": [
            "Epoch 26/75:  20%|██        | 1/5 [00:00<00:01,  3.92it/s, Loss=26.1]"
          ]
        },
        {
          "output_type": "stream",
          "name": "stdout",
          "text": [
            "torch.Size([2048, 138, 7])\n",
            "tensor(False, device='cuda:0')\n"
          ]
        },
        {
          "output_type": "stream",
          "name": "stderr",
          "text": [
            "Epoch 26/75:  40%|████      | 2/5 [00:00<00:01,  2.87it/s, Loss=25.3]"
          ]
        },
        {
          "output_type": "stream",
          "name": "stdout",
          "text": [
            "torch.Size([2048, 138, 7])\n",
            "tensor(False, device='cuda:0')\n"
          ]
        },
        {
          "output_type": "stream",
          "name": "stderr",
          "text": [
            "Epoch 26/75:  60%|██████    | 3/5 [00:00<00:00,  3.28it/s, Loss=25.8]"
          ]
        },
        {
          "output_type": "stream",
          "name": "stdout",
          "text": [
            "torch.Size([2048, 138, 7])\n",
            "tensor(False, device='cuda:0')\n"
          ]
        },
        {
          "output_type": "stream",
          "name": "stderr",
          "text": [
            "Epoch 26/75:  80%|████████  | 4/5 [00:01<00:00,  2.91it/s, Loss=25.5]"
          ]
        },
        {
          "output_type": "stream",
          "name": "stdout",
          "text": [
            "torch.Size([2048, 138, 7])\n",
            "tensor(False, device='cuda:0')\n"
          ]
        },
        {
          "output_type": "stream",
          "name": "stderr",
          "text": [
            "Epoch 26/75: 100%|██████████| 5/5 [00:01<00:00,  2.87it/s, Loss=25.1]\n"
          ]
        },
        {
          "output_type": "stream",
          "name": "stdout",
          "text": [
            "torch.Size([2048, 138, 7])\n",
            "tensor(False, device='cuda:0')\n",
            "End of Epoch 26, Average Loss: 25.5668\n"
          ]
        },
        {
          "output_type": "stream",
          "name": "stderr",
          "text": [
            "Epoch 27/75:  20%|██        | 1/5 [00:00<00:01,  3.98it/s, Loss=25.1]"
          ]
        },
        {
          "output_type": "stream",
          "name": "stdout",
          "text": [
            "torch.Size([2048, 138, 7])\n",
            "tensor(False, device='cuda:0')\n"
          ]
        },
        {
          "output_type": "stream",
          "name": "stderr",
          "text": [
            "Epoch 27/75:  40%|████      | 2/5 [00:00<00:01,  2.87it/s, Loss=24.2]"
          ]
        },
        {
          "output_type": "stream",
          "name": "stdout",
          "text": [
            "torch.Size([2048, 138, 7])\n",
            "tensor(False, device='cuda:0')\n"
          ]
        },
        {
          "output_type": "stream",
          "name": "stderr",
          "text": [
            "Epoch 27/75:  60%|██████    | 3/5 [00:01<00:00,  2.65it/s, Loss=24.2]"
          ]
        },
        {
          "output_type": "stream",
          "name": "stdout",
          "text": [
            "torch.Size([2048, 138, 7])\n",
            "tensor(False, device='cuda:0')\n"
          ]
        },
        {
          "output_type": "stream",
          "name": "stderr",
          "text": [
            "Epoch 27/75:  80%|████████  | 4/5 [00:01<00:00,  3.05it/s, Loss=23.9]"
          ]
        },
        {
          "output_type": "stream",
          "name": "stdout",
          "text": [
            "torch.Size([2048, 138, 7])\n",
            "tensor(False, device='cuda:0')\n"
          ]
        },
        {
          "output_type": "stream",
          "name": "stderr",
          "text": [
            "Epoch 27/75: 100%|██████████| 5/5 [00:01<00:00,  2.89it/s, Loss=23.6]\n"
          ]
        },
        {
          "output_type": "stream",
          "name": "stdout",
          "text": [
            "torch.Size([2048, 138, 7])\n",
            "tensor(False, device='cuda:0')\n",
            "End of Epoch 27, Average Loss: 24.1815\n"
          ]
        },
        {
          "output_type": "stream",
          "name": "stderr",
          "text": [
            "Epoch 28/75:  20%|██        | 1/5 [00:00<00:01,  3.98it/s, Loss=24]"
          ]
        },
        {
          "output_type": "stream",
          "name": "stdout",
          "text": [
            "torch.Size([2048, 138, 7])\n",
            "tensor(False, device='cuda:0')\n"
          ]
        },
        {
          "output_type": "stream",
          "name": "stderr",
          "text": [
            "Epoch 28/75:  40%|████      | 2/5 [00:00<00:01,  2.88it/s, Loss=23.3]"
          ]
        },
        {
          "output_type": "stream",
          "name": "stdout",
          "text": [
            "torch.Size([2048, 138, 7])\n",
            "tensor(False, device='cuda:0')\n"
          ]
        },
        {
          "output_type": "stream",
          "name": "stderr",
          "text": [
            "Epoch 28/75:  60%|██████    | 3/5 [00:01<00:00,  2.66it/s, Loss=23.6]"
          ]
        },
        {
          "output_type": "stream",
          "name": "stdout",
          "text": [
            "torch.Size([2048, 138, 7])\n",
            "tensor(False, device='cuda:0')\n"
          ]
        },
        {
          "output_type": "stream",
          "name": "stderr",
          "text": [
            "Epoch 28/75:  80%|████████  | 4/5 [00:01<00:00,  3.03it/s, Loss=23.3]"
          ]
        },
        {
          "output_type": "stream",
          "name": "stdout",
          "text": [
            "torch.Size([2048, 138, 7])\n",
            "tensor(False, device='cuda:0')\n"
          ]
        },
        {
          "output_type": "stream",
          "name": "stderr",
          "text": [
            "Epoch 28/75: 100%|██████████| 5/5 [00:01<00:00,  2.84it/s, Loss=23]\n"
          ]
        },
        {
          "output_type": "stream",
          "name": "stdout",
          "text": [
            "torch.Size([2048, 138, 7])\n",
            "tensor(False, device='cuda:0')\n",
            "End of Epoch 28, Average Loss: 23.4299\n"
          ]
        },
        {
          "output_type": "stream",
          "name": "stderr",
          "text": [
            "Epoch 29/75:  20%|██        | 1/5 [00:00<00:01,  2.38it/s, Loss=22.9]"
          ]
        },
        {
          "output_type": "stream",
          "name": "stdout",
          "text": [
            "torch.Size([2048, 138, 7])\n",
            "tensor(False, device='cuda:0')\n"
          ]
        },
        {
          "output_type": "stream",
          "name": "stderr",
          "text": [
            "Epoch 29/75:  40%|████      | 2/5 [00:00<00:00,  3.07it/s, Loss=22.6]"
          ]
        },
        {
          "output_type": "stream",
          "name": "stdout",
          "text": [
            "torch.Size([2048, 138, 7])\n",
            "tensor(False, device='cuda:0')\n"
          ]
        },
        {
          "output_type": "stream",
          "name": "stderr",
          "text": [
            "Epoch 29/75:  60%|██████    | 3/5 [00:01<00:00,  2.76it/s, Loss=21.9]"
          ]
        },
        {
          "output_type": "stream",
          "name": "stdout",
          "text": [
            "torch.Size([2048, 138, 7])\n",
            "tensor(False, device='cuda:0')\n"
          ]
        },
        {
          "output_type": "stream",
          "name": "stderr",
          "text": [
            "Epoch 29/75:  80%|████████  | 4/5 [00:01<00:00,  3.15it/s, Loss=22.3]"
          ]
        },
        {
          "output_type": "stream",
          "name": "stdout",
          "text": [
            "torch.Size([2048, 138, 7])\n",
            "tensor(False, device='cuda:0')\n"
          ]
        },
        {
          "output_type": "stream",
          "name": "stderr",
          "text": [
            "Epoch 29/75: 100%|██████████| 5/5 [00:01<00:00,  2.86it/s, Loss=22]\n"
          ]
        },
        {
          "output_type": "stream",
          "name": "stdout",
          "text": [
            "torch.Size([2048, 138, 7])\n",
            "tensor(False, device='cuda:0')\n",
            "End of Epoch 29, Average Loss: 22.3560\n"
          ]
        },
        {
          "output_type": "stream",
          "name": "stderr",
          "text": [
            "Epoch 30/75:  20%|██        | 1/5 [00:00<00:01,  2.39it/s, Loss=22.1]"
          ]
        },
        {
          "output_type": "stream",
          "name": "stdout",
          "text": [
            "torch.Size([2048, 138, 7])\n",
            "tensor(False, device='cuda:0')\n"
          ]
        },
        {
          "output_type": "stream",
          "name": "stderr",
          "text": [
            "Epoch 30/75:  40%|████      | 2/5 [00:00<00:00,  3.14it/s, Loss=21.6]"
          ]
        },
        {
          "output_type": "stream",
          "name": "stdout",
          "text": [
            "torch.Size([2048, 138, 7])\n",
            "tensor(False, device='cuda:0')\n"
          ]
        },
        {
          "output_type": "stream",
          "name": "stderr",
          "text": [
            "Epoch 30/75:  60%|██████    | 3/5 [00:01<00:00,  2.80it/s, Loss=21.3]"
          ]
        },
        {
          "output_type": "stream",
          "name": "stdout",
          "text": [
            "torch.Size([2048, 138, 7])\n",
            "tensor(False, device='cuda:0')\n"
          ]
        },
        {
          "output_type": "stream",
          "name": "stderr",
          "text": [
            "Epoch 30/75:  80%|████████  | 4/5 [00:01<00:00,  3.15it/s, Loss=21.4]"
          ]
        },
        {
          "output_type": "stream",
          "name": "stdout",
          "text": [
            "torch.Size([2048, 138, 7])\n",
            "tensor(False, device='cuda:0')\n"
          ]
        },
        {
          "output_type": "stream",
          "name": "stderr",
          "text": [
            "Epoch 30/75: 100%|██████████| 5/5 [00:01<00:00,  2.85it/s, Loss=20.9]\n"
          ]
        },
        {
          "output_type": "stream",
          "name": "stdout",
          "text": [
            "torch.Size([2048, 138, 7])\n",
            "tensor(False, device='cuda:0')\n",
            "End of Epoch 30, Average Loss: 21.4587\n"
          ]
        },
        {
          "output_type": "stream",
          "name": "stderr",
          "text": [
            "Epoch 31/75:  20%|██        | 1/5 [00:00<00:01,  2.47it/s, Loss=20.6]"
          ]
        },
        {
          "output_type": "stream",
          "name": "stdout",
          "text": [
            "torch.Size([2048, 138, 7])\n",
            "tensor(False, device='cuda:0')\n"
          ]
        },
        {
          "output_type": "stream",
          "name": "stderr",
          "text": [
            "Epoch 31/75:  40%|████      | 2/5 [00:00<00:00,  3.04it/s, Loss=20.8]"
          ]
        },
        {
          "output_type": "stream",
          "name": "stdout",
          "text": [
            "torch.Size([2048, 138, 7])\n",
            "tensor(False, device='cuda:0')\n"
          ]
        },
        {
          "output_type": "stream",
          "name": "stderr",
          "text": [
            "Epoch 31/75:  60%|██████    | 3/5 [00:01<00:00,  2.70it/s, Loss=20.3]"
          ]
        },
        {
          "output_type": "stream",
          "name": "stdout",
          "text": [
            "torch.Size([2048, 138, 7])\n",
            "tensor(False, device='cuda:0')\n"
          ]
        },
        {
          "output_type": "stream",
          "name": "stderr",
          "text": [
            "Epoch 31/75:  80%|████████  | 4/5 [00:01<00:00,  2.60it/s, Loss=20.8]"
          ]
        },
        {
          "output_type": "stream",
          "name": "stdout",
          "text": [
            "torch.Size([2048, 138, 7])\n",
            "tensor(False, device='cuda:0')\n"
          ]
        },
        {
          "output_type": "stream",
          "name": "stderr",
          "text": [
            "Epoch 31/75: 100%|██████████| 5/5 [00:01<00:00,  2.82it/s, Loss=20.4]\n"
          ]
        },
        {
          "output_type": "stream",
          "name": "stdout",
          "text": [
            "torch.Size([2048, 138, 7])\n",
            "tensor(False, device='cuda:0')\n",
            "End of Epoch 31, Average Loss: 20.5823\n"
          ]
        },
        {
          "output_type": "stream",
          "name": "stderr",
          "text": [
            "Epoch 32/75:  20%|██        | 1/5 [00:00<00:01,  2.44it/s, Loss=19.9]"
          ]
        },
        {
          "output_type": "stream",
          "name": "stdout",
          "text": [
            "torch.Size([2048, 138, 7])\n",
            "tensor(False, device='cuda:0')\n"
          ]
        },
        {
          "output_type": "stream",
          "name": "stderr",
          "text": [
            "Epoch 32/75:  40%|████      | 2/5 [00:00<00:01,  2.41it/s, Loss=20.1]"
          ]
        },
        {
          "output_type": "stream",
          "name": "stdout",
          "text": [
            "torch.Size([2048, 138, 7])\n",
            "tensor(False, device='cuda:0')\n"
          ]
        },
        {
          "output_type": "stream",
          "name": "stderr",
          "text": [
            "Epoch 32/75:  60%|██████    | 3/5 [00:01<00:00,  2.95it/s, Loss=19.8]"
          ]
        },
        {
          "output_type": "stream",
          "name": "stdout",
          "text": [
            "torch.Size([2048, 138, 7])\n",
            "tensor(False, device='cuda:0')\n"
          ]
        },
        {
          "output_type": "stream",
          "name": "stderr",
          "text": [
            "Epoch 32/75:  80%|████████  | 4/5 [00:01<00:00,  2.75it/s, Loss=20.3]"
          ]
        },
        {
          "output_type": "stream",
          "name": "stdout",
          "text": [
            "torch.Size([2048, 138, 7])\n",
            "tensor(False, device='cuda:0')\n"
          ]
        },
        {
          "output_type": "stream",
          "name": "stderr",
          "text": [
            "Epoch 32/75: 100%|██████████| 5/5 [00:01<00:00,  2.89it/s, Loss=19.4]\n"
          ]
        },
        {
          "output_type": "stream",
          "name": "stdout",
          "text": [
            "torch.Size([2048, 138, 7])\n",
            "tensor(False, device='cuda:0')\n",
            "End of Epoch 32, Average Loss: 19.9022\n"
          ]
        },
        {
          "output_type": "stream",
          "name": "stderr",
          "text": [
            "Epoch 33/75:  20%|██        | 1/5 [00:00<00:01,  2.47it/s, Loss=19.1]"
          ]
        },
        {
          "output_type": "stream",
          "name": "stdout",
          "text": [
            "torch.Size([2048, 138, 7])\n",
            "tensor(False, device='cuda:0')\n"
          ]
        },
        {
          "output_type": "stream",
          "name": "stderr",
          "text": [
            "Epoch 33/75:  40%|████      | 2/5 [00:00<00:01,  2.46it/s, Loss=19.8]"
          ]
        },
        {
          "output_type": "stream",
          "name": "stdout",
          "text": [
            "torch.Size([2048, 138, 7])\n",
            "tensor(False, device='cuda:0')\n"
          ]
        },
        {
          "output_type": "stream",
          "name": "stderr",
          "text": [
            "Epoch 33/75:  60%|██████    | 3/5 [00:01<00:00,  2.97it/s, Loss=19.1]"
          ]
        },
        {
          "output_type": "stream",
          "name": "stdout",
          "text": [
            "torch.Size([2048, 138, 7])\n",
            "tensor(False, device='cuda:0')\n"
          ]
        },
        {
          "output_type": "stream",
          "name": "stderr",
          "text": [
            "Epoch 33/75:  80%|████████  | 4/5 [00:01<00:00,  2.71it/s, Loss=18.9]"
          ]
        },
        {
          "output_type": "stream",
          "name": "stdout",
          "text": [
            "torch.Size([2048, 138, 7])\n",
            "tensor(False, device='cuda:0')\n"
          ]
        },
        {
          "output_type": "stream",
          "name": "stderr",
          "text": [
            "Epoch 33/75: 100%|██████████| 5/5 [00:01<00:00,  2.64it/s, Loss=18.7]\n"
          ]
        },
        {
          "output_type": "stream",
          "name": "stdout",
          "text": [
            "torch.Size([2048, 138, 7])\n",
            "tensor(False, device='cuda:0')\n",
            "End of Epoch 33, Average Loss: 19.1215\n"
          ]
        },
        {
          "output_type": "stream",
          "name": "stderr",
          "text": [
            "Epoch 34/75:  20%|██        | 1/5 [00:00<00:00,  4.03it/s, Loss=18.8]"
          ]
        },
        {
          "output_type": "stream",
          "name": "stdout",
          "text": [
            "torch.Size([2048, 138, 7])\n",
            "tensor(False, device='cuda:0')\n"
          ]
        },
        {
          "output_type": "stream",
          "name": "stderr",
          "text": [
            "Epoch 34/75:  40%|████      | 2/5 [00:00<00:01,  2.95it/s, Loss=18.6]"
          ]
        },
        {
          "output_type": "stream",
          "name": "stdout",
          "text": [
            "torch.Size([2048, 138, 7])\n",
            "tensor(False, device='cuda:0')\n"
          ]
        },
        {
          "output_type": "stream",
          "name": "stderr",
          "text": [
            "Epoch 34/75:  60%|██████    | 3/5 [00:00<00:00,  3.34it/s, Loss=18.2]"
          ]
        },
        {
          "output_type": "stream",
          "name": "stdout",
          "text": [
            "torch.Size([2048, 138, 7])\n",
            "tensor(False, device='cuda:0')\n"
          ]
        },
        {
          "output_type": "stream",
          "name": "stderr",
          "text": [
            "Epoch 34/75:  80%|████████  | 4/5 [00:01<00:00,  2.88it/s, Loss=18.2]"
          ]
        },
        {
          "output_type": "stream",
          "name": "stdout",
          "text": [
            "torch.Size([2048, 138, 7])\n",
            "tensor(False, device='cuda:0')\n"
          ]
        },
        {
          "output_type": "stream",
          "name": "stderr",
          "text": [
            "Epoch 34/75: 100%|██████████| 5/5 [00:01<00:00,  2.88it/s, Loss=18.3]\n"
          ]
        },
        {
          "output_type": "stream",
          "name": "stdout",
          "text": [
            "torch.Size([2048, 138, 7])\n",
            "tensor(False, device='cuda:0')\n",
            "End of Epoch 34, Average Loss: 18.4127\n"
          ]
        },
        {
          "output_type": "stream",
          "name": "stderr",
          "text": [
            "Epoch 35/75:  20%|██        | 1/5 [00:00<00:01,  3.92it/s, Loss=17.6]"
          ]
        },
        {
          "output_type": "stream",
          "name": "stdout",
          "text": [
            "torch.Size([2048, 138, 7])\n",
            "tensor(False, device='cuda:0')\n"
          ]
        },
        {
          "output_type": "stream",
          "name": "stderr",
          "text": [
            "Epoch 35/75:  40%|████      | 2/5 [00:00<00:01,  2.83it/s, Loss=17.9]"
          ]
        },
        {
          "output_type": "stream",
          "name": "stdout",
          "text": [
            "torch.Size([2048, 138, 7])\n",
            "tensor(False, device='cuda:0')\n"
          ]
        },
        {
          "output_type": "stream",
          "name": "stderr",
          "text": [
            "Epoch 35/75:  60%|██████    | 3/5 [00:01<00:00,  2.61it/s, Loss=17.7]"
          ]
        },
        {
          "output_type": "stream",
          "name": "stdout",
          "text": [
            "torch.Size([2048, 138, 7])\n",
            "tensor(False, device='cuda:0')\n"
          ]
        },
        {
          "output_type": "stream",
          "name": "stderr",
          "text": [
            "Epoch 35/75:  80%|████████  | 4/5 [00:01<00:00,  2.99it/s, Loss=18]"
          ]
        },
        {
          "output_type": "stream",
          "name": "stdout",
          "text": [
            "torch.Size([2048, 138, 7])\n",
            "tensor(False, device='cuda:0')\n"
          ]
        },
        {
          "output_type": "stream",
          "name": "stderr",
          "text": [
            "Epoch 35/75: 100%|██████████| 5/5 [00:01<00:00,  2.82it/s, Loss=17.5]\n"
          ]
        },
        {
          "output_type": "stream",
          "name": "stdout",
          "text": [
            "torch.Size([2048, 138, 7])\n",
            "tensor(False, device='cuda:0')\n",
            "End of Epoch 35, Average Loss: 17.7344\n"
          ]
        },
        {
          "output_type": "stream",
          "name": "stderr",
          "text": [
            "Epoch 36/75:  20%|██        | 1/5 [00:00<00:01,  3.96it/s, Loss=17.7]"
          ]
        },
        {
          "output_type": "stream",
          "name": "stdout",
          "text": [
            "torch.Size([2048, 138, 7])\n",
            "tensor(False, device='cuda:0')\n"
          ]
        },
        {
          "output_type": "stream",
          "name": "stderr",
          "text": [
            "Epoch 36/75:  40%|████      | 2/5 [00:00<00:01,  2.88it/s, Loss=17]"
          ]
        },
        {
          "output_type": "stream",
          "name": "stdout",
          "text": [
            "torch.Size([2048, 138, 7])\n",
            "tensor(False, device='cuda:0')\n"
          ]
        },
        {
          "output_type": "stream",
          "name": "stderr",
          "text": [
            "Epoch 36/75:  60%|██████    | 3/5 [00:01<00:00,  2.64it/s, Loss=17.1]"
          ]
        },
        {
          "output_type": "stream",
          "name": "stdout",
          "text": [
            "torch.Size([2048, 138, 7])\n",
            "tensor(False, device='cuda:0')\n"
          ]
        },
        {
          "output_type": "stream",
          "name": "stderr",
          "text": [
            "Epoch 36/75:  80%|████████  | 4/5 [00:01<00:00,  3.04it/s, Loss=17]"
          ]
        },
        {
          "output_type": "stream",
          "name": "stdout",
          "text": [
            "torch.Size([2048, 138, 7])\n",
            "tensor(False, device='cuda:0')\n"
          ]
        },
        {
          "output_type": "stream",
          "name": "stderr",
          "text": [
            "Epoch 36/75: 100%|██████████| 5/5 [00:01<00:00,  2.87it/s, Loss=16.9]\n"
          ]
        },
        {
          "output_type": "stream",
          "name": "stdout",
          "text": [
            "torch.Size([2048, 138, 7])\n",
            "tensor(False, device='cuda:0')\n",
            "End of Epoch 36, Average Loss: 17.1171\n"
          ]
        },
        {
          "output_type": "stream",
          "name": "stderr",
          "text": [
            "Epoch 37/75:  20%|██        | 1/5 [00:00<00:01,  3.96it/s, Loss=17]"
          ]
        },
        {
          "output_type": "stream",
          "name": "stdout",
          "text": [
            "torch.Size([2048, 138, 7])\n",
            "tensor(False, device='cuda:0')\n"
          ]
        },
        {
          "output_type": "stream",
          "name": "stderr",
          "text": [
            "Epoch 37/75:  40%|████      | 2/5 [00:00<00:01,  2.85it/s, Loss=16.9]"
          ]
        },
        {
          "output_type": "stream",
          "name": "stdout",
          "text": [
            "torch.Size([2048, 138, 7])\n",
            "tensor(False, device='cuda:0')\n"
          ]
        },
        {
          "output_type": "stream",
          "name": "stderr",
          "text": [
            "Epoch 37/75:  60%|██████    | 3/5 [00:01<00:00,  2.62it/s, Loss=16.7]"
          ]
        },
        {
          "output_type": "stream",
          "name": "stdout",
          "text": [
            "torch.Size([2048, 138, 7])\n",
            "tensor(False, device='cuda:0')\n"
          ]
        },
        {
          "output_type": "stream",
          "name": "stderr",
          "text": [
            "Epoch 37/75:  80%|████████  | 4/5 [00:01<00:00,  3.00it/s, Loss=16.3]"
          ]
        },
        {
          "output_type": "stream",
          "name": "stdout",
          "text": [
            "torch.Size([2048, 138, 7])\n",
            "tensor(False, device='cuda:0')\n"
          ]
        },
        {
          "output_type": "stream",
          "name": "stderr",
          "text": [
            "Epoch 37/75: 100%|██████████| 5/5 [00:01<00:00,  2.82it/s, Loss=16.3]\n"
          ]
        },
        {
          "output_type": "stream",
          "name": "stdout",
          "text": [
            "torch.Size([2048, 138, 7])\n",
            "tensor(False, device='cuda:0')\n",
            "End of Epoch 37, Average Loss: 16.6552\n"
          ]
        },
        {
          "output_type": "stream",
          "name": "stderr",
          "text": [
            "Epoch 38/75:  20%|██        | 1/5 [00:00<00:01,  2.40it/s, Loss=16.2]"
          ]
        },
        {
          "output_type": "stream",
          "name": "stdout",
          "text": [
            "torch.Size([2048, 138, 7])\n",
            "tensor(False, device='cuda:0')\n"
          ]
        },
        {
          "output_type": "stream",
          "name": "stderr",
          "text": [
            "Epoch 38/75:  40%|████      | 2/5 [00:00<00:00,  3.14it/s, Loss=15.9]"
          ]
        },
        {
          "output_type": "stream",
          "name": "stdout",
          "text": [
            "torch.Size([2048, 138, 7])\n",
            "tensor(False, device='cuda:0')\n"
          ]
        },
        {
          "output_type": "stream",
          "name": "stderr",
          "text": [
            "Epoch 38/75:  60%|██████    | 3/5 [00:01<00:00,  2.77it/s, Loss=16]"
          ]
        },
        {
          "output_type": "stream",
          "name": "stdout",
          "text": [
            "torch.Size([2048, 138, 7])\n",
            "tensor(False, device='cuda:0')\n"
          ]
        },
        {
          "output_type": "stream",
          "name": "stderr",
          "text": [
            "Epoch 38/75:  80%|████████  | 4/5 [00:01<00:00,  3.15it/s, Loss=15.8]"
          ]
        },
        {
          "output_type": "stream",
          "name": "stdout",
          "text": [
            "torch.Size([2048, 138, 7])\n",
            "tensor(False, device='cuda:0')\n"
          ]
        },
        {
          "output_type": "stream",
          "name": "stderr",
          "text": [
            "Epoch 38/75: 100%|██████████| 5/5 [00:01<00:00,  2.88it/s, Loss=15.7]\n"
          ]
        },
        {
          "output_type": "stream",
          "name": "stdout",
          "text": [
            "torch.Size([2048, 138, 7])\n",
            "tensor(False, device='cuda:0')\n",
            "End of Epoch 38, Average Loss: 15.9160\n"
          ]
        },
        {
          "output_type": "stream",
          "name": "stderr",
          "text": [
            "Epoch 39/75:  20%|██        | 1/5 [00:00<00:01,  2.45it/s, Loss=15.4]"
          ]
        },
        {
          "output_type": "stream",
          "name": "stdout",
          "text": [
            "torch.Size([2048, 138, 7])\n",
            "tensor(False, device='cuda:0')\n"
          ]
        },
        {
          "output_type": "stream",
          "name": "stderr",
          "text": [
            "Epoch 39/75:  40%|████      | 2/5 [00:00<00:00,  3.17it/s, Loss=15.8]"
          ]
        },
        {
          "output_type": "stream",
          "name": "stdout",
          "text": [
            "torch.Size([2048, 138, 7])\n",
            "tensor(False, device='cuda:0')\n"
          ]
        },
        {
          "output_type": "stream",
          "name": "stderr",
          "text": [
            "Epoch 39/75:  60%|██████    | 3/5 [00:01<00:00,  2.80it/s, Loss=15.7]"
          ]
        },
        {
          "output_type": "stream",
          "name": "stdout",
          "text": [
            "torch.Size([2048, 138, 7])\n",
            "tensor(False, device='cuda:0')\n"
          ]
        },
        {
          "output_type": "stream",
          "name": "stderr",
          "text": [
            "Epoch 39/75:  80%|████████  | 4/5 [00:01<00:00,  2.63it/s, Loss=15.3]"
          ]
        },
        {
          "output_type": "stream",
          "name": "stdout",
          "text": [
            "torch.Size([2048, 138, 7])\n",
            "tensor(False, device='cuda:0')\n"
          ]
        },
        {
          "output_type": "stream",
          "name": "stderr",
          "text": [
            "Epoch 39/75: 100%|██████████| 5/5 [00:01<00:00,  2.87it/s, Loss=15.3]\n"
          ]
        },
        {
          "output_type": "stream",
          "name": "stdout",
          "text": [
            "torch.Size([2048, 138, 7])\n",
            "tensor(False, device='cuda:0')\n",
            "End of Epoch 39, Average Loss: 15.4870\n"
          ]
        },
        {
          "output_type": "stream",
          "name": "stderr",
          "text": [
            "Epoch 40/75:  20%|██        | 1/5 [00:00<00:01,  2.47it/s, Loss=15.4]"
          ]
        },
        {
          "output_type": "stream",
          "name": "stdout",
          "text": [
            "torch.Size([2048, 138, 7])\n",
            "tensor(False, device='cuda:0')\n"
          ]
        },
        {
          "output_type": "stream",
          "name": "stderr",
          "text": [
            "Epoch 40/75:  40%|████      | 2/5 [00:00<00:00,  3.17it/s, Loss=14.9]"
          ]
        },
        {
          "output_type": "stream",
          "name": "stdout",
          "text": [
            "torch.Size([2048, 138, 7])\n",
            "tensor(False, device='cuda:0')\n"
          ]
        },
        {
          "output_type": "stream",
          "name": "stderr",
          "text": [
            "Epoch 40/75:  60%|██████    | 3/5 [00:01<00:00,  2.82it/s, Loss=15]"
          ]
        },
        {
          "output_type": "stream",
          "name": "stdout",
          "text": [
            "torch.Size([2048, 138, 7])\n",
            "tensor(False, device='cuda:0')\n"
          ]
        },
        {
          "output_type": "stream",
          "name": "stderr",
          "text": [
            "Epoch 40/75:  80%|████████  | 4/5 [00:01<00:00,  2.66it/s, Loss=14.8]"
          ]
        },
        {
          "output_type": "stream",
          "name": "stdout",
          "text": [
            "torch.Size([2048, 138, 7])\n",
            "tensor(False, device='cuda:0')\n"
          ]
        },
        {
          "output_type": "stream",
          "name": "stderr",
          "text": [
            "Epoch 40/75: 100%|██████████| 5/5 [00:01<00:00,  2.90it/s, Loss=14.6]\n"
          ]
        },
        {
          "output_type": "stream",
          "name": "stdout",
          "text": [
            "torch.Size([2048, 138, 7])\n",
            "tensor(False, device='cuda:0')\n",
            "End of Epoch 40, Average Loss: 14.9469\n"
          ]
        },
        {
          "output_type": "stream",
          "name": "stderr",
          "text": [
            "Epoch 41/75:  20%|██        | 1/5 [00:00<00:01,  2.41it/s, Loss=14.8]"
          ]
        },
        {
          "output_type": "stream",
          "name": "stdout",
          "text": [
            "torch.Size([2048, 138, 7])\n",
            "tensor(False, device='cuda:0')\n"
          ]
        },
        {
          "output_type": "stream",
          "name": "stderr",
          "text": [
            "Epoch 41/75:  40%|████      | 2/5 [00:00<00:01,  2.42it/s, Loss=14.8]"
          ]
        },
        {
          "output_type": "stream",
          "name": "stdout",
          "text": [
            "torch.Size([2048, 138, 7])\n",
            "tensor(False, device='cuda:0')\n"
          ]
        },
        {
          "output_type": "stream",
          "name": "stderr",
          "text": [
            "Epoch 41/75:  60%|██████    | 3/5 [00:01<00:00,  2.92it/s, Loss=14.4]"
          ]
        },
        {
          "output_type": "stream",
          "name": "stdout",
          "text": [
            "torch.Size([2048, 138, 7])\n",
            "tensor(False, device='cuda:0')\n"
          ]
        },
        {
          "output_type": "stream",
          "name": "stderr",
          "text": [
            "Epoch 41/75:  80%|████████  | 4/5 [00:01<00:00,  2.69it/s, Loss=14.6]"
          ]
        },
        {
          "output_type": "stream",
          "name": "stdout",
          "text": [
            "torch.Size([2048, 138, 7])\n",
            "tensor(False, device='cuda:0')\n"
          ]
        },
        {
          "output_type": "stream",
          "name": "stderr",
          "text": [
            "Epoch 41/75: 100%|██████████| 5/5 [00:01<00:00,  2.84it/s, Loss=14.4]\n"
          ]
        },
        {
          "output_type": "stream",
          "name": "stdout",
          "text": [
            "torch.Size([2048, 138, 7])\n",
            "tensor(False, device='cuda:0')\n",
            "End of Epoch 41, Average Loss: 14.5876\n"
          ]
        },
        {
          "output_type": "stream",
          "name": "stderr",
          "text": [
            "Epoch 42/75:  20%|██        | 1/5 [00:00<00:01,  2.39it/s, Loss=14.3]"
          ]
        },
        {
          "output_type": "stream",
          "name": "stdout",
          "text": [
            "torch.Size([2048, 138, 7])\n",
            "tensor(False, device='cuda:0')\n"
          ]
        },
        {
          "output_type": "stream",
          "name": "stderr",
          "text": [
            "Epoch 42/75:  40%|████      | 2/5 [00:00<00:01,  2.39it/s, Loss=14]"
          ]
        },
        {
          "output_type": "stream",
          "name": "stdout",
          "text": [
            "torch.Size([2048, 138, 7])\n",
            "tensor(False, device='cuda:0')\n"
          ]
        },
        {
          "output_type": "stream",
          "name": "stderr",
          "text": [
            "Epoch 42/75:  60%|██████    | 3/5 [00:01<00:00,  2.91it/s, Loss=14.3]"
          ]
        },
        {
          "output_type": "stream",
          "name": "stdout",
          "text": [
            "torch.Size([2048, 138, 7])\n",
            "tensor(False, device='cuda:0')\n"
          ]
        },
        {
          "output_type": "stream",
          "name": "stderr",
          "text": [
            "Epoch 42/75:  80%|████████  | 4/5 [00:01<00:00,  2.71it/s, Loss=13.8]"
          ]
        },
        {
          "output_type": "stream",
          "name": "stdout",
          "text": [
            "torch.Size([2048, 138, 7])\n",
            "tensor(False, device='cuda:0')\n"
          ]
        },
        {
          "output_type": "stream",
          "name": "stderr",
          "text": [
            "Epoch 42/75: 100%|██████████| 5/5 [00:01<00:00,  2.83it/s, Loss=13.8]\n"
          ]
        },
        {
          "output_type": "stream",
          "name": "stdout",
          "text": [
            "torch.Size([2048, 138, 7])\n",
            "tensor(False, device='cuda:0')\n",
            "End of Epoch 42, Average Loss: 14.0274\n"
          ]
        },
        {
          "output_type": "stream",
          "name": "stderr",
          "text": [
            "Epoch 43/75:  20%|██        | 1/5 [00:00<00:01,  2.46it/s, Loss=14.1]"
          ]
        },
        {
          "output_type": "stream",
          "name": "stdout",
          "text": [
            "torch.Size([2048, 138, 7])\n",
            "tensor(False, device='cuda:0')\n"
          ]
        },
        {
          "output_type": "stream",
          "name": "stderr",
          "text": [
            "Epoch 43/75:  40%|████      | 2/5 [00:00<00:01,  2.44it/s, Loss=13.8]"
          ]
        },
        {
          "output_type": "stream",
          "name": "stdout",
          "text": [
            "torch.Size([2048, 138, 7])\n",
            "tensor(False, device='cuda:0')\n"
          ]
        },
        {
          "output_type": "stream",
          "name": "stderr",
          "text": [
            "Epoch 43/75:  60%|██████    | 3/5 [00:01<00:00,  2.96it/s, Loss=13.7]"
          ]
        },
        {
          "output_type": "stream",
          "name": "stdout",
          "text": [
            "torch.Size([2048, 138, 7])\n",
            "tensor(False, device='cuda:0')\n"
          ]
        },
        {
          "output_type": "stream",
          "name": "stderr",
          "text": [
            "Epoch 43/75:  80%|████████  | 4/5 [00:01<00:00,  2.69it/s, Loss=13.3]"
          ]
        },
        {
          "output_type": "stream",
          "name": "stdout",
          "text": [
            "torch.Size([2048, 138, 7])\n",
            "tensor(False, device='cuda:0')\n"
          ]
        },
        {
          "output_type": "stream",
          "name": "stderr",
          "text": [
            "Epoch 43/75: 100%|██████████| 5/5 [00:01<00:00,  2.59it/s, Loss=13.4]\n"
          ]
        },
        {
          "output_type": "stream",
          "name": "stdout",
          "text": [
            "torch.Size([2048, 138, 7])\n",
            "tensor(False, device='cuda:0')\n",
            "End of Epoch 43, Average Loss: 13.6593\n"
          ]
        },
        {
          "output_type": "stream",
          "name": "stderr",
          "text": [
            "Epoch 44/75:  20%|██        | 1/5 [00:00<00:01,  3.90it/s, Loss=13.2]"
          ]
        },
        {
          "output_type": "stream",
          "name": "stdout",
          "text": [
            "torch.Size([2048, 138, 7])\n",
            "tensor(False, device='cuda:0')\n"
          ]
        },
        {
          "output_type": "stream",
          "name": "stderr",
          "text": [
            "Epoch 44/75:  40%|████      | 2/5 [00:00<00:01,  2.82it/s, Loss=13.4]"
          ]
        },
        {
          "output_type": "stream",
          "name": "stdout",
          "text": [
            "torch.Size([2048, 138, 7])\n",
            "tensor(False, device='cuda:0')\n"
          ]
        },
        {
          "output_type": "stream",
          "name": "stderr",
          "text": [
            "Epoch 44/75:  60%|██████    | 3/5 [00:00<00:00,  3.21it/s, Loss=12.9]"
          ]
        },
        {
          "output_type": "stream",
          "name": "stdout",
          "text": [
            "torch.Size([2048, 138, 7])\n",
            "tensor(False, device='cuda:0')\n"
          ]
        },
        {
          "output_type": "stream",
          "name": "stderr",
          "text": [
            "Epoch 44/75:  80%|████████  | 4/5 [00:01<00:00,  2.85it/s, Loss=13]"
          ]
        },
        {
          "output_type": "stream",
          "name": "stdout",
          "text": [
            "torch.Size([2048, 138, 7])\n",
            "tensor(False, device='cuda:0')\n"
          ]
        },
        {
          "output_type": "stream",
          "name": "stderr",
          "text": [
            "Epoch 44/75: 100%|██████████| 5/5 [00:01<00:00,  2.83it/s, Loss=13.4]\n"
          ]
        },
        {
          "output_type": "stream",
          "name": "stdout",
          "text": [
            "torch.Size([2048, 138, 7])\n",
            "tensor(False, device='cuda:0')\n",
            "End of Epoch 44, Average Loss: 13.1646\n"
          ]
        },
        {
          "output_type": "stream",
          "name": "stderr",
          "text": [
            "Epoch 45/75:  20%|██        | 1/5 [00:00<00:01,  3.90it/s, Loss=13.4]"
          ]
        },
        {
          "output_type": "stream",
          "name": "stdout",
          "text": [
            "torch.Size([2048, 138, 7])\n",
            "tensor(False, device='cuda:0')\n"
          ]
        },
        {
          "output_type": "stream",
          "name": "stderr",
          "text": [
            "Epoch 45/75:  40%|████      | 2/5 [00:00<00:01,  2.88it/s, Loss=13.1]"
          ]
        },
        {
          "output_type": "stream",
          "name": "stdout",
          "text": [
            "torch.Size([2048, 138, 7])\n",
            "tensor(False, device='cuda:0')\n"
          ]
        },
        {
          "output_type": "stream",
          "name": "stderr",
          "text": [
            "Epoch 45/75:  60%|██████    | 3/5 [00:00<00:00,  3.30it/s, Loss=12.8]"
          ]
        },
        {
          "output_type": "stream",
          "name": "stdout",
          "text": [
            "torch.Size([2048, 138, 7])\n",
            "tensor(False, device='cuda:0')\n"
          ]
        },
        {
          "output_type": "stream",
          "name": "stderr",
          "text": [
            "Epoch 45/75:  80%|████████  | 4/5 [00:01<00:00,  2.92it/s, Loss=12.6]"
          ]
        },
        {
          "output_type": "stream",
          "name": "stdout",
          "text": [
            "torch.Size([2048, 138, 7])\n",
            "tensor(False, device='cuda:0')\n"
          ]
        },
        {
          "output_type": "stream",
          "name": "stderr",
          "text": [
            "Epoch 45/75: 100%|██████████| 5/5 [00:01<00:00,  2.89it/s, Loss=12.8]\n"
          ]
        },
        {
          "output_type": "stream",
          "name": "stdout",
          "text": [
            "torch.Size([2048, 138, 7])\n",
            "tensor(False, device='cuda:0')\n",
            "End of Epoch 45, Average Loss: 12.9384\n"
          ]
        },
        {
          "output_type": "stream",
          "name": "stderr",
          "text": [
            "Epoch 46/75:  20%|██        | 1/5 [00:00<00:01,  3.99it/s, Loss=12.8]"
          ]
        },
        {
          "output_type": "stream",
          "name": "stdout",
          "text": [
            "torch.Size([2048, 138, 7])\n",
            "tensor(False, device='cuda:0')\n"
          ]
        },
        {
          "output_type": "stream",
          "name": "stderr",
          "text": [
            "Epoch 46/75:  40%|████      | 2/5 [00:00<00:01,  2.89it/s, Loss=12.5]"
          ]
        },
        {
          "output_type": "stream",
          "name": "stdout",
          "text": [
            "torch.Size([2048, 138, 7])\n",
            "tensor(False, device='cuda:0')\n"
          ]
        },
        {
          "output_type": "stream",
          "name": "stderr",
          "text": [
            "Epoch 46/75:  60%|██████    | 3/5 [00:01<00:00,  2.66it/s, Loss=12.8]"
          ]
        },
        {
          "output_type": "stream",
          "name": "stdout",
          "text": [
            "torch.Size([2048, 138, 7])\n",
            "tensor(False, device='cuda:0')\n"
          ]
        },
        {
          "output_type": "stream",
          "name": "stderr",
          "text": [
            "Epoch 46/75:  80%|████████  | 4/5 [00:01<00:00,  3.05it/s, Loss=12.8]"
          ]
        },
        {
          "output_type": "stream",
          "name": "stdout",
          "text": [
            "torch.Size([2048, 138, 7])\n",
            "tensor(False, device='cuda:0')\n"
          ]
        },
        {
          "output_type": "stream",
          "name": "stderr",
          "text": [
            "Epoch 46/75: 100%|██████████| 5/5 [00:01<00:00,  2.87it/s, Loss=12.3]\n"
          ]
        },
        {
          "output_type": "stream",
          "name": "stdout",
          "text": [
            "torch.Size([2048, 138, 7])\n",
            "tensor(False, device='cuda:0')\n",
            "End of Epoch 46, Average Loss: 12.6530\n"
          ]
        },
        {
          "output_type": "stream",
          "name": "stderr",
          "text": [
            "Epoch 47/75:  20%|██        | 1/5 [00:00<00:01,  3.97it/s, Loss=12.4]"
          ]
        },
        {
          "output_type": "stream",
          "name": "stdout",
          "text": [
            "torch.Size([2048, 138, 7])\n",
            "tensor(False, device='cuda:0')\n"
          ]
        },
        {
          "output_type": "stream",
          "name": "stderr",
          "text": [
            "Epoch 47/75:  40%|████      | 2/5 [00:00<00:01,  2.93it/s, Loss=12.3]"
          ]
        },
        {
          "output_type": "stream",
          "name": "stdout",
          "text": [
            "torch.Size([2048, 138, 7])\n",
            "tensor(False, device='cuda:0')\n"
          ]
        },
        {
          "output_type": "stream",
          "name": "stderr",
          "text": [
            "Epoch 47/75:  60%|██████    | 3/5 [00:01<00:00,  2.64it/s, Loss=12.5]"
          ]
        },
        {
          "output_type": "stream",
          "name": "stdout",
          "text": [
            "torch.Size([2048, 138, 7])\n",
            "tensor(False, device='cuda:0')\n"
          ]
        },
        {
          "output_type": "stream",
          "name": "stderr",
          "text": [
            "Epoch 47/75:  80%|████████  | 4/5 [00:01<00:00,  3.03it/s, Loss=12.4]"
          ]
        },
        {
          "output_type": "stream",
          "name": "stdout",
          "text": [
            "torch.Size([2048, 138, 7])\n",
            "tensor(False, device='cuda:0')\n"
          ]
        },
        {
          "output_type": "stream",
          "name": "stderr",
          "text": [
            "Epoch 47/75: 100%|██████████| 5/5 [00:01<00:00,  2.86it/s, Loss=12.1]\n"
          ]
        },
        {
          "output_type": "stream",
          "name": "stdout",
          "text": [
            "torch.Size([2048, 138, 7])\n",
            "tensor(False, device='cuda:0')\n",
            "End of Epoch 47, Average Loss: 12.3286\n"
          ]
        },
        {
          "output_type": "stream",
          "name": "stderr",
          "text": [
            "Epoch 48/75:  20%|██        | 1/5 [00:00<00:01,  2.37it/s, Loss=12]"
          ]
        },
        {
          "output_type": "stream",
          "name": "stdout",
          "text": [
            "torch.Size([2048, 138, 7])\n",
            "tensor(False, device='cuda:0')\n"
          ]
        },
        {
          "output_type": "stream",
          "name": "stderr",
          "text": [
            "Epoch 48/75:  40%|████      | 2/5 [00:00<00:00,  3.10it/s, Loss=11.9]"
          ]
        },
        {
          "output_type": "stream",
          "name": "stdout",
          "text": [
            "torch.Size([2048, 138, 7])\n",
            "tensor(False, device='cuda:0')\n"
          ]
        },
        {
          "output_type": "stream",
          "name": "stderr",
          "text": [
            "Epoch 48/75:  60%|██████    | 3/5 [00:01<00:00,  2.72it/s, Loss=11.9]"
          ]
        },
        {
          "output_type": "stream",
          "name": "stdout",
          "text": [
            "torch.Size([2048, 138, 7])\n",
            "tensor(False, device='cuda:0')\n"
          ]
        },
        {
          "output_type": "stream",
          "name": "stderr",
          "text": [
            "Epoch 48/75:  80%|████████  | 4/5 [00:01<00:00,  3.11it/s, Loss=11.7]"
          ]
        },
        {
          "output_type": "stream",
          "name": "stdout",
          "text": [
            "torch.Size([2048, 138, 7])\n",
            "tensor(False, device='cuda:0')\n"
          ]
        },
        {
          "output_type": "stream",
          "name": "stderr",
          "text": [
            "Epoch 48/75: 100%|██████████| 5/5 [00:01<00:00,  2.85it/s, Loss=11.9]\n"
          ]
        },
        {
          "output_type": "stream",
          "name": "stdout",
          "text": [
            "torch.Size([2048, 138, 7])\n",
            "tensor(False, device='cuda:0')\n",
            "End of Epoch 48, Average Loss: 11.8888\n"
          ]
        },
        {
          "output_type": "stream",
          "name": "stderr",
          "text": [
            "Epoch 49/75:  20%|██        | 1/5 [00:00<00:01,  2.41it/s, Loss=11.6]"
          ]
        },
        {
          "output_type": "stream",
          "name": "stdout",
          "text": [
            "torch.Size([2048, 138, 7])\n",
            "tensor(False, device='cuda:0')\n"
          ]
        },
        {
          "output_type": "stream",
          "name": "stderr",
          "text": [
            "Epoch 49/75:  40%|████      | 2/5 [00:00<00:00,  3.12it/s, Loss=11.5]"
          ]
        },
        {
          "output_type": "stream",
          "name": "stdout",
          "text": [
            "torch.Size([2048, 138, 7])\n",
            "tensor(False, device='cuda:0')\n"
          ]
        },
        {
          "output_type": "stream",
          "name": "stderr",
          "text": [
            "Epoch 49/75:  60%|██████    | 3/5 [00:01<00:00,  2.78it/s, Loss=11.3]"
          ]
        },
        {
          "output_type": "stream",
          "name": "stdout",
          "text": [
            "torch.Size([2048, 138, 7])\n",
            "tensor(False, device='cuda:0')\n"
          ]
        },
        {
          "output_type": "stream",
          "name": "stderr",
          "text": [
            "Epoch 49/75:  80%|████████  | 4/5 [00:01<00:00,  2.63it/s, Loss=11.4]"
          ]
        },
        {
          "output_type": "stream",
          "name": "stdout",
          "text": [
            "torch.Size([2048, 138, 7])\n",
            "tensor(False, device='cuda:0')\n"
          ]
        },
        {
          "output_type": "stream",
          "name": "stderr",
          "text": [
            "Epoch 49/75: 100%|██████████| 5/5 [00:01<00:00,  2.86it/s, Loss=11.3]\n"
          ]
        },
        {
          "output_type": "stream",
          "name": "stdout",
          "text": [
            "torch.Size([2048, 138, 7])\n",
            "tensor(False, device='cuda:0')\n",
            "End of Epoch 49, Average Loss: 11.4251\n"
          ]
        },
        {
          "output_type": "stream",
          "name": "stderr",
          "text": [
            "Epoch 50/75:  20%|██        | 1/5 [00:00<00:01,  2.45it/s, Loss=11.3]"
          ]
        },
        {
          "output_type": "stream",
          "name": "stdout",
          "text": [
            "torch.Size([2048, 138, 7])\n",
            "tensor(False, device='cuda:0')\n"
          ]
        },
        {
          "output_type": "stream",
          "name": "stderr",
          "text": [
            "Epoch 50/75:  40%|████      | 2/5 [00:00<00:00,  3.09it/s, Loss=10.8]"
          ]
        },
        {
          "output_type": "stream",
          "name": "stdout",
          "text": [
            "torch.Size([2048, 138, 7])\n",
            "tensor(False, device='cuda:0')\n"
          ]
        },
        {
          "output_type": "stream",
          "name": "stderr",
          "text": [
            "Epoch 50/75:  60%|██████    | 3/5 [00:01<00:00,  2.69it/s, Loss=11.3]"
          ]
        },
        {
          "output_type": "stream",
          "name": "stdout",
          "text": [
            "torch.Size([2048, 138, 7])\n",
            "tensor(False, device='cuda:0')\n"
          ]
        },
        {
          "output_type": "stream",
          "name": "stderr",
          "text": [
            "Epoch 50/75:  80%|████████  | 4/5 [00:01<00:00,  2.54it/s, Loss=11]"
          ]
        },
        {
          "output_type": "stream",
          "name": "stdout",
          "text": [
            "torch.Size([2048, 138, 7])\n",
            "tensor(False, device='cuda:0')\n"
          ]
        },
        {
          "output_type": "stream",
          "name": "stderr",
          "text": [
            "Epoch 50/75: 100%|██████████| 5/5 [00:01<00:00,  2.79it/s, Loss=11]\n"
          ]
        },
        {
          "output_type": "stream",
          "name": "stdout",
          "text": [
            "torch.Size([2048, 138, 7])\n",
            "tensor(False, device='cuda:0')\n",
            "End of Epoch 50, Average Loss: 11.0570\n"
          ]
        },
        {
          "output_type": "stream",
          "name": "stderr",
          "text": [
            "Epoch 51/75:  20%|██        | 1/5 [00:00<00:01,  2.41it/s, Loss=11.4]"
          ]
        },
        {
          "output_type": "stream",
          "name": "stdout",
          "text": [
            "torch.Size([2048, 138, 7])\n",
            "tensor(False, device='cuda:0')\n"
          ]
        },
        {
          "output_type": "stream",
          "name": "stderr",
          "text": [
            "Epoch 51/75:  40%|████      | 2/5 [00:00<00:00,  3.13it/s, Loss=10.9]"
          ]
        },
        {
          "output_type": "stream",
          "name": "stdout",
          "text": [
            "torch.Size([2048, 138, 7])\n",
            "tensor(False, device='cuda:0')\n"
          ]
        },
        {
          "output_type": "stream",
          "name": "stderr",
          "text": [
            "Epoch 51/75:  60%|██████    | 3/5 [00:01<00:00,  2.79it/s, Loss=11]"
          ]
        },
        {
          "output_type": "stream",
          "name": "stdout",
          "text": [
            "torch.Size([2048, 138, 7])\n",
            "tensor(False, device='cuda:0')\n"
          ]
        },
        {
          "output_type": "stream",
          "name": "stderr",
          "text": [
            "Epoch 51/75:  80%|████████  | 4/5 [00:01<00:00,  2.65it/s, Loss=10.8]"
          ]
        },
        {
          "output_type": "stream",
          "name": "stdout",
          "text": [
            "torch.Size([2048, 138, 7])\n",
            "tensor(False, device='cuda:0')\n"
          ]
        },
        {
          "output_type": "stream",
          "name": "stderr",
          "text": [
            "Epoch 51/75: 100%|██████████| 5/5 [00:01<00:00,  2.88it/s, Loss=10.4]\n"
          ]
        },
        {
          "output_type": "stream",
          "name": "stdout",
          "text": [
            "torch.Size([2048, 138, 7])\n",
            "tensor(False, device='cuda:0')\n",
            "End of Epoch 51, Average Loss: 10.9047\n"
          ]
        },
        {
          "output_type": "stream",
          "name": "stderr",
          "text": [
            "Epoch 52/75:  20%|██        | 1/5 [00:00<00:01,  2.45it/s, Loss=10.5]"
          ]
        },
        {
          "output_type": "stream",
          "name": "stdout",
          "text": [
            "torch.Size([2048, 138, 7])\n",
            "tensor(False, device='cuda:0')\n"
          ]
        },
        {
          "output_type": "stream",
          "name": "stderr",
          "text": [
            "Epoch 52/75:  40%|████      | 2/5 [00:00<00:01,  2.44it/s, Loss=10.7]"
          ]
        },
        {
          "output_type": "stream",
          "name": "stdout",
          "text": [
            "torch.Size([2048, 138, 7])\n",
            "tensor(False, device='cuda:0')\n"
          ]
        },
        {
          "output_type": "stream",
          "name": "stderr",
          "text": [
            "Epoch 52/75:  60%|██████    | 3/5 [00:01<00:00,  2.95it/s, Loss=10.4]"
          ]
        },
        {
          "output_type": "stream",
          "name": "stdout",
          "text": [
            "torch.Size([2048, 138, 7])\n",
            "tensor(False, device='cuda:0')\n"
          ]
        },
        {
          "output_type": "stream",
          "name": "stderr",
          "text": [
            "Epoch 52/75:  80%|████████  | 4/5 [00:01<00:00,  2.69it/s, Loss=10.8]"
          ]
        },
        {
          "output_type": "stream",
          "name": "stdout",
          "text": [
            "torch.Size([2048, 138, 7])\n",
            "tensor(False, device='cuda:0')\n"
          ]
        },
        {
          "output_type": "stream",
          "name": "stderr",
          "text": [
            "Epoch 52/75: 100%|██████████| 5/5 [00:01<00:00,  2.85it/s, Loss=10.7]\n"
          ]
        },
        {
          "output_type": "stream",
          "name": "stdout",
          "text": [
            "torch.Size([2048, 138, 7])\n",
            "tensor(False, device='cuda:0')\n",
            "End of Epoch 52, Average Loss: 10.6185\n"
          ]
        },
        {
          "output_type": "stream",
          "name": "stderr",
          "text": [
            "Epoch 53/75:  20%|██        | 1/5 [00:00<00:01,  2.49it/s, Loss=10.1]"
          ]
        },
        {
          "output_type": "stream",
          "name": "stdout",
          "text": [
            "torch.Size([2048, 138, 7])\n",
            "tensor(False, device='cuda:0')\n"
          ]
        },
        {
          "output_type": "stream",
          "name": "stderr",
          "text": [
            "Epoch 53/75:  40%|████      | 2/5 [00:00<00:01,  2.44it/s, Loss=10.7]"
          ]
        },
        {
          "output_type": "stream",
          "name": "stdout",
          "text": [
            "torch.Size([2048, 138, 7])\n",
            "tensor(False, device='cuda:0')\n"
          ]
        },
        {
          "output_type": "stream",
          "name": "stderr",
          "text": [
            "Epoch 53/75:  60%|██████    | 3/5 [00:01<00:00,  2.96it/s, Loss=10.3]"
          ]
        },
        {
          "output_type": "stream",
          "name": "stdout",
          "text": [
            "torch.Size([2048, 138, 7])\n",
            "tensor(False, device='cuda:0')\n"
          ]
        },
        {
          "output_type": "stream",
          "name": "stderr",
          "text": [
            "Epoch 53/75:  80%|████████  | 4/5 [00:01<00:00,  2.69it/s, Loss=10.4]"
          ]
        },
        {
          "output_type": "stream",
          "name": "stdout",
          "text": [
            "torch.Size([2048, 138, 7])\n",
            "tensor(False, device='cuda:0')\n"
          ]
        },
        {
          "output_type": "stream",
          "name": "stderr",
          "text": [
            "Epoch 53/75: 100%|██████████| 5/5 [00:01<00:00,  2.60it/s, Loss=9.95]\n"
          ]
        },
        {
          "output_type": "stream",
          "name": "stdout",
          "text": [
            "torch.Size([2048, 138, 7])\n",
            "tensor(False, device='cuda:0')\n",
            "End of Epoch 53, Average Loss: 10.3007\n"
          ]
        },
        {
          "output_type": "stream",
          "name": "stderr",
          "text": [
            "Epoch 54/75:  20%|██        | 1/5 [00:00<00:01,  3.86it/s, Loss=10.1]"
          ]
        },
        {
          "output_type": "stream",
          "name": "stdout",
          "text": [
            "torch.Size([2048, 138, 7])\n",
            "tensor(False, device='cuda:0')\n"
          ]
        },
        {
          "output_type": "stream",
          "name": "stderr",
          "text": [
            "Epoch 54/75:  40%|████      | 2/5 [00:00<00:01,  2.77it/s, Loss=10.2]"
          ]
        },
        {
          "output_type": "stream",
          "name": "stdout",
          "text": [
            "torch.Size([2048, 138, 7])\n",
            "tensor(False, device='cuda:0')\n"
          ]
        },
        {
          "output_type": "stream",
          "name": "stderr",
          "text": [
            "Epoch 54/75:  60%|██████    | 3/5 [00:00<00:00,  3.17it/s, Loss=9.98]"
          ]
        },
        {
          "output_type": "stream",
          "name": "stdout",
          "text": [
            "torch.Size([2048, 138, 7])\n",
            "tensor(False, device='cuda:0')\n"
          ]
        },
        {
          "output_type": "stream",
          "name": "stderr",
          "text": [
            "Epoch 54/75:  80%|████████  | 4/5 [00:01<00:00,  2.81it/s, Loss=10.2]"
          ]
        },
        {
          "output_type": "stream",
          "name": "stdout",
          "text": [
            "torch.Size([2048, 138, 7])\n",
            "tensor(False, device='cuda:0')\n"
          ]
        },
        {
          "output_type": "stream",
          "name": "stderr",
          "text": [
            "Epoch 54/75: 100%|██████████| 5/5 [00:01<00:00,  2.76it/s, Loss=9.68]\n"
          ]
        },
        {
          "output_type": "stream",
          "name": "stdout",
          "text": [
            "torch.Size([2048, 138, 7])\n",
            "tensor(False, device='cuda:0')\n",
            "End of Epoch 54, Average Loss: 10.0323\n"
          ]
        },
        {
          "output_type": "stream",
          "name": "stderr",
          "text": [
            "Epoch 55/75:  20%|██        | 1/5 [00:00<00:01,  3.78it/s, Loss=10.1]"
          ]
        },
        {
          "output_type": "stream",
          "name": "stdout",
          "text": [
            "torch.Size([2048, 138, 7])\n",
            "tensor(False, device='cuda:0')\n"
          ]
        },
        {
          "output_type": "stream",
          "name": "stderr",
          "text": [
            "Epoch 55/75:  40%|████      | 2/5 [00:00<00:01,  2.76it/s, Loss=9.93]"
          ]
        },
        {
          "output_type": "stream",
          "name": "stdout",
          "text": [
            "torch.Size([2048, 138, 7])\n",
            "tensor(False, device='cuda:0')\n"
          ]
        },
        {
          "output_type": "stream",
          "name": "stderr",
          "text": [
            "Epoch 55/75:  60%|██████    | 3/5 [00:00<00:00,  3.11it/s, Loss=9.88]"
          ]
        },
        {
          "output_type": "stream",
          "name": "stdout",
          "text": [
            "torch.Size([2048, 138, 7])\n",
            "tensor(False, device='cuda:0')\n"
          ]
        },
        {
          "output_type": "stream",
          "name": "stderr",
          "text": [
            "Epoch 55/75:  80%|████████  | 4/5 [00:01<00:00,  2.81it/s, Loss=9.97]"
          ]
        },
        {
          "output_type": "stream",
          "name": "stdout",
          "text": [
            "torch.Size([2048, 138, 7])\n",
            "tensor(False, device='cuda:0')\n"
          ]
        },
        {
          "output_type": "stream",
          "name": "stderr",
          "text": [
            "Epoch 55/75: 100%|██████████| 5/5 [00:01<00:00,  2.77it/s, Loss=9.55]\n"
          ]
        },
        {
          "output_type": "stream",
          "name": "stdout",
          "text": [
            "torch.Size([2048, 138, 7])\n",
            "tensor(False, device='cuda:0')\n",
            "End of Epoch 55, Average Loss: 9.8787\n"
          ]
        },
        {
          "output_type": "stream",
          "name": "stderr",
          "text": [
            "Epoch 56/75:  20%|██        | 1/5 [00:00<00:01,  3.88it/s, Loss=9.79]"
          ]
        },
        {
          "output_type": "stream",
          "name": "stdout",
          "text": [
            "torch.Size([2048, 138, 7])\n",
            "tensor(False, device='cuda:0')\n"
          ]
        },
        {
          "output_type": "stream",
          "name": "stderr",
          "text": [
            "Epoch 56/75:  40%|████      | 2/5 [00:00<00:01,  2.87it/s, Loss=9.74]"
          ]
        },
        {
          "output_type": "stream",
          "name": "stdout",
          "text": [
            "torch.Size([2048, 138, 7])\n",
            "tensor(False, device='cuda:0')\n"
          ]
        },
        {
          "output_type": "stream",
          "name": "stderr",
          "text": [
            "Epoch 56/75:  60%|██████    | 3/5 [00:01<00:00,  2.59it/s, Loss=9.65]"
          ]
        },
        {
          "output_type": "stream",
          "name": "stdout",
          "text": [
            "torch.Size([2048, 138, 7])\n",
            "tensor(False, device='cuda:0')\n"
          ]
        },
        {
          "output_type": "stream",
          "name": "stderr",
          "text": [
            "Epoch 56/75:  80%|████████  | 4/5 [00:01<00:00,  2.97it/s, Loss=9.53]"
          ]
        },
        {
          "output_type": "stream",
          "name": "stdout",
          "text": [
            "torch.Size([2048, 138, 7])\n",
            "tensor(False, device='cuda:0')\n"
          ]
        },
        {
          "output_type": "stream",
          "name": "stderr",
          "text": [
            "Epoch 56/75: 100%|██████████| 5/5 [00:01<00:00,  2.79it/s, Loss=9.53]\n"
          ]
        },
        {
          "output_type": "stream",
          "name": "stdout",
          "text": [
            "torch.Size([2048, 138, 7])\n",
            "tensor(False, device='cuda:0')\n",
            "End of Epoch 56, Average Loss: 9.6467\n"
          ]
        },
        {
          "output_type": "stream",
          "name": "stderr",
          "text": [
            "Epoch 57/75:  20%|██        | 1/5 [00:00<00:01,  2.33it/s, Loss=9.35]"
          ]
        },
        {
          "output_type": "stream",
          "name": "stdout",
          "text": [
            "torch.Size([2048, 138, 7])\n",
            "tensor(False, device='cuda:0')\n"
          ]
        },
        {
          "output_type": "stream",
          "name": "stderr",
          "text": [
            "Epoch 57/75:  40%|████      | 2/5 [00:00<00:00,  3.07it/s, Loss=9.37]"
          ]
        },
        {
          "output_type": "stream",
          "name": "stdout",
          "text": [
            "torch.Size([2048, 138, 7])\n",
            "tensor(False, device='cuda:0')\n"
          ]
        },
        {
          "output_type": "stream",
          "name": "stderr",
          "text": [
            "Epoch 57/75:  60%|██████    | 3/5 [00:01<00:00,  2.74it/s, Loss=9.43]"
          ]
        },
        {
          "output_type": "stream",
          "name": "stdout",
          "text": [
            "torch.Size([2048, 138, 7])\n",
            "tensor(False, device='cuda:0')\n"
          ]
        },
        {
          "output_type": "stream",
          "name": "stderr",
          "text": [
            "Epoch 57/75:  80%|████████  | 4/5 [00:01<00:00,  3.10it/s, Loss=9.29]"
          ]
        },
        {
          "output_type": "stream",
          "name": "stdout",
          "text": [
            "torch.Size([2048, 138, 7])\n",
            "tensor(False, device='cuda:0')\n"
          ]
        },
        {
          "output_type": "stream",
          "name": "stderr",
          "text": [
            "Epoch 57/75: 100%|██████████| 5/5 [00:01<00:00,  2.85it/s, Loss=9.3]\n"
          ]
        },
        {
          "output_type": "stream",
          "name": "stdout",
          "text": [
            "torch.Size([2048, 138, 7])\n",
            "tensor(False, device='cuda:0')\n",
            "End of Epoch 57, Average Loss: 9.3480\n"
          ]
        },
        {
          "output_type": "stream",
          "name": "stderr",
          "text": [
            "Epoch 58/75:  20%|██        | 1/5 [00:00<00:01,  2.41it/s, Loss=9.17]"
          ]
        },
        {
          "output_type": "stream",
          "name": "stdout",
          "text": [
            "torch.Size([2048, 138, 7])\n",
            "tensor(False, device='cuda:0')\n"
          ]
        },
        {
          "output_type": "stream",
          "name": "stderr",
          "text": [
            "Epoch 58/75:  40%|████      | 2/5 [00:00<00:00,  3.13it/s, Loss=9.18]"
          ]
        },
        {
          "output_type": "stream",
          "name": "stdout",
          "text": [
            "torch.Size([2048, 138, 7])\n",
            "tensor(False, device='cuda:0')\n"
          ]
        },
        {
          "output_type": "stream",
          "name": "stderr",
          "text": [
            "Epoch 58/75:  60%|██████    | 3/5 [00:01<00:00,  2.80it/s, Loss=9.05]"
          ]
        },
        {
          "output_type": "stream",
          "name": "stdout",
          "text": [
            "torch.Size([2048, 138, 7])\n",
            "tensor(False, device='cuda:0')\n"
          ]
        },
        {
          "output_type": "stream",
          "name": "stderr",
          "text": [
            "Epoch 58/75:  80%|████████  | 4/5 [00:01<00:00,  2.65it/s, Loss=9.18]"
          ]
        },
        {
          "output_type": "stream",
          "name": "stdout",
          "text": [
            "torch.Size([2048, 138, 7])\n",
            "tensor(False, device='cuda:0')\n"
          ]
        },
        {
          "output_type": "stream",
          "name": "stderr",
          "text": [
            "Epoch 58/75: 100%|██████████| 5/5 [00:01<00:00,  2.87it/s, Loss=8.91]\n"
          ]
        },
        {
          "output_type": "stream",
          "name": "stdout",
          "text": [
            "torch.Size([2048, 138, 7])\n",
            "tensor(False, device='cuda:0')\n",
            "End of Epoch 58, Average Loss: 9.0984\n"
          ]
        },
        {
          "output_type": "stream",
          "name": "stderr",
          "text": [
            "Epoch 59/75:  20%|██        | 1/5 [00:00<00:01,  2.46it/s, Loss=8.91]"
          ]
        },
        {
          "output_type": "stream",
          "name": "stdout",
          "text": [
            "torch.Size([2048, 138, 7])\n",
            "tensor(False, device='cuda:0')\n"
          ]
        },
        {
          "output_type": "stream",
          "name": "stderr",
          "text": [
            "Epoch 59/75:  40%|████      | 2/5 [00:00<00:01,  2.44it/s, Loss=9.12]"
          ]
        },
        {
          "output_type": "stream",
          "name": "stdout",
          "text": [
            "torch.Size([2048, 138, 7])\n",
            "tensor(False, device='cuda:0')\n"
          ]
        },
        {
          "output_type": "stream",
          "name": "stderr",
          "text": [
            "Epoch 59/75:  60%|██████    | 3/5 [00:01<00:00,  2.97it/s, Loss=8.67]"
          ]
        },
        {
          "output_type": "stream",
          "name": "stdout",
          "text": [
            "torch.Size([2048, 138, 7])\n",
            "tensor(False, device='cuda:0')\n"
          ]
        },
        {
          "output_type": "stream",
          "name": "stderr",
          "text": [
            "Epoch 59/75:  80%|████████  | 4/5 [00:01<00:00,  2.75it/s, Loss=8.72]"
          ]
        },
        {
          "output_type": "stream",
          "name": "stdout",
          "text": [
            "torch.Size([2048, 138, 7])\n",
            "tensor(False, device='cuda:0')\n"
          ]
        },
        {
          "output_type": "stream",
          "name": "stderr",
          "text": [
            "Epoch 59/75: 100%|██████████| 5/5 [00:01<00:00,  2.88it/s, Loss=8.74]\n"
          ]
        },
        {
          "output_type": "stream",
          "name": "stdout",
          "text": [
            "torch.Size([2048, 138, 7])\n",
            "tensor(False, device='cuda:0')\n",
            "End of Epoch 59, Average Loss: 8.8313\n"
          ]
        },
        {
          "output_type": "stream",
          "name": "stderr",
          "text": [
            "Epoch 60/75:  20%|██        | 1/5 [00:00<00:01,  2.41it/s, Loss=8.74]"
          ]
        },
        {
          "output_type": "stream",
          "name": "stdout",
          "text": [
            "torch.Size([2048, 138, 7])\n",
            "tensor(False, device='cuda:0')\n"
          ]
        },
        {
          "output_type": "stream",
          "name": "stderr",
          "text": [
            "Epoch 60/75:  40%|████      | 2/5 [00:00<00:01,  2.44it/s, Loss=8.67]"
          ]
        },
        {
          "output_type": "stream",
          "name": "stdout",
          "text": [
            "torch.Size([2048, 138, 7])\n",
            "tensor(False, device='cuda:0')\n"
          ]
        },
        {
          "output_type": "stream",
          "name": "stderr",
          "text": [
            "Epoch 60/75:  60%|██████    | 3/5 [00:01<00:00,  2.95it/s, Loss=8.97]"
          ]
        },
        {
          "output_type": "stream",
          "name": "stdout",
          "text": [
            "torch.Size([2048, 138, 7])\n",
            "tensor(False, device='cuda:0')\n"
          ]
        },
        {
          "output_type": "stream",
          "name": "stderr",
          "text": [
            "Epoch 60/75:  80%|████████  | 4/5 [00:01<00:00,  2.68it/s, Loss=8.83]"
          ]
        },
        {
          "output_type": "stream",
          "name": "stdout",
          "text": [
            "torch.Size([2048, 138, 7])\n",
            "tensor(False, device='cuda:0')\n"
          ]
        },
        {
          "output_type": "stream",
          "name": "stderr",
          "text": [
            "Epoch 60/75: 100%|██████████| 5/5 [00:01<00:00,  2.60it/s, Loss=8.32]\n"
          ]
        },
        {
          "output_type": "stream",
          "name": "stdout",
          "text": [
            "torch.Size([2048, 138, 7])\n",
            "tensor(False, device='cuda:0')\n",
            "End of Epoch 60, Average Loss: 8.7044\n"
          ]
        },
        {
          "output_type": "stream",
          "name": "stderr",
          "text": [
            "Epoch 61/75:  20%|██        | 1/5 [00:00<00:01,  3.81it/s, Loss=8.49]"
          ]
        },
        {
          "output_type": "stream",
          "name": "stdout",
          "text": [
            "torch.Size([2048, 138, 7])\n",
            "tensor(False, device='cuda:0')\n"
          ]
        },
        {
          "output_type": "stream",
          "name": "stderr",
          "text": [
            "Epoch 61/75:  40%|████      | 2/5 [00:00<00:01,  2.83it/s, Loss=8.45]"
          ]
        },
        {
          "output_type": "stream",
          "name": "stdout",
          "text": [
            "torch.Size([2048, 138, 7])\n",
            "tensor(False, device='cuda:0')\n"
          ]
        },
        {
          "output_type": "stream",
          "name": "stderr",
          "text": [
            "Epoch 61/75:  60%|██████    | 3/5 [00:00<00:00,  3.26it/s, Loss=8.4]"
          ]
        },
        {
          "output_type": "stream",
          "name": "stdout",
          "text": [
            "torch.Size([2048, 138, 7])\n",
            "tensor(False, device='cuda:0')\n"
          ]
        },
        {
          "output_type": "stream",
          "name": "stderr",
          "text": [
            "Epoch 61/75:  80%|████████  | 4/5 [00:01<00:00,  2.88it/s, Loss=8.17]"
          ]
        },
        {
          "output_type": "stream",
          "name": "stdout",
          "text": [
            "torch.Size([2048, 138, 7])\n",
            "tensor(False, device='cuda:0')\n"
          ]
        },
        {
          "output_type": "stream",
          "name": "stderr",
          "text": [
            "Epoch 61/75: 100%|██████████| 5/5 [00:01<00:00,  2.85it/s, Loss=8.6]\n"
          ]
        },
        {
          "output_type": "stream",
          "name": "stdout",
          "text": [
            "torch.Size([2048, 138, 7])\n",
            "tensor(False, device='cuda:0')\n",
            "End of Epoch 61, Average Loss: 8.4221\n"
          ]
        },
        {
          "output_type": "stream",
          "name": "stderr",
          "text": [
            "Epoch 62/75:  20%|██        | 1/5 [00:00<00:01,  3.99it/s, Loss=8.29]"
          ]
        },
        {
          "output_type": "stream",
          "name": "stdout",
          "text": [
            "torch.Size([2048, 138, 7])\n",
            "tensor(False, device='cuda:0')\n"
          ]
        },
        {
          "output_type": "stream",
          "name": "stderr",
          "text": [
            "Epoch 62/75:  40%|████      | 2/5 [00:00<00:01,  2.90it/s, Loss=8.42]"
          ]
        },
        {
          "output_type": "stream",
          "name": "stdout",
          "text": [
            "torch.Size([2048, 138, 7])\n",
            "tensor(False, device='cuda:0')\n"
          ]
        },
        {
          "output_type": "stream",
          "name": "stderr",
          "text": [
            "Epoch 62/75:  60%|██████    | 3/5 [00:00<00:00,  3.32it/s, Loss=8.09]"
          ]
        },
        {
          "output_type": "stream",
          "name": "stdout",
          "text": [
            "torch.Size([2048, 138, 7])\n",
            "tensor(False, device='cuda:0')\n"
          ]
        },
        {
          "output_type": "stream",
          "name": "stderr",
          "text": [
            "Epoch 62/75:  80%|████████  | 4/5 [00:01<00:00,  2.91it/s, Loss=8.32]"
          ]
        },
        {
          "output_type": "stream",
          "name": "stdout",
          "text": [
            "torch.Size([2048, 138, 7])\n",
            "tensor(False, device='cuda:0')\n"
          ]
        },
        {
          "output_type": "stream",
          "name": "stderr",
          "text": [
            "Epoch 62/75: 100%|██████████| 5/5 [00:01<00:00,  2.86it/s, Loss=8.09]\n"
          ]
        },
        {
          "output_type": "stream",
          "name": "stdout",
          "text": [
            "torch.Size([2048, 138, 7])\n",
            "tensor(False, device='cuda:0')\n",
            "End of Epoch 62, Average Loss: 8.2421\n"
          ]
        },
        {
          "output_type": "stream",
          "name": "stderr",
          "text": [
            "Epoch 63/75:  20%|██        | 1/5 [00:00<00:01,  3.72it/s, Loss=8.08]"
          ]
        },
        {
          "output_type": "stream",
          "name": "stdout",
          "text": [
            "torch.Size([2048, 138, 7])\n",
            "tensor(False, device='cuda:0')\n"
          ]
        },
        {
          "output_type": "stream",
          "name": "stderr",
          "text": [
            "Epoch 63/75:  40%|████      | 2/5 [00:00<00:01,  2.76it/s, Loss=8.12]"
          ]
        },
        {
          "output_type": "stream",
          "name": "stdout",
          "text": [
            "torch.Size([2048, 138, 7])\n",
            "tensor(False, device='cuda:0')\n"
          ]
        },
        {
          "output_type": "stream",
          "name": "stderr",
          "text": [
            "Epoch 63/75:  60%|██████    | 3/5 [00:01<00:00,  2.52it/s, Loss=7.97]"
          ]
        },
        {
          "output_type": "stream",
          "name": "stdout",
          "text": [
            "torch.Size([2048, 138, 7])\n",
            "tensor(False, device='cuda:0')\n"
          ]
        },
        {
          "output_type": "stream",
          "name": "stderr",
          "text": [
            "Epoch 63/75:  80%|████████  | 4/5 [00:01<00:00,  2.94it/s, Loss=7.94]"
          ]
        },
        {
          "output_type": "stream",
          "name": "stdout",
          "text": [
            "torch.Size([2048, 138, 7])\n",
            "tensor(False, device='cuda:0')\n"
          ]
        },
        {
          "output_type": "stream",
          "name": "stderr",
          "text": [
            "Epoch 63/75: 100%|██████████| 5/5 [00:01<00:00,  2.78it/s, Loss=7.97]\n"
          ]
        },
        {
          "output_type": "stream",
          "name": "stdout",
          "text": [
            "torch.Size([2048, 138, 7])\n",
            "tensor(False, device='cuda:0')\n",
            "End of Epoch 63, Average Loss: 8.0144\n"
          ]
        },
        {
          "output_type": "stream",
          "name": "stderr",
          "text": [
            "Epoch 64/75:  20%|██        | 1/5 [00:00<00:01,  3.95it/s, Loss=8.21]"
          ]
        },
        {
          "output_type": "stream",
          "name": "stdout",
          "text": [
            "torch.Size([2048, 138, 7])\n",
            "tensor(False, device='cuda:0')\n"
          ]
        },
        {
          "output_type": "stream",
          "name": "stderr",
          "text": [
            "Epoch 64/75:  40%|████      | 2/5 [00:00<00:01,  2.86it/s, Loss=7.84]"
          ]
        },
        {
          "output_type": "stream",
          "name": "stdout",
          "text": [
            "torch.Size([2048, 138, 7])\n",
            "tensor(False, device='cuda:0')\n"
          ]
        },
        {
          "output_type": "stream",
          "name": "stderr",
          "text": [
            "Epoch 64/75:  60%|██████    | 3/5 [00:01<00:00,  2.62it/s, Loss=7.87]"
          ]
        },
        {
          "output_type": "stream",
          "name": "stdout",
          "text": [
            "torch.Size([2048, 138, 7])\n",
            "tensor(False, device='cuda:0')\n"
          ]
        },
        {
          "output_type": "stream",
          "name": "stderr",
          "text": [
            "Epoch 64/75:  80%|████████  | 4/5 [00:01<00:00,  2.99it/s, Loss=7.97]"
          ]
        },
        {
          "output_type": "stream",
          "name": "stdout",
          "text": [
            "torch.Size([2048, 138, 7])\n",
            "tensor(False, device='cuda:0')\n"
          ]
        },
        {
          "output_type": "stream",
          "name": "stderr",
          "text": [
            "Epoch 64/75: 100%|██████████| 5/5 [00:01<00:00,  2.82it/s, Loss=7.65]\n"
          ]
        },
        {
          "output_type": "stream",
          "name": "stdout",
          "text": [
            "torch.Size([2048, 138, 7])\n",
            "tensor(False, device='cuda:0')\n",
            "End of Epoch 64, Average Loss: 7.9097\n"
          ]
        },
        {
          "output_type": "stream",
          "name": "stderr",
          "text": [
            "Epoch 65/75:  20%|██        | 1/5 [00:00<00:01,  3.83it/s, Loss=7.59]"
          ]
        },
        {
          "output_type": "stream",
          "name": "stdout",
          "text": [
            "torch.Size([2048, 138, 7])\n",
            "tensor(False, device='cuda:0')\n"
          ]
        },
        {
          "output_type": "stream",
          "name": "stderr",
          "text": [
            "Epoch 65/75:  40%|████      | 2/5 [00:00<00:01,  2.80it/s, Loss=7.65]"
          ]
        },
        {
          "output_type": "stream",
          "name": "stdout",
          "text": [
            "torch.Size([2048, 138, 7])\n",
            "tensor(False, device='cuda:0')\n"
          ]
        },
        {
          "output_type": "stream",
          "name": "stderr",
          "text": [
            "Epoch 65/75:  60%|██████    | 3/5 [00:01<00:00,  2.61it/s, Loss=7.69]"
          ]
        },
        {
          "output_type": "stream",
          "name": "stdout",
          "text": [
            "torch.Size([2048, 138, 7])\n",
            "tensor(False, device='cuda:0')\n"
          ]
        },
        {
          "output_type": "stream",
          "name": "stderr",
          "text": [
            "Epoch 65/75:  80%|████████  | 4/5 [00:01<00:00,  3.00it/s, Loss=7.69]"
          ]
        },
        {
          "output_type": "stream",
          "name": "stdout",
          "text": [
            "torch.Size([2048, 138, 7])\n",
            "tensor(False, device='cuda:0')\n"
          ]
        },
        {
          "output_type": "stream",
          "name": "stderr",
          "text": [
            "Epoch 65/75: 100%|██████████| 5/5 [00:01<00:00,  2.82it/s, Loss=7.65]\n"
          ]
        },
        {
          "output_type": "stream",
          "name": "stdout",
          "text": [
            "torch.Size([2048, 138, 7])\n",
            "tensor(False, device='cuda:0')\n",
            "End of Epoch 65, Average Loss: 7.6539\n"
          ]
        },
        {
          "output_type": "stream",
          "name": "stderr",
          "text": [
            "Epoch 66/75:  20%|██        | 1/5 [00:00<00:01,  2.41it/s, Loss=7.67]"
          ]
        },
        {
          "output_type": "stream",
          "name": "stdout",
          "text": [
            "torch.Size([2048, 138, 7])\n",
            "tensor(False, device='cuda:0')\n"
          ]
        },
        {
          "output_type": "stream",
          "name": "stderr",
          "text": [
            "Epoch 66/75:  40%|████      | 2/5 [00:00<00:00,  3.02it/s, Loss=7.63]"
          ]
        },
        {
          "output_type": "stream",
          "name": "stdout",
          "text": [
            "torch.Size([2048, 138, 7])\n",
            "tensor(False, device='cuda:0')\n"
          ]
        },
        {
          "output_type": "stream",
          "name": "stderr",
          "text": [
            "Epoch 66/75:  60%|██████    | 3/5 [00:01<00:00,  2.68it/s, Loss=7.5]"
          ]
        },
        {
          "output_type": "stream",
          "name": "stdout",
          "text": [
            "torch.Size([2048, 138, 7])\n",
            "tensor(False, device='cuda:0')\n"
          ]
        },
        {
          "output_type": "stream",
          "name": "stderr",
          "text": [
            "Epoch 66/75:  80%|████████  | 4/5 [00:01<00:00,  2.54it/s, Loss=7.52]"
          ]
        },
        {
          "output_type": "stream",
          "name": "stdout",
          "text": [
            "torch.Size([2048, 138, 7])\n",
            "tensor(False, device='cuda:0')\n"
          ]
        },
        {
          "output_type": "stream",
          "name": "stderr",
          "text": [
            "Epoch 66/75: 100%|██████████| 5/5 [00:01<00:00,  2.77it/s, Loss=7.48]\n"
          ]
        },
        {
          "output_type": "stream",
          "name": "stdout",
          "text": [
            "torch.Size([2048, 138, 7])\n",
            "tensor(False, device='cuda:0')\n",
            "End of Epoch 66, Average Loss: 7.5613\n"
          ]
        },
        {
          "output_type": "stream",
          "name": "stderr",
          "text": [
            "Epoch 67/75:  20%|██        | 1/5 [00:00<00:01,  2.33it/s, Loss=7.62]"
          ]
        },
        {
          "output_type": "stream",
          "name": "stdout",
          "text": [
            "torch.Size([2048, 138, 7])\n",
            "tensor(False, device='cuda:0')\n"
          ]
        },
        {
          "output_type": "stream",
          "name": "stderr",
          "text": [
            "Epoch 67/75:  40%|████      | 2/5 [00:00<00:00,  3.04it/s, Loss=7.41]"
          ]
        },
        {
          "output_type": "stream",
          "name": "stdout",
          "text": [
            "torch.Size([2048, 138, 7])\n",
            "tensor(False, device='cuda:0')\n"
          ]
        },
        {
          "output_type": "stream",
          "name": "stderr",
          "text": [
            "Epoch 67/75:  60%|██████    | 3/5 [00:01<00:00,  2.67it/s, Loss=7.54]"
          ]
        },
        {
          "output_type": "stream",
          "name": "stdout",
          "text": [
            "torch.Size([2048, 138, 7])\n",
            "tensor(False, device='cuda:0')\n"
          ]
        },
        {
          "output_type": "stream",
          "name": "stderr",
          "text": [
            "Epoch 67/75:  80%|████████  | 4/5 [00:01<00:00,  2.55it/s, Loss=7.26]"
          ]
        },
        {
          "output_type": "stream",
          "name": "stdout",
          "text": [
            "torch.Size([2048, 138, 7])\n",
            "tensor(False, device='cuda:0')\n"
          ]
        },
        {
          "output_type": "stream",
          "name": "stderr",
          "text": [
            "Epoch 67/75: 100%|██████████| 5/5 [00:01<00:00,  2.80it/s, Loss=7.4]\n"
          ]
        },
        {
          "output_type": "stream",
          "name": "stdout",
          "text": [
            "torch.Size([2048, 138, 7])\n",
            "tensor(False, device='cuda:0')\n",
            "End of Epoch 67, Average Loss: 7.4441\n"
          ]
        },
        {
          "output_type": "stream",
          "name": "stderr",
          "text": [
            "Epoch 68/75:  20%|██        | 1/5 [00:00<00:01,  2.40it/s, Loss=7.47]"
          ]
        },
        {
          "output_type": "stream",
          "name": "stdout",
          "text": [
            "torch.Size([2048, 138, 7])\n",
            "tensor(False, device='cuda:0')\n"
          ]
        },
        {
          "output_type": "stream",
          "name": "stderr",
          "text": [
            "Epoch 68/75:  40%|████      | 2/5 [00:00<00:01,  2.41it/s, Loss=7.24]"
          ]
        },
        {
          "output_type": "stream",
          "name": "stdout",
          "text": [
            "torch.Size([2048, 138, 7])\n",
            "tensor(False, device='cuda:0')\n"
          ]
        },
        {
          "output_type": "stream",
          "name": "stderr",
          "text": [
            "Epoch 68/75:  60%|██████    | 3/5 [00:01<00:00,  2.93it/s, Loss=7.25]"
          ]
        },
        {
          "output_type": "stream",
          "name": "stdout",
          "text": [
            "torch.Size([2048, 138, 7])\n",
            "tensor(False, device='cuda:0')\n"
          ]
        },
        {
          "output_type": "stream",
          "name": "stderr",
          "text": [
            "Epoch 68/75:  80%|████████  | 4/5 [00:01<00:00,  2.72it/s, Loss=7.02]"
          ]
        },
        {
          "output_type": "stream",
          "name": "stdout",
          "text": [
            "torch.Size([2048, 138, 7])\n",
            "tensor(False, device='cuda:0')\n"
          ]
        },
        {
          "output_type": "stream",
          "name": "stderr",
          "text": [
            "Epoch 68/75: 100%|██████████| 5/5 [00:01<00:00,  2.86it/s, Loss=7.12]\n"
          ]
        },
        {
          "output_type": "stream",
          "name": "stdout",
          "text": [
            "torch.Size([2048, 138, 7])\n",
            "tensor(False, device='cuda:0')\n",
            "End of Epoch 68, Average Loss: 7.2203\n"
          ]
        },
        {
          "output_type": "stream",
          "name": "stderr",
          "text": [
            "Epoch 69/75:  20%|██        | 1/5 [00:00<00:01,  2.39it/s, Loss=7.17]"
          ]
        },
        {
          "output_type": "stream",
          "name": "stdout",
          "text": [
            "torch.Size([2048, 138, 7])\n",
            "tensor(False, device='cuda:0')\n"
          ]
        },
        {
          "output_type": "stream",
          "name": "stderr",
          "text": [
            "Epoch 69/75:  40%|████      | 2/5 [00:00<00:01,  2.40it/s, Loss=7.47]"
          ]
        },
        {
          "output_type": "stream",
          "name": "stdout",
          "text": [
            "torch.Size([2048, 138, 7])\n",
            "tensor(False, device='cuda:0')\n"
          ]
        },
        {
          "output_type": "stream",
          "name": "stderr",
          "text": [
            "Epoch 69/75:  60%|██████    | 3/5 [00:01<00:00,  2.89it/s, Loss=7.32]"
          ]
        },
        {
          "output_type": "stream",
          "name": "stdout",
          "text": [
            "torch.Size([2048, 138, 7])\n",
            "tensor(False, device='cuda:0')\n"
          ]
        },
        {
          "output_type": "stream",
          "name": "stderr",
          "text": [
            "Epoch 69/75:  80%|████████  | 4/5 [00:01<00:00,  2.62it/s, Loss=7.22]"
          ]
        },
        {
          "output_type": "stream",
          "name": "stdout",
          "text": [
            "torch.Size([2048, 138, 7])\n",
            "tensor(False, device='cuda:0')\n"
          ]
        },
        {
          "output_type": "stream",
          "name": "stderr",
          "text": [
            "Epoch 69/75: 100%|██████████| 5/5 [00:01<00:00,  2.56it/s, Loss=7.07]\n"
          ]
        },
        {
          "output_type": "stream",
          "name": "stdout",
          "text": [
            "torch.Size([2048, 138, 7])\n",
            "tensor(False, device='cuda:0')\n",
            "End of Epoch 69, Average Loss: 7.2517\n"
          ]
        },
        {
          "output_type": "stream",
          "name": "stderr",
          "text": [
            "Epoch 70/75:  20%|██        | 1/5 [00:00<00:00,  4.05it/s, Loss=6.96]"
          ]
        },
        {
          "output_type": "stream",
          "name": "stdout",
          "text": [
            "torch.Size([2048, 138, 7])\n",
            "tensor(False, device='cuda:0')\n"
          ]
        },
        {
          "output_type": "stream",
          "name": "stderr",
          "text": [
            "Epoch 70/75:  40%|████      | 2/5 [00:00<00:01,  2.95it/s, Loss=7.38]"
          ]
        },
        {
          "output_type": "stream",
          "name": "stdout",
          "text": [
            "torch.Size([2048, 138, 7])\n",
            "tensor(False, device='cuda:0')\n"
          ]
        },
        {
          "output_type": "stream",
          "name": "stderr",
          "text": [
            "Epoch 70/75:  60%|██████    | 3/5 [00:00<00:00,  3.30it/s, Loss=6.89]"
          ]
        },
        {
          "output_type": "stream",
          "name": "stdout",
          "text": [
            "torch.Size([2048, 138, 7])\n",
            "tensor(False, device='cuda:0')\n"
          ]
        },
        {
          "output_type": "stream",
          "name": "stderr",
          "text": [
            "Epoch 70/75:  80%|████████  | 4/5 [00:01<00:00,  2.93it/s, Loss=6.89]"
          ]
        },
        {
          "output_type": "stream",
          "name": "stdout",
          "text": [
            "torch.Size([2048, 138, 7])\n",
            "tensor(False, device='cuda:0')\n"
          ]
        },
        {
          "output_type": "stream",
          "name": "stderr",
          "text": [
            "Epoch 70/75: 100%|██████████| 5/5 [00:01<00:00,  2.88it/s, Loss=6.94]\n"
          ]
        },
        {
          "output_type": "stream",
          "name": "stdout",
          "text": [
            "torch.Size([2048, 138, 7])\n",
            "tensor(False, device='cuda:0')\n",
            "End of Epoch 70, Average Loss: 7.0103\n"
          ]
        },
        {
          "output_type": "stream",
          "name": "stderr",
          "text": [
            "Epoch 71/75:  20%|██        | 1/5 [00:00<00:01,  3.99it/s, Loss=6.74]"
          ]
        },
        {
          "output_type": "stream",
          "name": "stdout",
          "text": [
            "torch.Size([2048, 138, 7])\n",
            "tensor(False, device='cuda:0')\n"
          ]
        },
        {
          "output_type": "stream",
          "name": "stderr",
          "text": [
            "Epoch 71/75:  40%|████      | 2/5 [00:00<00:01,  2.85it/s, Loss=6.78]"
          ]
        },
        {
          "output_type": "stream",
          "name": "stdout",
          "text": [
            "torch.Size([2048, 138, 7])\n",
            "tensor(False, device='cuda:0')\n"
          ]
        },
        {
          "output_type": "stream",
          "name": "stderr",
          "text": [
            "Epoch 71/75:  60%|██████    | 3/5 [00:01<00:00,  2.61it/s, Loss=6.8]"
          ]
        },
        {
          "output_type": "stream",
          "name": "stdout",
          "text": [
            "torch.Size([2048, 138, 7])\n",
            "tensor(False, device='cuda:0')\n"
          ]
        },
        {
          "output_type": "stream",
          "name": "stderr",
          "text": [
            "Epoch 71/75:  80%|████████  | 4/5 [00:01<00:00,  3.02it/s, Loss=6.78]"
          ]
        },
        {
          "output_type": "stream",
          "name": "stdout",
          "text": [
            "torch.Size([2048, 138, 7])\n",
            "tensor(False, device='cuda:0')\n"
          ]
        },
        {
          "output_type": "stream",
          "name": "stderr",
          "text": [
            "Epoch 71/75: 100%|██████████| 5/5 [00:01<00:00,  2.83it/s, Loss=7.04]\n"
          ]
        },
        {
          "output_type": "stream",
          "name": "stdout",
          "text": [
            "torch.Size([2048, 138, 7])\n",
            "tensor(False, device='cuda:0')\n",
            "End of Epoch 71, Average Loss: 6.8294\n"
          ]
        },
        {
          "output_type": "stream",
          "name": "stderr",
          "text": [
            "Epoch 72/75:  20%|██        | 1/5 [00:00<00:01,  3.91it/s, Loss=6.72]"
          ]
        },
        {
          "output_type": "stream",
          "name": "stdout",
          "text": [
            "torch.Size([2048, 138, 7])\n",
            "tensor(False, device='cuda:0')\n"
          ]
        },
        {
          "output_type": "stream",
          "name": "stderr",
          "text": [
            "Epoch 72/75:  40%|████      | 2/5 [00:00<00:01,  2.88it/s, Loss=6.57]"
          ]
        },
        {
          "output_type": "stream",
          "name": "stdout",
          "text": [
            "torch.Size([2048, 138, 7])\n",
            "tensor(False, device='cuda:0')\n"
          ]
        },
        {
          "output_type": "stream",
          "name": "stderr",
          "text": [
            "Epoch 72/75:  60%|██████    | 3/5 [00:01<00:00,  2.60it/s, Loss=6.78]"
          ]
        },
        {
          "output_type": "stream",
          "name": "stdout",
          "text": [
            "torch.Size([2048, 138, 7])\n",
            "tensor(False, device='cuda:0')\n"
          ]
        },
        {
          "output_type": "stream",
          "name": "stderr",
          "text": [
            "Epoch 72/75:  80%|████████  | 4/5 [00:01<00:00,  2.98it/s, Loss=6.78]"
          ]
        },
        {
          "output_type": "stream",
          "name": "stdout",
          "text": [
            "torch.Size([2048, 138, 7])\n",
            "tensor(False, device='cuda:0')\n"
          ]
        },
        {
          "output_type": "stream",
          "name": "stderr",
          "text": [
            "Epoch 72/75: 100%|██████████| 5/5 [00:01<00:00,  2.81it/s, Loss=6.68]\n"
          ]
        },
        {
          "output_type": "stream",
          "name": "stdout",
          "text": [
            "torch.Size([2048, 138, 7])\n",
            "tensor(False, device='cuda:0')\n",
            "End of Epoch 72, Average Loss: 6.7064\n"
          ]
        },
        {
          "output_type": "stream",
          "name": "stderr",
          "text": [
            "Epoch 73/75:  20%|██        | 1/5 [00:00<00:01,  2.33it/s, Loss=6.57]"
          ]
        },
        {
          "output_type": "stream",
          "name": "stdout",
          "text": [
            "torch.Size([2048, 138, 7])\n",
            "tensor(False, device='cuda:0')\n"
          ]
        },
        {
          "output_type": "stream",
          "name": "stderr",
          "text": [
            "Epoch 73/75:  40%|████      | 2/5 [00:00<00:01,  2.99it/s, Loss=6.4]"
          ]
        },
        {
          "output_type": "stream",
          "name": "stdout",
          "text": [
            "torch.Size([2048, 138, 7])\n",
            "tensor(False, device='cuda:0')\n"
          ]
        },
        {
          "output_type": "stream",
          "name": "stderr",
          "text": [
            "Epoch 73/75:  60%|██████    | 3/5 [00:01<00:00,  2.70it/s, Loss=6.63]"
          ]
        },
        {
          "output_type": "stream",
          "name": "stdout",
          "text": [
            "torch.Size([2048, 138, 7])\n",
            "tensor(False, device='cuda:0')\n"
          ]
        },
        {
          "output_type": "stream",
          "name": "stderr",
          "text": [
            "Epoch 73/75:  80%|████████  | 4/5 [00:01<00:00,  3.05it/s, Loss=6.38]"
          ]
        },
        {
          "output_type": "stream",
          "name": "stdout",
          "text": [
            "torch.Size([2048, 138, 7])\n",
            "tensor(False, device='cuda:0')\n"
          ]
        },
        {
          "output_type": "stream",
          "name": "stderr",
          "text": [
            "Epoch 73/75: 100%|██████████| 5/5 [00:01<00:00,  2.77it/s, Loss=6.66]\n"
          ]
        },
        {
          "output_type": "stream",
          "name": "stdout",
          "text": [
            "torch.Size([2048, 138, 7])\n",
            "tensor(False, device='cuda:0')\n",
            "End of Epoch 73, Average Loss: 6.5293\n"
          ]
        },
        {
          "output_type": "stream",
          "name": "stderr",
          "text": [
            "Epoch 74/75:  20%|██        | 1/5 [00:00<00:01,  2.37it/s, Loss=6.49]"
          ]
        },
        {
          "output_type": "stream",
          "name": "stdout",
          "text": [
            "torch.Size([2048, 138, 7])\n",
            "tensor(False, device='cuda:0')\n"
          ]
        },
        {
          "output_type": "stream",
          "name": "stderr",
          "text": [
            "Epoch 74/75:  40%|████      | 2/5 [00:00<00:00,  3.04it/s, Loss=6.35]"
          ]
        },
        {
          "output_type": "stream",
          "name": "stdout",
          "text": [
            "torch.Size([2048, 138, 7])\n",
            "tensor(False, device='cuda:0')\n"
          ]
        },
        {
          "output_type": "stream",
          "name": "stderr",
          "text": [
            "Epoch 74/75:  60%|██████    | 3/5 [00:01<00:00,  2.70it/s, Loss=6.35]"
          ]
        },
        {
          "output_type": "stream",
          "name": "stdout",
          "text": [
            "torch.Size([2048, 138, 7])\n",
            "tensor(False, device='cuda:0')\n"
          ]
        },
        {
          "output_type": "stream",
          "name": "stderr",
          "text": [
            "Epoch 74/75:  80%|████████  | 4/5 [00:01<00:00,  3.07it/s, Loss=6.4]"
          ]
        },
        {
          "output_type": "stream",
          "name": "stdout",
          "text": [
            "torch.Size([2048, 138, 7])\n",
            "tensor(False, device='cuda:0')\n"
          ]
        },
        {
          "output_type": "stream",
          "name": "stderr",
          "text": [
            "Epoch 74/75: 100%|██████████| 5/5 [00:01<00:00,  2.81it/s, Loss=6.44]\n"
          ]
        },
        {
          "output_type": "stream",
          "name": "stdout",
          "text": [
            "torch.Size([2048, 138, 7])\n",
            "tensor(False, device='cuda:0')\n",
            "End of Epoch 74, Average Loss: 6.4082\n"
          ]
        },
        {
          "output_type": "stream",
          "name": "stderr",
          "text": [
            "Epoch 75/75:  20%|██        | 1/5 [00:00<00:01,  2.42it/s, Loss=6.32]"
          ]
        },
        {
          "output_type": "stream",
          "name": "stdout",
          "text": [
            "torch.Size([2048, 138, 7])\n",
            "tensor(False, device='cuda:0')\n"
          ]
        },
        {
          "output_type": "stream",
          "name": "stderr",
          "text": [
            "Epoch 75/75:  40%|████      | 2/5 [00:00<00:00,  3.12it/s, Loss=6.24]"
          ]
        },
        {
          "output_type": "stream",
          "name": "stdout",
          "text": [
            "torch.Size([2048, 138, 7])\n",
            "tensor(False, device='cuda:0')\n"
          ]
        },
        {
          "output_type": "stream",
          "name": "stderr",
          "text": [
            "Epoch 75/75:  60%|██████    | 3/5 [00:01<00:00,  2.67it/s, Loss=6.34]"
          ]
        },
        {
          "output_type": "stream",
          "name": "stdout",
          "text": [
            "torch.Size([2048, 138, 7])\n",
            "tensor(False, device='cuda:0')\n"
          ]
        },
        {
          "output_type": "stream",
          "name": "stderr",
          "text": [
            "Epoch 75/75:  80%|████████  | 4/5 [00:01<00:00,  2.52it/s, Loss=6.36]"
          ]
        },
        {
          "output_type": "stream",
          "name": "stdout",
          "text": [
            "torch.Size([2048, 138, 7])\n",
            "tensor(False, device='cuda:0')\n"
          ]
        },
        {
          "output_type": "stream",
          "name": "stderr",
          "text": [
            "Epoch 75/75: 100%|██████████| 5/5 [00:01<00:00,  2.76it/s, Loss=6.22]"
          ]
        },
        {
          "output_type": "stream",
          "name": "stdout",
          "text": [
            "torch.Size([2048, 138, 7])\n",
            "tensor(False, device='cuda:0')\n",
            "End of Epoch 75, Average Loss: 6.2967\n",
            "Training completed\n"
          ]
        },
        {
          "output_type": "stream",
          "name": "stderr",
          "text": [
            "\n"
          ]
        }
      ],
      "source": [
        "# Jingyan's attribution\n",
        "# Modifed by Ruiheng suit for task 2\n",
        "import torch.cuda as cuda\n",
        "from tqdm import tqdm\n",
        "\n",
        "IGAT = IG_Attribution(train_dataset, args.batch_size, k=1,scale_by_inputs=False)\n",
        "\n",
        "model = MultiTaskModel(in_features, out_features).to(device)\n",
        "model = model.to(device)\n",
        "model.train()\n",
        "optimizer = torch.optim.Adam(model.parameters(), lr=0.0001)\n",
        "\n",
        "# During loss training, please carefully observe\n",
        "# where the gradient integral is calculated,\n",
        "# and then find the corresponding source code.\n",
        "# In the logic of the source code, replace the baseline with CF\n",
        "\n",
        "loss_records = []\n",
        "num_epochs = 75\n",
        "for epoch in range(num_epochs):\n",
        "    total_loss = 0\n",
        "    progress_bar = tqdm(enumerate(train_loader), total=len(train_loader), desc=f\"Epoch {epoch + 1}/{num_epochs}\")\n",
        "\n",
        "    for batch_idx, (X_train, targets, masks, event_train) in progress_bar:\n",
        "        X_train = X_train.to(device)\n",
        "        targets = [target.to(device) for target in targets]\n",
        "        masks = [mask.to(device) for mask in masks]\n",
        "\n",
        "\n",
        "        optimizer.zero_grad()\n",
        "        task_outputs_ = model(X_train)\n",
        "        expected_gradients = IGAT.shap_values(model, X_train)\n",
        "        print(expected_gradients.shape)\n",
        "        print(torch.all(expected_gradients == 0))\n",
        "\n",
        "# Modifed by Ruiheng\n",
        "\n",
        "        # smooth term\n",
        "\n",
        "        slice1 = expected_gradients[:, :, 1:]\n",
        "        slice2 = expected_gradients[:, :, :-1]\n",
        "\n",
        "        #Manhattan distance between consecutive elements\n",
        "        manhattan_distances = torch.abs(slice1 - slice2)\n",
        "\n",
        "        total_manhattan_distance = torch.sum(manhattan_distances)\n",
        "\n",
        "        # weights that could be adjusted\n",
        "        lambda1 = 0.5\n",
        "\n",
        "        loss = model.custom_loss(task_outputs_, targets, masks) + lambda1 * total_manhattan_distance\n",
        "        loss.backward()\n",
        "        optimizer.step()\n",
        "\n",
        "        total_loss += loss.item()\n",
        "        progress_bar.set_postfix({'Loss': loss.item()/100})\n",
        "\n",
        "    avg_loss = total_loss / len(train_loader)\n",
        "    loss_records.append(avg_loss)\n",
        "    print(f'End of Epoch {epoch + 1}, Average Loss: {avg_loss/100:.4f}')\n",
        "\n",
        "print('Training completed')\n"
      ],
      "id": "bC6-x4uOXp8z"
    },
    {
      "cell_type": "code",
      "execution_count": null,
      "metadata": {
        "id": "b81589df",
        "colab": {
          "base_uri": "https://localhost:8080/"
        },
        "outputId": "d1d08d90-16e0-4652-f939-c5eda47246df"
      },
      "outputs": [
        {
          "output_type": "stream",
          "name": "stdout",
          "text": [
            "[85.60099487304687, 57.5759994506836, 41.81879501342773, 31.415727615356445, 24.09520568847656, 18.8653923034668, 15.235140800476074, 12.558805465698242, 10.686873435974121, 9.258940315246582, 8.258869934082032, 7.455766391754151, 6.829504013061523, 6.358755207061767, 5.9830280303955075, 5.6607941627502445, 5.378912925720215, 5.204662322998047, 5.045217800140381, 4.868728351593018, 4.71490592956543, 4.624528980255127, 4.501636695861817, 4.404303550720215, 4.361818408966064, 4.301087284088135, 4.214171123504639, 4.173920440673828, 4.102647018432617, 4.103794860839844, 4.054755401611328, 4.025610399246216, 3.9877362728118895, 3.946920299530029, 3.9325679302215577, 3.89200439453125, 3.8786990642547607, 3.8432029247283936, 3.8270604610443115, 3.7950771331787108, 3.782989168167114, 3.760334014892578, 3.7652714252471924, 3.755790662765503, 3.723728799819946, 3.720122766494751, 3.6781174182891845, 3.6922148704528808, 3.6612690448760987, 3.673413944244385, 3.6315268516540526, 3.6589914321899415, 3.630905103683472, 3.627543640136719, 3.6349713802337646, 3.628831481933594, 3.6067318439483644, 3.5758447647094727, 3.5987904548645018, 3.596987819671631, 3.547520637512207, 3.516075944900513, 3.5346209526062013, 3.558146619796753, 3.551150321960449, 3.5496739387512206, 3.5164052486419677, 3.5143561363220215, 3.499929428100586, 3.5140758514404298, 3.516543912887573, 3.49800500869751, 3.487484312057495, 3.454833173751831, 3.4865138053894045, 3.477793788909912, 3.4818965911865236, 3.4740723609924316, 3.447214126586914, 3.466439628601074, 3.4353879928588866, 3.4391825675964354, 3.420479249954224, 3.418665647506714, 3.413852405548096, 3.4218554496765137, 3.3989977836608887, 3.3902349948883055, 3.4057971000671388, 3.3783086776733398, 3.391103219985962, 3.377634382247925, 3.3570477962493896, 3.386201095581055, 3.359896421432495, 3.353441667556763, 3.347586822509766, 3.3510226249694823, 3.3407240390777586, 3.3355319499969482, 3.3227144718170165, 3.3136468887329102, 3.32564492225647, 3.3006167888641356, 3.2831538200378416, 3.2915475368499756, 3.291100788116455, 3.2957817554473876, 3.2795278072357177, 3.247756338119507, 3.276063871383667, 3.249622917175293, 3.2375806331634522, 3.2441672325134276, 3.250001907348633, 3.2237360000610353, 3.2407732009887695, 3.2189640045166015, 3.225863981246948, 3.2144848823547365, 3.208726644515991, 3.200314998626709, 3.1943851470947267, 3.1974343776702883, 3.1819997787475587, 3.1794338703155516, 3.1819494724273683, 3.1680639743804933, 3.1706497192382814, 3.153440761566162, 3.141535997390747, 3.144003486633301, 3.149069976806641, 3.1512293338775637, 3.1334250926971436, 3.139982891082764, 3.1048452854156494, 3.1020116329193117, 3.1039080142974855, 3.106168031692505, 3.111448049545288, 3.0854217052459716, 3.095776987075806, 3.1067968368530274, 3.1063326358795167, 3.106507587432861, 3.083335018157959, 3.104284238815308, 3.0948729038238527, 3.082519292831421]\n"
          ]
        }
      ],
      "source": [
        "print(loss_records)"
      ],
      "id": "b81589df"
    },
    {
      "cell_type": "code",
      "execution_count": null,
      "metadata": {
        "id": "UGKCtD8nAq7x",
        "colab": {
          "base_uri": "https://localhost:8080/",
          "height": 448
        },
        "outputId": "384a00ea-1465-415a-a107-f9493889209e"
      },
      "outputs": [
        {
          "output_type": "execute_result",
          "data": {
            "text/plain": [
              "[<matplotlib.lines.Line2D at 0x79ba1f1ba890>]"
            ]
          },
          "metadata": {},
          "execution_count": 87
        },
        {
          "output_type": "display_data",
          "data": {
            "text/plain": [
              "<Figure size 640x480 with 1 Axes>"
            ],
            "image/png": "[encoded data removed]"
          },
          "metadata": {}
        }
      ],
      "source": [
        "import matplotlib.pyplot as plt\n",
        "plt.plot(loss_records)"
      ],
      "id": "UGKCtD8nAq7x"
    },
    {
      "cell_type": "code",
      "execution_count": null,
      "metadata": {
        "id": "iSxsp2FRMnNU"
      },
      "outputs": [],
      "source": [
        "summed_gradients_all_mid = expected_gradients.sum(dim=0)\n",
        "summed_gradients_all = summed_gradients_all_mid.sum(dim=1)"
      ],
      "id": "iSxsp2FRMnNU"
    },
    {
      "cell_type": "code",
      "execution_count": null,
      "metadata": {
        "id": "fKatDVqJM8Zc",
        "colab": {
          "base_uri": "https://localhost:8080/"
        },
        "outputId": "efdb0ff3-cd33-4d6e-cb78-41049df29bfb"
      },
      "outputs": [
        {
          "output_type": "execute_result",
          "data": {
            "text/plain": [
              "tensor([ 0.1309, -0.0489,  0.0228, -0.0712, -0.0612, -0.0339, -0.0768, -0.0242,\n",
              "        -0.0687, -0.0201,  0.0490, -0.0338, -0.0158,  0.0459, -0.0988,  0.0003,\n",
              "        -0.0222,  0.0536,  0.0022,  0.0704,  0.0308, -0.0048, -0.0740,  0.0297,\n",
              "         0.0260,  0.0485, -0.0438,  0.0684,  0.0840, -0.0903, -0.0002,  0.0014,\n",
              "         0.0300, -0.0298,  0.0396, -0.0212,  0.0251, -0.0854, -0.0490,  0.0650,\n",
              "         0.0709,  0.1129,  0.0523,  0.0285,  0.0153,  0.0340,  0.0250, -0.0243,\n",
              "         0.0020, -0.0433,  0.0184,  0.0537, -0.0383,  0.0406, -0.0031, -0.0862,\n",
              "         0.0356,  0.0067, -0.0062,  0.0719,  0.1539,  0.0224,  0.0043, -0.0407,\n",
              "        -0.0698,  0.0598, -0.1063, -0.1103,  0.0077,  0.0166, -0.0158,  0.0398,\n",
              "         0.0097,  0.0581,  0.0164,  0.0066, -0.0162,  0.0454, -0.0937,  0.0233,\n",
              "         0.0625, -0.0033,  0.0223, -0.0637,  0.0318,  0.0103,  0.0508,  0.0045,\n",
              "         0.0578,  0.0573, -0.0022,  0.1230,  0.0762, -0.0366, -0.1010,  0.0083,\n",
              "         0.0689, -0.0548,  0.1062, -0.0508, -0.0184, -0.0427,  0.1042, -0.0034,\n",
              "         0.0077, -0.0185,  0.0358, -0.1135, -0.0103, -0.0484, -0.0491, -0.1164,\n",
              "        -0.0446,  0.0445, -0.0205, -0.0160,  0.0299, -0.0297, -0.0177,  0.0332,\n",
              "         0.0758, -0.0662,  0.0057, -0.0220,  0.0224, -0.0294, -0.0570,  0.0233,\n",
              "         0.0021,  0.0637, -0.0409, -0.0565, -0.0146,  0.0749,  0.0303,  0.0168,\n",
              "        -0.1706, -0.0210], device='cuda:0', grad_fn=<SumBackward1>)"
            ]
          },
          "metadata": {},
          "execution_count": 89
        }
      ],
      "source": [
        "summed_gradients_all"
      ],
      "id": "fKatDVqJM8Zc"
    },
    {
      "cell_type": "code",
      "execution_count": null,
      "metadata": {
        "id": "cbdwMzKsMxAs"
      },
      "outputs": [],
      "source": [
        "avg = torch.mean(summed_gradients_all)"
      ],
      "id": "cbdwMzKsMxAs"
    },
    {
      "cell_type": "code",
      "execution_count": null,
      "metadata": {
        "id": "54s0bZa0M6sr",
        "colab": {
          "base_uri": "https://localhost:8080/",
          "height": 1000
        },
        "outputId": "7e1e7b59-90c9-4666-e93d-521b65c9f11f"
      },
      "outputs": [
        {
          "output_type": "stream",
          "name": "stderr",
          "text": [
            "<ipython-input-93-4ca07068794a>:56: UserWarning: Glyph 9 (\t) missing from current font.\n",
            "  plt.tight_layout()\n",
            "<ipython-input-93-4ca07068794a>:56: UserWarning: Tight layout not applied. The left and right margins cannot be made large enough to accommodate all axes decorations.\n",
            "  plt.tight_layout()\n"
          ]
        },
        {
          "output_type": "display_data",
          "data": {
            "text/plain": [
              "<Figure size 1000x1800 with 1 Axes>"
            ],
            "image/png": "[encoded data removed]"
          },
          "metadata": {}
        }
      ],
      "source": [
        "import matplotlib.pyplot as plt\n",
        "import numpy as np\n",
        "\n",
        "feature_names = X.columns.tolist()\n",
        "\n",
        "feature_contributions = [  3.1317e-04,  3.7437e-04, -5.1682e-05,  2.2592e-04, -2.0131e-04,\n",
        "        -3.6441e-04, -3.2067e-04, -2.5101e-04,  6.7171e-05,  1.8189e-04,\n",
        "        -2.4156e-04,  1.3197e-04,  1.0201e-04, -1.3636e-04,  2.5162e-04,\n",
        "         2.6706e-04,  1.0930e-04,  3.4570e-05, -2.7591e-04,  8.5229e-05,\n",
        "        -1.8313e-04,  2.1506e-04,  1.5450e-04, -1.8297e-04, -4.0744e-04,\n",
        "        -1.1741e-05, -1.1923e-04,  1.4525e-04,  2.8966e-04, -1.3588e-04,\n",
        "         8.7450e-05,  1.7980e-04, -6.4884e-04, -1.3977e-04, -1.3618e-04,\n",
        "        -1.0380e-04, -3.5504e-04, -1.0430e-05,  7.1696e-05,  5.1061e-05,\n",
        "        -2.8144e-04,  1.3035e-04,  3.7983e-04,  2.1676e-04,  1.4217e-04,\n",
        "        -2.5159e-06,  3.5781e-05,  2.1663e-05, -2.5940e-04,  1.8010e-05,\n",
        "         8.2136e-05, -4.3093e-05, -4.0406e-04, -8.0627e-05, -1.0971e-04,\n",
        "        -1.8373e-04,  1.6203e-04,  7.1805e-05, -2.9379e-04,  7.9357e-05,\n",
        "         1.5301e-04, -2.6602e-04, -2.0574e-04, -2.7544e-04, -3.1819e-05,\n",
        "        -1.9965e-04,  3.1551e-04,  2.5288e-05,  2.7265e-04, -1.5573e-04,\n",
        "         3.8845e-04, -1.4356e-04,  1.4634e-04, -9.7895e-05, -2.8566e-05,\n",
        "        -1.8296e-04,  5.4910e-04,  3.0973e-04, -5.7816e-05,  7.4754e-05,\n",
        "         1.1272e-04,  4.1589e-04,  2.8180e-05,  1.1064e-04,  2.1756e-06,\n",
        "         1.4926e-04, -3.7169e-05, -1.8163e-04,  1.5452e-04,  1.7208e-04,\n",
        "         1.7960e-04,  1.9830e-05,  9.2431e-05,  3.9056e-05, -2.6067e-04,\n",
        "         2.2586e-04,  1.8207e-04, -1.8068e-04,  1.4399e-04, -8.6204e-05,\n",
        "        -3.1204e-04,  7.1477e-05,  4.1172e-05, -3.5866e-04, -5.1865e-05,\n",
        "         1.9480e-04,  1.2219e-04,  3.1482e-04,  2.8648e-04,  3.1856e-04,\n",
        "         1.0685e-05,  2.7119e-04,  1.3675e-04, -2.5717e-04, -1.5045e-04,\n",
        "         1.8576e-04,  5.9692e-05,  1.0102e-04, -2.2886e-04, -1.0209e-04,\n",
        "         1.8473e-04,  1.2516e-04,  9.3679e-05, -1.4394e-04,  8.8879e-05,\n",
        "         1.0694e-04,  2.1169e-04, -1.8707e-04,  4.5311e-06, -9.0323e-06,\n",
        "         8.5298e-06,  8.9408e-05, -1.6008e-04,  7.7333e-05,  2.0472e-04,\n",
        "         1.9104e-05,  2.0278e-05, -7.2255e-06]\n",
        "\n",
        "feature_contributions = feature_contributions / np.sum(feature_contributions)\n",
        "sorted_indices = np.argsort(feature_contributions)[::-1]\n",
        "max15_indices = sorted_indices[:15]\n",
        "\n",
        "min15_indices = sorted_indices[-15:]\n",
        "\n",
        "selected_indices = np.concatenate([max15_indices, min15_indices])\n",
        "\n",
        "fig, ax = plt.subplots(figsize=(10, len(selected_indices) * 0.6))\n",
        "colors = ['red' if val > 0 else 'blue' for val in feature_contributions[selected_indices]]\n",
        "ax.barh(range(len(selected_indices)), feature_contributions[selected_indices], color=colors)\n",
        "\n",
        "ax.set_yticks(range(len(selected_indices)))\n",
        "ax.set_yticklabels(np.array(feature_names)[selected_indices])\n",
        "ax.set_xlabel(\"Relative Feature Contribution\")\n",
        "\n",
        "avg_contribution = 1 / len(feature_names)\n",
        "ax.axvline(avg_contribution, ls='--', color='gray')\n",
        "\n",
        "ax.text(avg_contribution+0.01, -0.5, 'Average Contribution', color='gray', rotation='vertical')\n",
        "plt.title(\"Feature Contribution Analysis\")\n",
        "plt.tight_layout()\n",
        "plt.show()"
      ],
      "id": "54s0bZa0M6sr"
    },
    {
      "cell_type": "markdown",
      "metadata": {
        "id": "fDMhSuBqsDcq"
      },
      "source": [
        "## Predictions and Evaluations\n",
        "- Rewrote the predictions and evaluations"
      ],
      "id": "fDMhSuBqsDcq"
    },
    {
      "cell_type": "code",
      "execution_count": null,
      "metadata": {
        "id": "FjZHN9dtodud",
        "colab": {
          "base_uri": "https://localhost:8080/"
        },
        "outputId": "6d792285-0037-4350-ad61-2d17d2b96038"
      },
      "outputs": [
        {
          "output_type": "stream",
          "name": "stdout",
          "text": [
            "tensor([[1.0000, 0.6321, 0.0000,  ..., 1.0000, 0.0000, 0.0000],\n",
            "        [0.0000, 0.6509, 0.0000,  ..., 0.0000, 1.0000, 0.0000],\n",
            "        [0.0000, 0.9151, 0.0000,  ..., 0.0000, 1.0000, 0.0000],\n",
            "        ...,\n",
            "        [1.0000, 0.5283, 0.0000,  ..., 1.0000, 0.0000, 0.0000],\n",
            "        [1.0000, 0.6698, 0.0000,  ..., 1.0000, 0.0000, 0.0000],\n",
            "        [1.0000, 0.5094, 0.0000,  ..., 0.0000, 0.0000, 1.0000]],\n",
            "       device='cuda:0')\n",
            "tensor([[0.5007],\n",
            "        [0.5070],\n",
            "        [0.5102],\n",
            "        ...,\n",
            "        [0.5325],\n",
            "        [0.4920],\n",
            "        [0.4879]], device='cuda:0')\n"
          ]
        }
      ],
      "source": [
        "# Created by Jingyan\n",
        "model.eval()\n",
        "test_predictions = []\n",
        "\n",
        "# Disable gradient calculations\n",
        "with torch.no_grad():\n",
        "    for X_test, _, _, _ in test_loader:\n",
        "        # Forward pass\n",
        "        X_test = X_test.to(device)\n",
        "        task_outputs_ = model(X_test)\n",
        "        print(X_test)\n",
        "        # Store the predictions\n",
        "        print(task_outputs_[0])\n",
        "        test_predictions.append(task_outputs_)\n",
        "\n",
        "# Process the predictions as needed\n",
        "# For example, converting them to a list or concatenating\n",
        "# Here we concatenate the predictions for each task\n",
        "test_predictions = [torch.cat([preds[i] for preds in test_predictions]) for i in range(len(test_predictions[0]))]\n",
        "\n"
      ],
      "id": "FjZHN9dtodud"
    },
    {
      "cell_type": "code",
      "execution_count": null,
      "metadata": {
        "id": "wjdkdW8vsv-z",
        "colab": {
          "base_uri": "https://localhost:8080/"
        },
        "outputId": "c36e42b6-2ab9-4765-8f43-859cb56d1da6"
      },
      "outputs": [
        {
          "output_type": "stream",
          "name": "stdout",
          "text": [
            "7\n",
            "torch.Size([2048, 1])\n"
          ]
        }
      ],
      "source": [
        "print(len(test_predictions))\n",
        "print(test_predictions[0].shape)"
      ],
      "id": "wjdkdW8vsv-z"
    },
    {
      "cell_type": "code",
      "execution_count": null,
      "metadata": {
        "id": "4b_hklvEu5gh"
      },
      "outputs": [],
      "source": [
        "# Created by Jingyan\n",
        "model.eval()\n",
        "train_predictions = []\n",
        "\n",
        "# Disable gradient calculations\n",
        "with torch.no_grad():\n",
        "    for X_train, _, _, _ in train_loader:\n",
        "        # Forward pass\n",
        "        X_train = X_train.to(device)\n",
        "        task_outputs_ = model(X_train)\n",
        "\n",
        "        # Store the predictions\n",
        "        train_predictions.append(task_outputs_)\n",
        "\n",
        "# Process the predictions as needed\n",
        "# For example, converting them to a list or concatenating\n",
        "# Here we concatenate the predictions for each task\n",
        "train_predictions = [torch.cat([preds[i] for preds in train_predictions]) for i in range(len(train_predictions[0]))]\n",
        "\n"
      ],
      "id": "4b_hklvEu5gh"
    },
    {
      "cell_type": "code",
      "execution_count": null,
      "metadata": {
        "id": "EhWLpzejvAOE",
        "colab": {
          "base_uri": "https://localhost:8080/"
        },
        "outputId": "1ba62129-df16-4e83-c210-328d900c0f61"
      },
      "outputs": [
        {
          "output_type": "stream",
          "name": "stdout",
          "text": [
            "7\n",
            "torch.Size([10240, 1])\n"
          ]
        }
      ],
      "source": [
        "print(len(train_predictions))\n",
        "print(train_predictions[0].shape)"
      ],
      "id": "EhWLpzejvAOE"
    },
    {
      "cell_type": "code",
      "execution_count": null,
      "metadata": {
        "id": "e65e78de"
      },
      "outputs": [],
      "source": [
        "# made by Xinyu\n",
        "def binarize_and_sum_columns(output_list):\n",
        "    def binarize_list(input_list):\n",
        "        tensor = torch.Tensor(input_list)\n",
        "        # print(input_list.max() == input_list.min())\n",
        "        binary_tensor = (tensor >= 0.5).float()\n",
        "        return binary_tensor\n",
        "\n",
        "    result = binarize_list(output_list[0])\n",
        "    for i in range(1, len(output_list)):\n",
        "        binary_column = binarize_list(output_list[i])\n",
        "        print(binary_column.max() == binary_column.min())\n",
        "        result += binary_column\n",
        "\n",
        "    return result\n"
      ],
      "id": "e65e78de"
    },
    {
      "cell_type": "code",
      "execution_count": null,
      "metadata": {
        "id": "aApvvml5vFUi",
        "colab": {
          "base_uri": "https://localhost:8080/"
        },
        "outputId": "6ed18740-cace-43f0-fa80-0a7f66d2ae55"
      },
      "outputs": [
        {
          "output_type": "stream",
          "name": "stdout",
          "text": [
            "tensor(True, device='cuda:0')\n",
            "tensor(True, device='cuda:0')\n",
            "tensor(True, device='cuda:0')\n",
            "tensor(True, device='cuda:0')\n",
            "tensor(True, device='cuda:0')\n",
            "tensor(True, device='cuda:0')\n",
            "torch.Size([10240])\n",
            "tensor(True, device='cuda:0')\n",
            "tensor(True, device='cuda:0')\n",
            "tensor(True, device='cuda:0')\n",
            "tensor(True, device='cuda:0')\n",
            "tensor(True, device='cuda:0')\n",
            "tensor(True, device='cuda:0')\n",
            "torch.Size([2048])\n"
          ]
        }
      ],
      "source": [
        "# made by Xinyu\n",
        "Y_hat_train = binarize_and_sum_columns(train_predictions)\n",
        "Y_hat_train = Y_hat_train.squeeze()\n",
        "print(Y_hat_train.shape)\n",
        "\n",
        "Y_hat_test = binarize_and_sum_columns(test_predictions)\n",
        "Y_hat_test = Y_hat_test.squeeze()\n",
        "print(Y_hat_test.shape)"
      ],
      "id": "aApvvml5vFUi"
    },
    {
      "cell_type": "code",
      "execution_count": null,
      "metadata": {
        "id": "Dx6kYDdswOm-",
        "colab": {
          "base_uri": "https://localhost:8080/"
        },
        "outputId": "c64ba974-aedc-432f-e726-484fc7c07cd7"
      },
      "outputs": [
        {
          "output_type": "stream",
          "name": "stdout",
          "text": [
            "7\n",
            "torch.Size([10240, 1])\n",
            "torch.Size([10240])\n",
            "7\n",
            "torch.Size([2048, 1])\n",
            "torch.Size([2048])\n"
          ]
        }
      ],
      "source": [
        "# created by Jingyan\n",
        "# Get the true labels and status\n",
        "train_trues = []\n",
        "train_statuses = []\n",
        "for _, train_targets, train_masks, train_status in train_loader:\n",
        "    true_label = [train_targets[i]*train_masks[i] for i in range(len(train_targets))]\n",
        "    train_trues.append(true_label)\n",
        "    train_statuses.append(train_status)\n",
        "train_trues = [torch.cat([preds[i] for preds in train_trues]) for i in range(len(train_trues[0]))]\n",
        "train_statuses = torch.cat([status for status in train_statuses])\n",
        "\n",
        "print(len(train_trues))\n",
        "print(train_trues[0].shape)\n",
        "print(train_statuses.shape)\n",
        "\n",
        "test_trues = []\n",
        "test_statuses = []\n",
        "for _, test_targets, test_masks, test_status in test_loader:\n",
        "    true_label = [test_targets[i]*test_masks[i] for i in range(len(test_targets))]\n",
        "    test_trues.append(true_label)\n",
        "    test_statuses.append(test_status)\n",
        "\n",
        "test_trues = [torch.cat([preds[i] for preds in test_trues]) for i in range(len(test_trues[0]))]\n",
        "test_statuses = torch.cat([status for status in test_statuses])\n",
        "\n",
        "print(len(test_trues))\n",
        "print(test_trues[0].shape)\n",
        "print(test_statuses.shape)"
      ],
      "id": "Dx6kYDdswOm-"
    },
    {
      "cell_type": "code",
      "execution_count": null,
      "metadata": {
        "id": "E4uyN1NU4md9",
        "colab": {
          "base_uri": "https://localhost:8080/"
        },
        "outputId": "60c2caee-7d37-4bc5-a82d-44161638bd8d"
      },
      "outputs": [
        {
          "output_type": "stream",
          "name": "stdout",
          "text": [
            "tensor(False)\n",
            "tensor(False)\n",
            "tensor(False)\n",
            "tensor(False)\n",
            "tensor(False)\n",
            "tensor(False)\n",
            "torch.Size([10240])\n",
            "tensor(False)\n",
            "tensor(False)\n",
            "tensor(False)\n",
            "tensor(False)\n",
            "tensor(False)\n",
            "tensor(False)\n",
            "torch.Size([2048])\n"
          ]
        }
      ],
      "source": [
        "# made by Xinyu\n",
        "Y_true_train = binarize_and_sum_columns(train_trues)\n",
        "Y_true_train = Y_true_train.squeeze()\n",
        "print(Y_true_train.shape)\n",
        "\n",
        "Y_true_test = binarize_and_sum_columns(test_trues)\n",
        "Y_true_test = Y_true_test.squeeze()\n",
        "print(Y_true_test.shape)\n",
        "Y_true_train = Y_true_train.to(device)\n",
        "train_statuses = train_statuses.to(device)\n",
        "test_statuses = test_statuses.to(device)\n",
        "Y_true_test = Y_true_test.to(device)"
      ],
      "id": "E4uyN1NU4md9"
    },
    {
      "cell_type": "code",
      "execution_count": null,
      "metadata": {
        "id": "ofgZj_VHjV6E",
        "colab": {
          "base_uri": "https://localhost:8080/"
        },
        "outputId": "430906b3-9a69-4ba0-96d1-3d7aa72221f7"
      },
      "outputs": [
        {
          "output_type": "stream",
          "name": "stdout",
          "text": [
            "C-index for Training Data: 0.8512\n",
            "C-index for Test Data: 0.8521\n"
          ]
        }
      ],
      "source": [
        "#made by Ruiheng\n",
        "#optimized c_index computational speed\n",
        "import torch\n",
        "\n",
        "class CindexOptimized(torch.nn.Module):\n",
        "    def __init__(self):\n",
        "        super(CindexOptimized, self).__init__()\n",
        "\n",
        "    def forward(self, y, y_hat, status):\n",
        "        if not torch.is_tensor(y):\n",
        "            y = torch.tensor(y, dtype=torch.float32)\n",
        "        if not torch.is_tensor(y_hat):\n",
        "            y_hat = torch.tensor(y_hat, dtype=torch.float32)\n",
        "        if not torch.is_tensor(status):\n",
        "            status = torch.tensor(status, dtype=torch.float32)\n",
        "\n",
        "        # replacing loop acceleration with matrix calculation\n",
        "        y_diff = y.unsqueeze(1) - y.unsqueeze(0)\n",
        "        y_hat_diff = y_hat.unsqueeze(1) - y_hat.unsqueeze(0)\n",
        "\n",
        "        # status[i] and status[j] mark whether to censored data\n",
        "        status_i = status.unsqueeze(1)\n",
        "        status_j = status.unsqueeze(0)\n",
        "\n",
        "\n",
        "        valid_pairs = torch.logical_or((y_diff <= 0) & (status_i == 1), (y_diff >= 0) & (status_j == 1)).float()\n",
        "        torch.diagonal(valid_pairs).fill_(0) #Diagonal set to 0 to eliminate interference\n",
        "\n",
        "        concordant_pairs = torch.logical_or((y_diff <= 0) & (y_hat_diff <= 0)&(status_i == 1),(y_diff >= 0) & (y_hat_diff >= 0)& (status_j == 1)).float()\n",
        "        torch.diagonal(concordant_pairs).fill_(0) #Diagonal set to 0 to eliminate interference\n",
        "        concordant_pairs = concordant_pairs.float()\n",
        "\n",
        "        c_index = concordant_pairs.sum() / valid_pairs.sum()\n",
        "\n",
        "        return c_index.item()\n",
        "\n",
        "\n",
        "cindex_calculator_optimized = CindexOptimized()\n",
        "c11_train = cindex_calculator_optimized(Y_true_train, Y_hat_train, train_statuses)\n",
        "print(f\"C-index for Training Data: {c11_train:.4f}\")\n",
        "c11_test = cindex_calculator_optimized(Y_true_test, Y_hat_test, test_statuses)\n",
        "print(f\"C-index for Test Data: {c11_test:.4f}\")\n",
        "\n",
        "#According to the way in your paper\n",
        "# c = 1 / num * Σi=1^num Σj>i [yj > yi * I[S(^yj|Xj) > S(^yi|Xi)]]"
      ],
      "id": "ofgZj_VHjV6E"
    },
    {
      "cell_type": "markdown",
      "metadata": {
        "id": "IeyDNGtppq8D"
      },
      "source": [
        "I have modified the c-index according to Dr. Li's github code, we might not need the following part. (Jingyan)"
      ],
      "id": "IeyDNGtppq8D"
    },
    {
      "cell_type": "code",
      "execution_count": null,
      "metadata": {
        "id": "mQiYshUmKOd1",
        "colab": {
          "base_uri": "https://localhost:8080/"
        },
        "outputId": "b861b9ca-1c7d-4e47-edbe-61572ae32d56"
      },
      "outputs": [
        {
          "output_type": "stream",
          "name": "stdout",
          "text": [
            "0.8511641621589661\n",
            "0.8520520925521851\n"
          ]
        }
      ],
      "source": [
        "print(c11_train)\n",
        "print(c11_test)"
      ],
      "id": "mQiYshUmKOd1"
    },
    {
      "cell_type": "code",
      "execution_count": null,
      "metadata": {
        "id": "VfB5JcPD5VAs"
      },
      "outputs": [],
      "source": [
        "class Cindex(torch.nn.Module):\n",
        "    def __init__(self):\n",
        "        super().__init__()\n",
        "\n",
        "    def forward(self, y, y_hat, status):\n",
        "\n",
        "        status_matrix = status.repeat(status.size(0), 1)\n",
        "        cmp_mask = (y.repeat(status.size(0), 1) - y) * (status_matrix - status_matrix.t())\n",
        "        concordant = torch.where(\n",
        "            (y_hat.repeat(status.size(0), 1) - y_hat) * cmp_mask > 0,\n",
        "            torch.ones_like(cmp_mask), torch.zeros_like(cmp_mask))\n",
        "\n",
        "        total_pairs = torch.where(\n",
        "            cmp_mask !=0,\n",
        "            torch.ones_like(cmp_mask), torch.zeros_like(cmp_mask))\n",
        "\n",
        "        return concordant.sum() / total_pairs.sum()"
      ],
      "id": "VfB5JcPD5VAs"
    },
    {
      "cell_type": "code",
      "execution_count": null,
      "metadata": {
        "id": "fkWYCBUK5WkC"
      },
      "outputs": [],
      "source": [
        "cindex_calculator = Cindex()\n",
        "c11_train = cindex_calculator(Y_true_train, Y_hat_train, train_statuses)"
      ],
      "id": "fkWYCBUK5WkC"
    },
    {
      "cell_type": "code",
      "execution_count": null,
      "metadata": {
        "id": "ysp1Y7Cq5wuO",
        "colab": {
          "base_uri": "https://localhost:8080/"
        },
        "outputId": "fca820f6-7c77-45bc-83f7-3bf102cb7342"
      },
      "outputs": [
        {
          "output_type": "execute_result",
          "data": {
            "text/plain": [
              "tensor(nan, device='cuda:0')"
            ]
          },
          "metadata": {},
          "execution_count": 106
        }
      ],
      "source": [
        "c11_train"
      ],
      "id": "ysp1Y7Cq5wuO"
    },
    {
      "cell_type": "code",
      "execution_count": null,
      "metadata": {
        "id": "ttyH_CNH5svH"
      },
      "outputs": [],
      "source": [
        "Y_test_train = Y_true_train.cuda(0)\n",
        "Y_hat_train = Y_hat_train.cuda(0)\n",
        "train_statuses = train_statuses.cuda(0)"
      ],
      "id": "ttyH_CNH5svH"
    }
  ],
  "metadata": {
    "accelerator": "GPU",
    "colab": {
      "provenance": [],
      "toc_visible": true,
      "gpuType": "L4",
      "machine_shape": "hm",
      "include_colab_link": true
    },
    "kernelspec": {
      "display_name": "Python 3",
      "name": "python3"
    },
    "language_info": {
      "codemirror_mode": {
        "name": "ipython",
        "version": 3
      },
      "file_extension": ".py",
      "mimetype": "text/x-python",
      "name": "python",
      "nbconvert_exporter": "python",
      "pygments_lexer": "ipython3",
      "version": "3.6.13"
    }
  },
  "nbformat": 4,
  "nbformat_minor": 5
}